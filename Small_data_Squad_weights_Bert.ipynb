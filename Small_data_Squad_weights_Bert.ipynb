{
  "cells": [
    {
      "cell_type": "markdown",
      "metadata": {
        "id": "view-in-github",
        "colab_type": "text"
      },
      "source": [
        "<a href=\"https://colab.research.google.com/github/tayademadhuri/IE643_Project/blob/main/Small_data_Squad_weights_Bert.ipynb\" target=\"_parent\"><img src=\"https://colab.research.google.com/assets/colab-badge.svg\" alt=\"Open In Colab\"/></a>"
      ]
    },
    {
      "cell_type": "markdown",
      "metadata": {
        "id": "UFMEGk0bNdHs"
      },
      "source": [
        "**Install requirements and  Libraries**"
      ]
    },
    {
      "cell_type": "code",
      "execution_count": 1,
      "metadata": {
        "colab": {
          "base_uri": "https://localhost:8080/"
        },
        "id": "oQdnSksPIgWy",
        "outputId": "0cd925d9-3526-4cbf-88f0-5cc76d4363ec"
      },
      "outputs": [
        {
          "output_type": "stream",
          "name": "stdout",
          "text": [
            "Requirement already satisfied: transformers in /usr/local/lib/python3.10/dist-packages (4.46.2)\n",
            "Requirement already satisfied: torch in /usr/local/lib/python3.10/dist-packages (2.5.1+cu121)\n",
            "Requirement already satisfied: datasets in /usr/local/lib/python3.10/dist-packages (3.1.0)\n",
            "Requirement already satisfied: filelock in /usr/local/lib/python3.10/dist-packages (from transformers) (3.16.1)\n",
            "Requirement already satisfied: huggingface-hub<1.0,>=0.23.2 in /usr/local/lib/python3.10/dist-packages (from transformers) (0.26.2)\n",
            "Requirement already satisfied: numpy>=1.17 in /usr/local/lib/python3.10/dist-packages (from transformers) (1.26.4)\n",
            "Requirement already satisfied: packaging>=20.0 in /usr/local/lib/python3.10/dist-packages (from transformers) (24.2)\n",
            "Requirement already satisfied: pyyaml>=5.1 in /usr/local/lib/python3.10/dist-packages (from transformers) (6.0.2)\n",
            "Requirement already satisfied: regex!=2019.12.17 in /usr/local/lib/python3.10/dist-packages (from transformers) (2024.9.11)\n",
            "Requirement already satisfied: requests in /usr/local/lib/python3.10/dist-packages (from transformers) (2.32.3)\n",
            "Requirement already satisfied: safetensors>=0.4.1 in /usr/local/lib/python3.10/dist-packages (from transformers) (0.4.5)\n",
            "Requirement already satisfied: tokenizers<0.21,>=0.20 in /usr/local/lib/python3.10/dist-packages (from transformers) (0.20.3)\n",
            "Requirement already satisfied: tqdm>=4.27 in /usr/local/lib/python3.10/dist-packages (from transformers) (4.66.6)\n",
            "Requirement already satisfied: typing-extensions>=4.8.0 in /usr/local/lib/python3.10/dist-packages (from torch) (4.12.2)\n",
            "Requirement already satisfied: networkx in /usr/local/lib/python3.10/dist-packages (from torch) (3.4.2)\n",
            "Requirement already satisfied: jinja2 in /usr/local/lib/python3.10/dist-packages (from torch) (3.1.4)\n",
            "Requirement already satisfied: fsspec in /usr/local/lib/python3.10/dist-packages (from torch) (2024.9.0)\n",
            "Requirement already satisfied: sympy==1.13.1 in /usr/local/lib/python3.10/dist-packages (from torch) (1.13.1)\n",
            "Requirement already satisfied: mpmath<1.4,>=1.1.0 in /usr/local/lib/python3.10/dist-packages (from sympy==1.13.1->torch) (1.3.0)\n",
            "Requirement already satisfied: pyarrow>=15.0.0 in /usr/local/lib/python3.10/dist-packages (from datasets) (17.0.0)\n",
            "Requirement already satisfied: dill<0.3.9,>=0.3.0 in /usr/local/lib/python3.10/dist-packages (from datasets) (0.3.8)\n",
            "Requirement already satisfied: pandas in /usr/local/lib/python3.10/dist-packages (from datasets) (2.2.2)\n",
            "Requirement already satisfied: xxhash in /usr/local/lib/python3.10/dist-packages (from datasets) (3.5.0)\n",
            "Requirement already satisfied: multiprocess<0.70.17 in /usr/local/lib/python3.10/dist-packages (from datasets) (0.70.16)\n",
            "Requirement already satisfied: aiohttp in /usr/local/lib/python3.10/dist-packages (from datasets) (3.11.2)\n",
            "Requirement already satisfied: aiohappyeyeballs>=2.3.0 in /usr/local/lib/python3.10/dist-packages (from aiohttp->datasets) (2.4.3)\n",
            "Requirement already satisfied: aiosignal>=1.1.2 in /usr/local/lib/python3.10/dist-packages (from aiohttp->datasets) (1.3.1)\n",
            "Requirement already satisfied: attrs>=17.3.0 in /usr/local/lib/python3.10/dist-packages (from aiohttp->datasets) (24.2.0)\n",
            "Requirement already satisfied: frozenlist>=1.1.1 in /usr/local/lib/python3.10/dist-packages (from aiohttp->datasets) (1.5.0)\n",
            "Requirement already satisfied: multidict<7.0,>=4.5 in /usr/local/lib/python3.10/dist-packages (from aiohttp->datasets) (6.1.0)\n",
            "Requirement already satisfied: propcache>=0.2.0 in /usr/local/lib/python3.10/dist-packages (from aiohttp->datasets) (0.2.0)\n",
            "Requirement already satisfied: yarl<2.0,>=1.17.0 in /usr/local/lib/python3.10/dist-packages (from aiohttp->datasets) (1.17.2)\n",
            "Requirement already satisfied: async-timeout<6.0,>=4.0 in /usr/local/lib/python3.10/dist-packages (from aiohttp->datasets) (4.0.3)\n",
            "Requirement already satisfied: charset-normalizer<4,>=2 in /usr/local/lib/python3.10/dist-packages (from requests->transformers) (3.4.0)\n",
            "Requirement already satisfied: idna<4,>=2.5 in /usr/local/lib/python3.10/dist-packages (from requests->transformers) (3.10)\n",
            "Requirement already satisfied: urllib3<3,>=1.21.1 in /usr/local/lib/python3.10/dist-packages (from requests->transformers) (2.2.3)\n",
            "Requirement already satisfied: certifi>=2017.4.17 in /usr/local/lib/python3.10/dist-packages (from requests->transformers) (2024.8.30)\n",
            "Requirement already satisfied: MarkupSafe>=2.0 in /usr/local/lib/python3.10/dist-packages (from jinja2->torch) (3.0.2)\n",
            "Requirement already satisfied: python-dateutil>=2.8.2 in /usr/local/lib/python3.10/dist-packages (from pandas->datasets) (2.8.2)\n",
            "Requirement already satisfied: pytz>=2020.1 in /usr/local/lib/python3.10/dist-packages (from pandas->datasets) (2024.2)\n",
            "Requirement already satisfied: tzdata>=2022.7 in /usr/local/lib/python3.10/dist-packages (from pandas->datasets) (2024.2)\n",
            "Requirement already satisfied: six>=1.5 in /usr/local/lib/python3.10/dist-packages (from python-dateutil>=2.8.2->pandas->datasets) (1.16.0)\n"
          ]
        }
      ],
      "source": [
        "!pip install transformers torch datasets"
      ]
    },
    {
      "cell_type": "code",
      "execution_count": 2,
      "metadata": {
        "id": "bBQQTYW5I5Zf"
      },
      "outputs": [],
      "source": [
        "import torch\n",
        "import torch.nn as nn\n",
        "from transformers import AutoModelForQuestionAnswering, AutoTokenizer, Trainer, TrainingArguments\n",
        "from datasets import load_dataset\n",
        "from transformers import default_data_collator"
      ]
    },
    {
      "cell_type": "code",
      "execution_count": 3,
      "metadata": {
        "colab": {
          "base_uri": "https://localhost:8080/"
        },
        "id": "fsxUN6g4lOBU",
        "outputId": "518c654d-dcc9-43fd-f90e-103991ae7fbc"
      },
      "outputs": [
        {
          "output_type": "stream",
          "name": "stdout",
          "text": [
            "Requirement already satisfied: evaluate in /usr/local/lib/python3.10/dist-packages (0.4.3)\n",
            "Requirement already satisfied: datasets>=2.0.0 in /usr/local/lib/python3.10/dist-packages (from evaluate) (3.1.0)\n",
            "Requirement already satisfied: numpy>=1.17 in /usr/local/lib/python3.10/dist-packages (from evaluate) (1.26.4)\n",
            "Requirement already satisfied: dill in /usr/local/lib/python3.10/dist-packages (from evaluate) (0.3.8)\n",
            "Requirement already satisfied: pandas in /usr/local/lib/python3.10/dist-packages (from evaluate) (2.2.2)\n",
            "Requirement already satisfied: requests>=2.19.0 in /usr/local/lib/python3.10/dist-packages (from evaluate) (2.32.3)\n",
            "Requirement already satisfied: tqdm>=4.62.1 in /usr/local/lib/python3.10/dist-packages (from evaluate) (4.66.6)\n",
            "Requirement already satisfied: xxhash in /usr/local/lib/python3.10/dist-packages (from evaluate) (3.5.0)\n",
            "Requirement already satisfied: multiprocess in /usr/local/lib/python3.10/dist-packages (from evaluate) (0.70.16)\n",
            "Requirement already satisfied: fsspec>=2021.05.0 in /usr/local/lib/python3.10/dist-packages (from fsspec[http]>=2021.05.0->evaluate) (2024.9.0)\n",
            "Requirement already satisfied: huggingface-hub>=0.7.0 in /usr/local/lib/python3.10/dist-packages (from evaluate) (0.26.2)\n",
            "Requirement already satisfied: packaging in /usr/local/lib/python3.10/dist-packages (from evaluate) (24.2)\n",
            "Requirement already satisfied: filelock in /usr/local/lib/python3.10/dist-packages (from datasets>=2.0.0->evaluate) (3.16.1)\n",
            "Requirement already satisfied: pyarrow>=15.0.0 in /usr/local/lib/python3.10/dist-packages (from datasets>=2.0.0->evaluate) (17.0.0)\n",
            "Requirement already satisfied: aiohttp in /usr/local/lib/python3.10/dist-packages (from datasets>=2.0.0->evaluate) (3.11.2)\n",
            "Requirement already satisfied: pyyaml>=5.1 in /usr/local/lib/python3.10/dist-packages (from datasets>=2.0.0->evaluate) (6.0.2)\n",
            "Requirement already satisfied: typing-extensions>=3.7.4.3 in /usr/local/lib/python3.10/dist-packages (from huggingface-hub>=0.7.0->evaluate) (4.12.2)\n",
            "Requirement already satisfied: charset-normalizer<4,>=2 in /usr/local/lib/python3.10/dist-packages (from requests>=2.19.0->evaluate) (3.4.0)\n",
            "Requirement already satisfied: idna<4,>=2.5 in /usr/local/lib/python3.10/dist-packages (from requests>=2.19.0->evaluate) (3.10)\n",
            "Requirement already satisfied: urllib3<3,>=1.21.1 in /usr/local/lib/python3.10/dist-packages (from requests>=2.19.0->evaluate) (2.2.3)\n",
            "Requirement already satisfied: certifi>=2017.4.17 in /usr/local/lib/python3.10/dist-packages (from requests>=2.19.0->evaluate) (2024.8.30)\n",
            "Requirement already satisfied: python-dateutil>=2.8.2 in /usr/local/lib/python3.10/dist-packages (from pandas->evaluate) (2.8.2)\n",
            "Requirement already satisfied: pytz>=2020.1 in /usr/local/lib/python3.10/dist-packages (from pandas->evaluate) (2024.2)\n",
            "Requirement already satisfied: tzdata>=2022.7 in /usr/local/lib/python3.10/dist-packages (from pandas->evaluate) (2024.2)\n",
            "Requirement already satisfied: aiohappyeyeballs>=2.3.0 in /usr/local/lib/python3.10/dist-packages (from aiohttp->datasets>=2.0.0->evaluate) (2.4.3)\n",
            "Requirement already satisfied: aiosignal>=1.1.2 in /usr/local/lib/python3.10/dist-packages (from aiohttp->datasets>=2.0.0->evaluate) (1.3.1)\n",
            "Requirement already satisfied: attrs>=17.3.0 in /usr/local/lib/python3.10/dist-packages (from aiohttp->datasets>=2.0.0->evaluate) (24.2.0)\n",
            "Requirement already satisfied: frozenlist>=1.1.1 in /usr/local/lib/python3.10/dist-packages (from aiohttp->datasets>=2.0.0->evaluate) (1.5.0)\n",
            "Requirement already satisfied: multidict<7.0,>=4.5 in /usr/local/lib/python3.10/dist-packages (from aiohttp->datasets>=2.0.0->evaluate) (6.1.0)\n",
            "Requirement already satisfied: propcache>=0.2.0 in /usr/local/lib/python3.10/dist-packages (from aiohttp->datasets>=2.0.0->evaluate) (0.2.0)\n",
            "Requirement already satisfied: yarl<2.0,>=1.17.0 in /usr/local/lib/python3.10/dist-packages (from aiohttp->datasets>=2.0.0->evaluate) (1.17.2)\n",
            "Requirement already satisfied: async-timeout<6.0,>=4.0 in /usr/local/lib/python3.10/dist-packages (from aiohttp->datasets>=2.0.0->evaluate) (4.0.3)\n",
            "Requirement already satisfied: six>=1.5 in /usr/local/lib/python3.10/dist-packages (from python-dateutil>=2.8.2->pandas->evaluate) (1.16.0)\n"
          ]
        }
      ],
      "source": [
        "!pip install evaluate"
      ]
    },
    {
      "cell_type": "code",
      "execution_count": 4,
      "metadata": {
        "id": "FHkXDy8ROcCv"
      },
      "outputs": [],
      "source": [
        "import evaluate\n",
        "from datasets import load_dataset"
      ]
    },
    {
      "cell_type": "markdown",
      "source": [
        "**Load Pre-trained Transformer Model and Tokenizer**"
      ],
      "metadata": {
        "id": "jli97gzHQ2A_"
      }
    },
    {
      "cell_type": "code",
      "execution_count": 5,
      "metadata": {
        "colab": {
          "base_uri": "https://localhost:8080/"
        },
        "id": "e_ELrkx_I7s9",
        "outputId": "a352e1a8-a700-4fab-c4a3-6f7edd8fe914"
      },
      "outputs": [
        {
          "output_type": "stream",
          "name": "stderr",
          "text": [
            "/usr/local/lib/python3.10/dist-packages/huggingface_hub/utils/_auth.py:94: UserWarning: \n",
            "The secret `HF_TOKEN` does not exist in your Colab secrets.\n",
            "To authenticate with the Hugging Face Hub, create a token in your settings tab (https://huggingface.co/settings/tokens), set it as secret in your Google Colab and restart your session.\n",
            "You will be able to reuse this secret in all of your notebooks.\n",
            "Please note that authentication is recommended but still optional to access public models or datasets.\n",
            "  warnings.warn(\n",
            "Some weights of BertForQuestionAnswering were not initialized from the model checkpoint at bert-base-uncased and are newly initialized: ['qa_outputs.bias', 'qa_outputs.weight']\n",
            "You should probably TRAIN this model on a down-stream task to be able to use it for predictions and inference.\n"
          ]
        }
      ],
      "source": [
        "model_name = \"bert-base-uncased\"\n",
        "model = AutoModelForQuestionAnswering.from_pretrained(model_name)\n",
        "tokenizer = AutoTokenizer.from_pretrained(model_name)"
      ]
    },
    {
      "cell_type": "markdown",
      "metadata": {
        "id": "EWwDrXHmTjTv"
      },
      "source": [
        "**Implement MEFT FFN Layer Algorithm**"
      ]
    },
    {
      "cell_type": "code",
      "execution_count": 6,
      "metadata": {
        "colab": {
          "base_uri": "https://localhost:8080/"
        },
        "id": "eecOVqFVIz-3",
        "outputId": "86884f1e-bc41-4dc2-ba22-4e5bdbbe2b24"
      },
      "outputs": [
        {
          "output_type": "stream",
          "name": "stdout",
          "text": [
            "Original FFN Weights for Layer 11:\n",
            "Wk (FFN weight matrix): tensor([[ 0.0587,  0.0547, -0.0215,  ...,  0.0323,  0.0472, -0.0258],\n",
            "        [-0.0112, -0.0313, -0.0500,  ...,  0.0239,  0.0018,  0.0107],\n",
            "        [ 0.0021,  0.0415, -0.0370,  ...,  0.0286,  0.0118, -0.0310],\n",
            "        ...,\n",
            "        [ 0.0422,  0.0793,  0.0202,  ...,  0.0414, -0.0607,  0.0131],\n",
            "        [-0.0060,  0.0452,  0.0393,  ..., -0.0117,  0.0522,  0.0407],\n",
            "        [-0.0437, -0.0512,  0.0376,  ...,  0.0037,  0.0824, -0.0069]])\n",
            "Wv (FFN value matrix): tensor([-0.0976, -0.0618, -0.0515,  ..., -0.1151, -0.0466, -0.1224])\n",
            "Adapter with MoE added to FFN layer 11.\n",
            "FFN weights after adding adapter:\n",
            "tensor([[-0.0028,  0.0037, -0.0124,  ...,  0.0243, -0.0075,  0.0259],\n",
            "        [ 0.0214,  0.0009, -0.0108,  ...,  0.0154,  0.0278,  0.0144],\n",
            "        [-0.0231,  0.0040,  0.0163,  ...,  0.0255, -0.0199, -0.0243],\n",
            "        ...,\n",
            "        [ 0.0187,  0.0017, -0.0002,  ..., -0.0020, -0.0344, -0.0318],\n",
            "        [-0.0091,  0.0087,  0.0317,  ...,  0.0078,  0.0310, -0.0307],\n",
            "        [-0.0271,  0.0172,  0.0041,  ..., -0.0086,  0.0160,  0.0072]])\n",
            "tensor([[ 0.0076, -0.0423, -0.0303,  ...,  0.0227, -0.0470, -0.0315],\n",
            "        [-0.0605, -0.0524,  0.0253,  ...,  0.0594,  0.0233,  0.0320],\n",
            "        [ 0.0177, -0.0166,  0.0004,  ...,  0.0580, -0.0157,  0.0059],\n",
            "        ...,\n",
            "        [ 0.0302,  0.0115,  0.0077,  ..., -0.0170,  0.0567,  0.0055],\n",
            "        [-0.0434, -0.0543,  0.0124,  ..., -0.0189, -0.0015,  0.0240],\n",
            "        [ 0.0211,  0.0147,  0.0034,  ..., -0.0369, -0.0591, -0.0049]])\n"
          ]
        },
        {
          "output_type": "execute_result",
          "data": {
            "text/plain": [
              "('modified_transformer_with_moe_adapter/tokenizer_config.json',\n",
              " 'modified_transformer_with_moe_adapter/special_tokens_map.json',\n",
              " 'modified_transformer_with_moe_adapter/vocab.txt',\n",
              " 'modified_transformer_with_moe_adapter/added_tokens.json',\n",
              " 'modified_transformer_with_moe_adapter/tokenizer.json')"
            ]
          },
          "metadata": {},
          "execution_count": 6
        }
      ],
      "source": [
        "# Access and Print Original FFN Weights (Wk, Wv)\n",
        "def print_ffn_weights(layer_idx):\n",
        "    ffn_layer = model.bert.encoder.layer[layer_idx].intermediate.dense\n",
        "    print(f\"Original FFN Weights for Layer {layer_idx}:\")\n",
        "    print(\"Wk (FFN weight matrix):\", ffn_layer.weight.data)\n",
        "    print(\"Wv (FFN value matrix):\", ffn_layer.bias.data)\n",
        "\n",
        "layer_idx = 11  # last layer, example\n",
        "print_ffn_weights(layer_idx)\n",
        "\n",
        "# Define MoE Adapter Layer as Per Algorithm\n",
        "class MoEAdapterLayer(nn.Module):\n",
        "    def __init__(self, input_dim, expert_dim=256, num_experts=4, top_k=2):\n",
        "        super(MoEAdapterLayer, self).__init__()\n",
        "        self.experts_WA = nn.ModuleList([nn.Linear(input_dim, expert_dim) for _ in range(num_experts)])\n",
        "        self.experts_WB = nn.ModuleList([nn.Linear(expert_dim, input_dim) for _ in range(num_experts)])\n",
        "        self.router_Wg = nn.Linear(input_dim, num_experts)\n",
        "        self.top_k = top_k\n",
        "\n",
        "    def forward(self, h):\n",
        "        batch_size = h.size(0)\n",
        "        gating_probs = torch.softmax(self.router_Wg(h), dim=-1)  # Step: Wg(h)\n",
        "        selected_experts = gating_probs.topk(self.top_k, dim=-1).indices  # Select top K experts per input\n",
        "        activation = torch.zeros(batch_size, h.size(-1)).to(h.device)  # Initialize the activation\n",
        "\n",
        "        for batch_idx, expert_indices in enumerate(selected_experts):\n",
        "            expert_activations = []\n",
        "            for expert_idx in expert_indices:\n",
        "                expert_WA = self.experts_WA[expert_idx]\n",
        "                expert_WB = self.experts_WB[expert_idx]\n",
        "                ai = torch.relu(expert_WA(h[batch_idx]))  # Sparse activation: ReLU(h * WAi)\n",
        "                expert_activations.append(expert_WB(ai))  # WB(ai)\n",
        "\n",
        "            # Gather and sum activations\n",
        "            activation[batch_idx] = torch.sum(torch.stack(expert_activations), dim=0)\n",
        "        return activation + h  # Return F(h) + Adapter Output\n",
        "\n",
        "# Add MoE Adapter to FFN Layer\n",
        "def add_moe_adapter_to_ffn(model, layer_idx):\n",
        "    ffn_layer = model.bert.encoder.layer[layer_idx].intermediate.dense\n",
        "    input_dim = ffn_layer.in_features\n",
        "    adapter_layer = MoEAdapterLayer(input_dim)\n",
        "    model.bert.encoder.layer[layer_idx].intermediate.moe_adapter = adapter_layer\n",
        "    print(f\"Adapter with MoE added to FFN layer {layer_idx}.\")\n",
        "\n",
        "# Apply adapter to layer 11 as an example\n",
        "add_moe_adapter_to_ffn(model, layer_idx)\n",
        "\n",
        "# Print Modified FFN Weights (WA, WB)\n",
        "print(\"FFN weights after adding adapter:\")\n",
        "print(model.bert.encoder.layer[layer_idx].intermediate.moe_adapter.experts_WA[0].weight.data)\n",
        "print(model.bert.encoder.layer[layer_idx].intermediate.moe_adapter.experts_WB[0].weight.data)\n",
        "\n",
        "# Save Modified Model\n",
        "model.save_pretrained(\"modified_transformer_with_moe_adapter\")\n",
        "tokenizer.save_pretrained(\"modified_transformer_with_moe_adapter\")\n"
      ]
    },
    {
      "cell_type": "code",
      "execution_count": 7,
      "metadata": {
        "colab": {
          "base_uri": "https://localhost:8080/"
        },
        "id": "tkiDbBF2i3lZ",
        "outputId": "7aba2d8b-3d03-49d1-c332-31310c55bb52"
      },
      "outputs": [
        {
          "output_type": "stream",
          "name": "stderr",
          "text": [
            "Some weights of the model checkpoint at modified_transformer_with_moe_adapter were not used when initializing BertForQuestionAnswering: ['bert.encoder.layer.11.intermediate.moe_adapter.experts_WA.0.bias', 'bert.encoder.layer.11.intermediate.moe_adapter.experts_WA.0.weight', 'bert.encoder.layer.11.intermediate.moe_adapter.experts_WA.1.bias', 'bert.encoder.layer.11.intermediate.moe_adapter.experts_WA.1.weight', 'bert.encoder.layer.11.intermediate.moe_adapter.experts_WA.2.bias', 'bert.encoder.layer.11.intermediate.moe_adapter.experts_WA.2.weight', 'bert.encoder.layer.11.intermediate.moe_adapter.experts_WA.3.bias', 'bert.encoder.layer.11.intermediate.moe_adapter.experts_WA.3.weight', 'bert.encoder.layer.11.intermediate.moe_adapter.experts_WB.0.bias', 'bert.encoder.layer.11.intermediate.moe_adapter.experts_WB.0.weight', 'bert.encoder.layer.11.intermediate.moe_adapter.experts_WB.1.bias', 'bert.encoder.layer.11.intermediate.moe_adapter.experts_WB.1.weight', 'bert.encoder.layer.11.intermediate.moe_adapter.experts_WB.2.bias', 'bert.encoder.layer.11.intermediate.moe_adapter.experts_WB.2.weight', 'bert.encoder.layer.11.intermediate.moe_adapter.experts_WB.3.bias', 'bert.encoder.layer.11.intermediate.moe_adapter.experts_WB.3.weight', 'bert.encoder.layer.11.intermediate.moe_adapter.router_Wg.bias', 'bert.encoder.layer.11.intermediate.moe_adapter.router_Wg.weight']\n",
            "- This IS expected if you are initializing BertForQuestionAnswering from the checkpoint of a model trained on another task or with another architecture (e.g. initializing a BertForSequenceClassification model from a BertForPreTraining model).\n",
            "- This IS NOT expected if you are initializing BertForQuestionAnswering from the checkpoint of a model that you expect to be exactly identical (initializing a BertForSequenceClassification model from a BertForSequenceClassification model).\n"
          ]
        }
      ],
      "source": [
        "from transformers import AutoTokenizer, Trainer, TrainingArguments, AutoModelForQuestionAnswering\n",
        "\n",
        "# Load modified model and tokenizer\n",
        "model_path = \"modified_transformer_with_moe_adapter\"\n",
        "model = AutoModelForQuestionAnswering.from_pretrained(model_path)\n",
        "tokenizer = AutoTokenizer.from_pretrained(model_path)\n"
      ]
    },
    {
      "cell_type": "markdown",
      "metadata": {
        "id": "KLADqtGVxHVQ"
      },
      "source": [
        "**Load Dataset**"
      ]
    },
    {
      "cell_type": "code",
      "execution_count": 8,
      "metadata": {
        "colab": {
          "base_uri": "https://localhost:8080/"
        },
        "id": "pABka39OsWMh",
        "outputId": "963d9ecb-4460-4e01-a137-20a2f42a0263"
      },
      "outputs": [
        {
          "output_type": "stream",
          "name": "stdout",
          "text": [
            "Original training set size: 87599\n",
            "Training subset size: 8759\n",
            "Original validation set size: 10570\n",
            "Validation subset size: 1057\n"
          ]
        }
      ],
      "source": [
        "import evaluate\n",
        "from datasets import load_dataset, DatasetDict # Import DatasetDict\n",
        "\n",
        "# Load the SQuAD dataset\n",
        "dataset1 = load_dataset(\"squad\")\n",
        "\n",
        "# Define the desired subset size (10%)\n",
        "subset_size = 0.1\n",
        "\n",
        "# Function to create a subset of a given split\n",
        "def create_subset(split_name):\n",
        "    num_samples = int(len(dataset1[split_name]) * subset_size)\n",
        "    subset = dataset1[split_name].shuffle(seed=42).select(range(num_samples))\n",
        "    return subset\n",
        "\n",
        "# Create subsets for training and validation\n",
        "train_subset = create_subset(\"train\")\n",
        "validation_subset = create_subset(\"validation\")\n",
        "\n",
        "# Create a new DatasetDict with the subsets\n",
        "# Use DatasetDict constructor instead of dataset.from_dict\n",
        "dataset = DatasetDict({\n",
        "    \"train\": train_subset,\n",
        "    \"validation\": validation_subset\n",
        "})\n",
        "\n",
        "# Print some info about the subsets\n",
        "print(f\"Original training set size: {len(dataset1['train'])}\")\n",
        "print(f\"Training subset size: {len(train_subset)}\")\n",
        "print(f\"Original validation set size: {len(dataset1['validation'])}\")\n",
        "print(f\"Validation subset size: {len(validation_subset)}\")\n",
        "\n",
        "# Use the evaluate library to load the SQuAD metric (if needed)\n",
        "metric = evaluate.load(\"squad\")"
      ]
    },
    {
      "cell_type": "code",
      "execution_count": 9,
      "metadata": {
        "colab": {
          "base_uri": "https://localhost:8080/"
        },
        "id": "Q4abJAYmrCiI",
        "outputId": "b6f644ba-20f7-467f-b353-860be929a16f"
      },
      "outputs": [
        {
          "output_type": "execute_result",
          "data": {
            "text/plain": [
              "DatasetDict({\n",
              "    train: Dataset({\n",
              "        features: ['id', 'title', 'context', 'question', 'answers'],\n",
              "        num_rows: 8759\n",
              "    })\n",
              "    validation: Dataset({\n",
              "        features: ['id', 'title', 'context', 'question', 'answers'],\n",
              "        num_rows: 1057\n",
              "    })\n",
              "})"
            ]
          },
          "metadata": {},
          "execution_count": 9
        }
      ],
      "source": [
        "dataset"
      ]
    },
    {
      "cell_type": "code",
      "execution_count": 10,
      "metadata": {
        "colab": {
          "base_uri": "https://localhost:8080/"
        },
        "id": "gkIp-8-G0sVN",
        "outputId": "dce05cc5-f5ba-4747-96ec-cebd9bae937c"
      },
      "outputs": [
        {
          "output_type": "execute_result",
          "data": {
            "text/plain": [
              "{'id': '56fb7d7a8ddada1400cd6479',\n",
              " 'title': 'Middle_Ages',\n",
              " 'context': \"Under the Capetian dynasty France slowly began to expand its authority over the nobility, growing out of the Île-de-France to exert control over more of the country in the 11th and 12th centuries. They faced a powerful rival in the Dukes of Normandy, who in 1066 under William the Conqueror (duke 1035–1087), conquered England (r. 1066–87) and created a cross-channel empire that lasted, in various forms, throughout the rest of the Middle Ages. Normans also settled in Sicily and southern Italy, when Robert Guiscard (d. 1085) landed there in 1059 and established a duchy that later became the Kingdom of Sicily. Under the Angevin dynasty of Henry II (r. 1154–89) and his son Richard I (r. 1189–99), the kings of England ruled over England and large areas of France,[W] brought to the family by Henry II's marriage to Eleanor of Aquitaine (d. 1204), heiress to much of southern France.[X] Richard's younger brother John (r. 1199–1216) lost Normandy and the rest of the northern French possessions in 1204 to the French King Philip II Augustus (r. 1180–1223). This led to dissension among the English nobility, while John's financial exactions to pay for his unsuccessful attempts to regain Normandy led in 1215 to Magna Carta, a charter that confirmed the rights and privileges of free men in England. Under Henry III (r. 1216–72), John's son, further concessions were made to the nobility, and royal power was diminished. The French monarchy continued to make gains against the nobility during the late 12th and 13th centuries, bringing more territories within the kingdom under their personal rule and centralising the royal administration. Under Louis IX (r. 1226–70), royal prestige rose to new heights as Louis served as a mediator for most of Europe.[Y]\",\n",
              " 'question': 'To what dynasty did Henry II belong?',\n",
              " 'answers': {'text': ['Angevin'], 'answer_start': [624]}}"
            ]
          },
          "metadata": {},
          "execution_count": 10
        }
      ],
      "source": [
        "for i, example in enumerate(dataset[\"train\"]):\n",
        "    if len(tokenizer(example[\"question\"], example[\"context\"])[\"input_ids\"]) > 384:\n",
        "        break\n",
        "example = dataset[\"train\"][i]\n",
        "example"
      ]
    },
    {
      "cell_type": "code",
      "execution_count": 11,
      "metadata": {
        "colab": {
          "base_uri": "https://localhost:8080/"
        },
        "id": "vz1zIe6f06Bc",
        "outputId": "45de4e8c-10f5-421c-cd18-84a8fc898ec7"
      },
      "outputs": [
        {
          "output_type": "execute_result",
          "data": {
            "text/plain": [
              "422"
            ]
          },
          "metadata": {},
          "execution_count": 11
        }
      ],
      "source": [
        "len(tokenizer(example[\"question\"], example[\"context\"])[\"input_ids\"])"
      ]
    },
    {
      "cell_type": "code",
      "execution_count": 12,
      "metadata": {
        "colab": {
          "base_uri": "https://localhost:8080/",
          "height": 49,
          "referenced_widgets": [
            "13e20e39b16c401aae2df718883f7383",
            "9a49ecb5c148471a86f42579c787ef25",
            "4ef65a6a788f4cba921dcc0123c23c29",
            "c648b568c7514cf38be717b8d65b8355",
            "96643624db984f6a94b2a1d401649297",
            "4db7ea2b0f7d4584819fd36ac6293135",
            "2ea50e3ce24f42b780d8db8dfc5c1d2b",
            "7066f21edc73479fb7718402c8c36654",
            "86836989fe674660919796af41a487fc",
            "a8a544f1ffb14b088ed47e46eeb40e96",
            "06e033146c604138b72770ec1bcf6ea1"
          ]
        },
        "id": "heIw9kxYi3iK",
        "outputId": "d1eb626a-327f-466d-ac68-3c342475ea8e"
      },
      "outputs": [
        {
          "output_type": "display_data",
          "data": {
            "text/plain": [
              "Map:   0%|          | 0/1057 [00:00<?, ? examples/s]"
            ],
            "application/vnd.jupyter.widget-view+json": {
              "version_major": 2,
              "version_minor": 0,
              "model_id": "13e20e39b16c401aae2df718883f7383"
            }
          },
          "metadata": {}
        }
      ],
      "source": [
        "def preprocess_function(examples):\n",
        "    inputs = tokenizer(\n",
        "        examples[\"question\"],\n",
        "        examples[\"context\"],\n",
        "        truncation=True,\n",
        "        max_length=384,\n",
        "        # stride=128, # Remove stride or set to 0 to avoid overlapping tokens\n",
        "        stride=0,  # Setting stride to 0 avoids overlapping tokens\n",
        "        return_overflowing_tokens=False, # Set to False to avoid extra tokens\n",
        "        padding=\"max_length\"\n",
        "    )\n",
        "    return inputs\n",
        "\n",
        "tokenized_dataset = dataset.map(preprocess_function, batched=True)"
      ]
    },
    {
      "cell_type": "code",
      "execution_count": 13,
      "metadata": {
        "colab": {
          "base_uri": "https://localhost:8080/"
        },
        "id": "sFWbj-EsqCe1",
        "outputId": "6a0203fe-8915-4b8d-bc11-5b97788a24f6"
      },
      "outputs": [
        {
          "output_type": "execute_result",
          "data": {
            "text/plain": [
              "DatasetDict({\n",
              "    train: Dataset({\n",
              "        features: ['id', 'title', 'context', 'question', 'answers', 'input_ids', 'token_type_ids', 'attention_mask'],\n",
              "        num_rows: 8759\n",
              "    })\n",
              "    validation: Dataset({\n",
              "        features: ['id', 'title', 'context', 'question', 'answers', 'input_ids', 'token_type_ids', 'attention_mask'],\n",
              "        num_rows: 1057\n",
              "    })\n",
              "})"
            ]
          },
          "metadata": {},
          "execution_count": 13
        }
      ],
      "source": [
        "tokenized_dataset"
      ]
    },
    {
      "cell_type": "markdown",
      "metadata": {
        "id": "gk0A6l18llMi"
      },
      "source": [
        "Using: transformer: bert-base-uncased"
      ]
    },
    {
      "cell_type": "code",
      "execution_count": 14,
      "metadata": {
        "colab": {
          "base_uri": "https://localhost:8080/"
        },
        "id": "bVFXj4ZEkIVF",
        "outputId": "2ac24ac1-a2a5-4313-8af5-faa82d8c64e7"
      },
      "outputs": [
        {
          "output_type": "stream",
          "name": "stderr",
          "text": [
            "Some weights of BertForQuestionAnswering were not initialized from the model checkpoint at bert-base-uncased and are newly initialized: ['qa_outputs.bias', 'qa_outputs.weight']\n",
            "You should probably TRAIN this model on a down-stream task to be able to use it for predictions and inference.\n"
          ]
        }
      ],
      "source": [
        "from transformers import AutoTokenizer, Trainer, TrainingArguments, AutoModelForQuestionAnswering\n",
        "\n",
        "# Load modified model and tokenizer\n",
        "model_path = \"bert-base-uncased\"\n",
        "model = AutoModelForQuestionAnswering.from_pretrained(model_path)\n",
        "tokenizer = AutoTokenizer.from_pretrained(model_path)"
      ]
    },
    {
      "cell_type": "code",
      "execution_count": 15,
      "metadata": {
        "colab": {
          "base_uri": "https://localhost:8080/"
        },
        "id": "Y5sfo5TCl1MP",
        "outputId": "fad973e3-fd05-4a58-b57b-5dd74102be8f"
      },
      "outputs": [
        {
          "output_type": "stream",
          "name": "stdout",
          "text": [
            "Original training set size: 87599\n",
            "Training subset size: 8759\n",
            "Original validation set size: 10570\n",
            "Validation subset size: 1057\n"
          ]
        }
      ],
      "source": [
        "import evaluate\n",
        "from datasets import load_dataset, DatasetDict # Import DatasetDict\n",
        "\n",
        "# Load the SQuAD dataset\n",
        "dataset1 = load_dataset(\"squad\")\n",
        "\n",
        "# Define the desired subset size (10%)\n",
        "subset_size = 0.1\n",
        "\n",
        "# Function to create a subset of a given split\n",
        "def create_subset(split_name):\n",
        "    num_samples = int(len(dataset1[split_name]) * subset_size)\n",
        "    subset = dataset1[split_name].shuffle(seed=42).select(range(num_samples))\n",
        "    return subset\n",
        "\n",
        "# Create subsets for training and validation\n",
        "train_subset = create_subset(\"train\")\n",
        "validation_subset = create_subset(\"validation\")\n",
        "\n",
        "# Create a new DatasetDict with the subsets\n",
        "# Use DatasetDict constructor instead of dataset.from_dict\n",
        "dataset = DatasetDict({\n",
        "    \"train\": train_subset,\n",
        "    \"validation\": validation_subset\n",
        "})\n",
        "\n",
        "# Print some info about the subsets\n",
        "print(f\"Original training set size: {len(dataset1['train'])}\")\n",
        "print(f\"Training subset size: {len(train_subset)}\")\n",
        "print(f\"Original validation set size: {len(dataset1['validation'])}\")\n",
        "print(f\"Validation subset size: {len(validation_subset)}\")\n",
        "\n",
        "# Use the evaluate library to load the SQuAD metric (if needed)\n",
        "metric = evaluate.load(\"squad\")\n"
      ]
    },
    {
      "cell_type": "code",
      "execution_count": 16,
      "metadata": {
        "colab": {
          "base_uri": "https://localhost:8080/"
        },
        "id": "2HKMzoeAqS68",
        "outputId": "66559cab-84bc-451e-e0ac-fa6d84f36069"
      },
      "outputs": [
        {
          "output_type": "execute_result",
          "data": {
            "text/plain": [
              "EvaluationModule(name: \"squad\", module_type: \"metric\", features: {'predictions': {'id': Value(dtype='string', id=None), 'prediction_text': Value(dtype='string', id=None)}, 'references': {'id': Value(dtype='string', id=None), 'answers': Sequence(feature={'text': Value(dtype='string', id=None), 'answer_start': Value(dtype='int32', id=None)}, length=-1, id=None)}}, usage: \"\"\"\n",
              "Computes SQuAD scores (F1 and EM).\n",
              "Args:\n",
              "    predictions: List of question-answers dictionaries with the following key-values:\n",
              "        - 'id': id of the question-answer pair as given in the references (see below)\n",
              "        - 'prediction_text': the text of the answer\n",
              "    references: List of question-answers dictionaries with the following key-values:\n",
              "        - 'id': id of the question-answer pair (see above),\n",
              "        - 'answers': a Dict in the SQuAD dataset format\n",
              "            {\n",
              "                'text': list of possible texts for the answer, as a list of strings\n",
              "                'answer_start': list of start positions for the answer, as a list of ints\n",
              "            }\n",
              "            Note that answer_start values are not taken into account to compute the metric.\n",
              "Returns:\n",
              "    'exact_match': Exact match (the normalized answer exactly match the gold answer)\n",
              "    'f1': The F-score of predicted tokens versus the gold answer\n",
              "Examples:\n",
              "\n",
              "    >>> predictions = [{'prediction_text': '1976', 'id': '56e10a3be3433e1400422b22'}]\n",
              "    >>> references = [{'answers': {'answer_start': [97], 'text': ['1976']}, 'id': '56e10a3be3433e1400422b22'}]\n",
              "    >>> squad_metric = evaluate.load(\"squad\")\n",
              "    >>> results = squad_metric.compute(predictions=predictions, references=references)\n",
              "    >>> print(results)\n",
              "    {'exact_match': 100.0, 'f1': 100.0}\n",
              "\"\"\", stored examples: 0)"
            ]
          },
          "metadata": {},
          "execution_count": 16
        }
      ],
      "source": [
        "metric"
      ]
    },
    {
      "cell_type": "code",
      "execution_count": 17,
      "metadata": {
        "id": "sbOynyRpkIQ0"
      },
      "outputs": [],
      "source": [
        "def preprocess_function(examples):\n",
        "    inputs = tokenizer(\n",
        "        examples[\"question\"],\n",
        "        examples[\"context\"],\n",
        "        truncation=True,\n",
        "        max_length=384,\n",
        "        # stride=128, # Remove stride or set to 0 to avoid overlapping tokens\n",
        "        stride=0,  # Setting stride to 0 avoids overlapping tokens\n",
        "        return_overflowing_tokens=False, # Set to False to avoid extra tokens\n",
        "        padding=\"max_length\"\n",
        "    )\n",
        "    return inputs\n",
        "\n",
        "tokenized_dataset = train_subset.map(preprocess_function, batched=True)"
      ]
    },
    {
      "cell_type": "markdown",
      "metadata": {
        "id": "lRUyv6samOM0"
      },
      "source": [
        "**Fine tunned Squad dataset using Bert base model**"
      ]
    },
    {
      "cell_type": "code",
      "execution_count": 18,
      "metadata": {
        "colab": {
          "base_uri": "https://localhost:8080/",
          "height": 733,
          "referenced_widgets": [
            "89ec3bdb86e8484fa34ca38497dc79a8",
            "728be689704e4d4fbcf49d42c43b0785",
            "905cef2cc6e8468784b0d53cb740e9b2",
            "7cb937aa8f574e68af836825acfee442",
            "417c2a4ef6624e7280f76c764caccfa0",
            "a231004540a648d1a77c1365f5115cb0",
            "431b97ce3ffd4e3a8ea1cf313b7d8738",
            "c58c1d10f7284aedabb247f87a0d164b",
            "41a70803498d44b093e1fe00fb0b4366",
            "bb252aab04744ec292fc945a2db6b191",
            "fac53b82fba54c97951521dae6a68e2e",
            "e6b51dfd564b42228f119cff7bed3650",
            "d104eab2c6bd4a389ac690d0e4784fa6",
            "bac0a897e15c4cc69f5a2ff605d58eb1",
            "a98a900a9df64658bc229b3d39516d7e",
            "ddba7ed7775b4b86a6130bc98cf7d327",
            "831a5f699b4b499dae019143915ea108",
            "d6d921d22f4542899c09e00133770101",
            "bb12f06a3ba8431bb167feeeedc337ac",
            "1deba35c4c0646febf9d16928a337006",
            "5f5c5b343654474d898ee902ff21926c",
            "956f3609046d4ee38ddb6892a144a43a",
            "ef4889f2990f460382a703f18d23da56",
            "a8396255fdc447dc83cb25d9de449e81",
            "6bac1d909f0740f4895c8a15e921ff0c",
            "14bbefdf722b449d919934bb66fe4bfb",
            "4a027cf59da74d259c9184dfe3ec64a6",
            "f52e78f2ffae4b7e99cb0c99c65c2303",
            "6326682d36eb4c8cbb4efdfb63796950",
            "bbaaa868f19447deb7f3b2d1c72d5211",
            "637d4b6fa91a470ea3bc758a35bef605",
            "b6604e91f67647e6acb1976935864923",
            "5bc35e252ef24be7a86c0b3f89a8150c",
            "3aba08788ca142c1a9cb5da7b9dc93f4",
            "bd372c15883f455aa319385f87f1895f",
            "9d2694c846c14c46babfee5cf61dbb8a",
            "2904413bc38842428ff3dd7330fb81a0",
            "5558fa86fd484b72915e3065bc4767a0",
            "b830a2618e8c4c26881d010df2fbb44a",
            "71614f8450e44373bf8800e6ed25e00b",
            "d87dfe78ff794eecb31b78be4dd43a30",
            "8e427ea9dfa945d3b024aaf8b6f386c8",
            "e9f92198143d4a18a6568fad7950a390",
            "4ac9804ca2c94a2990832c5456047a78",
            "da8bbf1f650a49b7a4aa182ea40cff2b",
            "42f77ed664f043a891d765b2fcf34140",
            "f5130c5a256044ef8654d0454eba7293",
            "6ae5641691e24827ada9e9a3f7ee3525",
            "29b4b844cceb45c1861e5baa2abc7957",
            "2be5151306e34818be5970649bc2730b",
            "2720c4dd59e4433989576a3a6bff66a3",
            "1fb1f7599ec1464c839dd8753a1eb122",
            "2b9e383a81404307b0e8f46432966273",
            "e2ec79c01a7d48b1bb1de102d916d49a",
            "024e288bc0ae464ea74315444bbe9188",
            "76e7079ffa874166b231b88e9d45dd39",
            "7318304d34c1487abc9c7642f2a2637a",
            "d56f65892fe5472491f3c086c01872aa",
            "d848b17838c743b199c212282780c1f9",
            "f2b130dbb93f47788c6fe32dfdf292a6",
            "4d1f0f8d96a04a5389907d6980cac857",
            "700920c5b61c4789ab007985926c2533",
            "fa2cf5a786ae4fdfbc3dfdd95bf416b4",
            "2902385076cd478d997573a5d403ff6d",
            "bf99956d9d5b475191a43ab73df9edb2",
            "116d0a3c466645a98a5b33a78d1245d2",
            "a72703793b784c8a9558cf35c6f34d03",
            "82e6dbc2f75a40d2b736181883cfaa2f",
            "b3ff041c68654f19a60ebc293f5dc26c",
            "41b11cedcf5c4180a17d3112922f2c24",
            "0fa55ab5775b41a894c21184118c515f",
            "73cede9eeba343878e2423415cd0dd97",
            "bcf69b11072347cb9b4c7c91e4dc58e0",
            "3218668107c648c4bdb360a7ce062225",
            "36856d550d2e40fbabd1ab33f01f35b5",
            "97460ca1107c40618f265d5e5b42a251",
            "ab6ff4e1f2184450be8d6a9b881d5fa1"
          ]
        },
        "id": "1QS2S8w5m6cc",
        "outputId": "d0638e11-45d4-4a9f-f2fb-cc89d11a0a62"
      },
      "outputs": [
        {
          "output_type": "display_data",
          "data": {
            "text/plain": [
              "tokenizer_config.json:   0%|          | 0.00/48.0 [00:00<?, ?B/s]"
            ],
            "application/vnd.jupyter.widget-view+json": {
              "version_major": 2,
              "version_minor": 0,
              "model_id": "89ec3bdb86e8484fa34ca38497dc79a8"
            }
          },
          "metadata": {}
        },
        {
          "output_type": "display_data",
          "data": {
            "text/plain": [
              "config.json:   0%|          | 0.00/483 [00:00<?, ?B/s]"
            ],
            "application/vnd.jupyter.widget-view+json": {
              "version_major": 2,
              "version_minor": 0,
              "model_id": "e6b51dfd564b42228f119cff7bed3650"
            }
          },
          "metadata": {}
        },
        {
          "output_type": "display_data",
          "data": {
            "text/plain": [
              "vocab.txt:   0%|          | 0.00/232k [00:00<?, ?B/s]"
            ],
            "application/vnd.jupyter.widget-view+json": {
              "version_major": 2,
              "version_minor": 0,
              "model_id": "ef4889f2990f460382a703f18d23da56"
            }
          },
          "metadata": {}
        },
        {
          "output_type": "display_data",
          "data": {
            "text/plain": [
              "tokenizer.json:   0%|          | 0.00/466k [00:00<?, ?B/s]"
            ],
            "application/vnd.jupyter.widget-view+json": {
              "version_major": 2,
              "version_minor": 0,
              "model_id": "3aba08788ca142c1a9cb5da7b9dc93f4"
            }
          },
          "metadata": {}
        },
        {
          "output_type": "display_data",
          "data": {
            "text/plain": [
              "model.safetensors:   0%|          | 0.00/268M [00:00<?, ?B/s]"
            ],
            "application/vnd.jupyter.widget-view+json": {
              "version_major": 2,
              "version_minor": 0,
              "model_id": "da8bbf1f650a49b7a4aa182ea40cff2b"
            }
          },
          "metadata": {}
        },
        {
          "output_type": "stream",
          "name": "stderr",
          "text": [
            "Some weights of DistilBertForQuestionAnswering were not initialized from the model checkpoint at distilbert-base-uncased and are newly initialized: ['qa_outputs.bias', 'qa_outputs.weight']\n",
            "You should probably TRAIN this model on a down-stream task to be able to use it for predictions and inference.\n"
          ]
        },
        {
          "output_type": "display_data",
          "data": {
            "text/plain": [
              "Map:   0%|          | 0/8759 [00:00<?, ? examples/s]"
            ],
            "application/vnd.jupyter.widget-view+json": {
              "version_major": 2,
              "version_minor": 0,
              "model_id": "76e7079ffa874166b231b88e9d45dd39"
            }
          },
          "metadata": {}
        },
        {
          "output_type": "display_data",
          "data": {
            "text/plain": [
              "Map:   0%|          | 0/1057 [00:00<?, ? examples/s]"
            ],
            "application/vnd.jupyter.widget-view+json": {
              "version_major": 2,
              "version_minor": 0,
              "model_id": "a72703793b784c8a9558cf35c6f34d03"
            }
          },
          "metadata": {}
        },
        {
          "output_type": "stream",
          "name": "stderr",
          "text": [
            "/usr/local/lib/python3.10/dist-packages/transformers/training_args.py:1568: FutureWarning: `evaluation_strategy` is deprecated and will be removed in version 4.46 of 🤗 Transformers. Use `eval_strategy` instead\n",
            "  warnings.warn(\n",
            "\u001b[34m\u001b[1mwandb\u001b[0m: \u001b[33mWARNING\u001b[0m The `run_name` is currently set to the same value as `TrainingArguments.output_dir`. If this was not intended, please specify a different run name by setting the `TrainingArguments.run_name` parameter.\n",
            "\u001b[34m\u001b[1mwandb\u001b[0m: Using wandb-core as the SDK backend.  Please refer to https://wandb.me/wandb-core for more information.\n"
          ]
        },
        {
          "output_type": "display_data",
          "data": {
            "text/plain": [
              "<IPython.core.display.Javascript object>"
            ],
            "application/javascript": [
              "\n",
              "        window._wandbApiKey = new Promise((resolve, reject) => {\n",
              "            function loadScript(url) {\n",
              "            return new Promise(function(resolve, reject) {\n",
              "                let newScript = document.createElement(\"script\");\n",
              "                newScript.onerror = reject;\n",
              "                newScript.onload = resolve;\n",
              "                document.body.appendChild(newScript);\n",
              "                newScript.src = url;\n",
              "            });\n",
              "            }\n",
              "            loadScript(\"https://cdn.jsdelivr.net/npm/postmate/build/postmate.min.js\").then(() => {\n",
              "            const iframe = document.createElement('iframe')\n",
              "            iframe.style.cssText = \"width:0;height:0;border:none\"\n",
              "            document.body.appendChild(iframe)\n",
              "            const handshake = new Postmate({\n",
              "                container: iframe,\n",
              "                url: 'https://wandb.ai/authorize'\n",
              "            });\n",
              "            const timeout = setTimeout(() => reject(\"Couldn't auto authenticate\"), 5000)\n",
              "            handshake.then(function(child) {\n",
              "                child.on('authorize', data => {\n",
              "                    clearTimeout(timeout)\n",
              "                    resolve(data)\n",
              "                });\n",
              "            });\n",
              "            })\n",
              "        });\n",
              "    "
            ]
          },
          "metadata": {}
        },
        {
          "output_type": "stream",
          "name": "stderr",
          "text": [
            "\u001b[34m\u001b[1mwandb\u001b[0m: Logging into wandb.ai. (Learn how to deploy a W&B server locally: https://wandb.me/wandb-server)\n",
            "\u001b[34m\u001b[1mwandb\u001b[0m: You can find your API key in your browser here: https://wandb.ai/authorize\n",
            "wandb: Paste an API key from your profile and hit enter, or press ctrl+c to quit:"
          ]
        },
        {
          "name": "stdout",
          "output_type": "stream",
          "text": [
            " ··········\n"
          ]
        },
        {
          "output_type": "stream",
          "name": "stderr",
          "text": [
            "\u001b[34m\u001b[1mwandb\u001b[0m: Appending key for api.wandb.ai to your netrc file: /root/.netrc\n"
          ]
        },
        {
          "output_type": "display_data",
          "data": {
            "text/plain": [
              "<IPython.core.display.HTML object>"
            ],
            "text/html": [
              "Tracking run with wandb version 0.18.7"
            ]
          },
          "metadata": {}
        },
        {
          "output_type": "display_data",
          "data": {
            "text/plain": [
              "<IPython.core.display.HTML object>"
            ],
            "text/html": [
              "Run data is saved locally in <code>/content/wandb/run-20241125_055706-o11kpl5x</code>"
            ]
          },
          "metadata": {}
        },
        {
          "output_type": "display_data",
          "data": {
            "text/plain": [
              "<IPython.core.display.HTML object>"
            ],
            "text/html": [
              "Syncing run <strong><a href='https://wandb.ai/mrtayade_p24-vjti/huggingface/runs/o11kpl5x' target=\"_blank\">./results</a></strong> to <a href='https://wandb.ai/mrtayade_p24-vjti/huggingface' target=\"_blank\">Weights & Biases</a> (<a href='https://wandb.me/developer-guide' target=\"_blank\">docs</a>)<br/>"
            ]
          },
          "metadata": {}
        },
        {
          "output_type": "display_data",
          "data": {
            "text/plain": [
              "<IPython.core.display.HTML object>"
            ],
            "text/html": [
              " View project at <a href='https://wandb.ai/mrtayade_p24-vjti/huggingface' target=\"_blank\">https://wandb.ai/mrtayade_p24-vjti/huggingface</a>"
            ]
          },
          "metadata": {}
        },
        {
          "output_type": "display_data",
          "data": {
            "text/plain": [
              "<IPython.core.display.HTML object>"
            ],
            "text/html": [
              " View run at <a href='https://wandb.ai/mrtayade_p24-vjti/huggingface/runs/o11kpl5x' target=\"_blank\">https://wandb.ai/mrtayade_p24-vjti/huggingface/runs/o11kpl5x</a>"
            ]
          },
          "metadata": {}
        },
        {
          "output_type": "display_data",
          "data": {
            "text/plain": [
              "<IPython.core.display.HTML object>"
            ],
            "text/html": [
              "\n",
              "    <div>\n",
              "      \n",
              "      <progress value='3318' max='3318' style='width:300px; height:20px; vertical-align: middle;'></progress>\n",
              "      [3318/3318 17:00, Epoch 3/3]\n",
              "    </div>\n",
              "    <table border=\"1\" class=\"dataframe\">\n",
              "  <thead>\n",
              " <tr style=\"text-align: left;\">\n",
              "      <th>Epoch</th>\n",
              "      <th>Training Loss</th>\n",
              "      <th>Validation Loss</th>\n",
              "    </tr>\n",
              "  </thead>\n",
              "  <tbody>\n",
              "    <tr>\n",
              "      <td>1</td>\n",
              "      <td>0.000300</td>\n",
              "      <td>0.000129</td>\n",
              "    </tr>\n",
              "    <tr>\n",
              "      <td>2</td>\n",
              "      <td>0.000100</td>\n",
              "      <td>0.000068</td>\n",
              "    </tr>\n",
              "    <tr>\n",
              "      <td>3</td>\n",
              "      <td>0.000100</td>\n",
              "      <td>0.000054</td>\n",
              "    </tr>\n",
              "  </tbody>\n",
              "</table><p>"
            ]
          },
          "metadata": {}
        },
        {
          "output_type": "execute_result",
          "data": {
            "text/plain": [
              "TrainOutput(global_step=3318, training_loss=0.03237861874241061, metrics={'train_runtime': 1089.824, 'train_samples_per_second': 24.356, 'train_steps_per_second': 3.045, 'total_flos': 2601041915437056.0, 'train_loss': 0.03237861874241061, 'epoch': 3.0})"
            ]
          },
          "metadata": {},
          "execution_count": 18
        }
      ],
      "source": [
        "import torch\n",
        "from transformers import AutoTokenizer, AutoModelForQuestionAnswering, TrainingArguments, Trainer\n",
        "from datasets import load_dataset\n",
        "\n",
        "\n",
        "#2.  Load the SQuAD dataset\n",
        "dataset1 = load_dataset(\"squad\")\n",
        "\n",
        "# Define the desired subset size (10%)\n",
        "subset_size = 0.1\n",
        "\n",
        "# Function to create a subset of a given split\n",
        "def create_subset(split_name):\n",
        "    num_samples = int(len(dataset1[split_name]) * subset_size)\n",
        "    subset = dataset1[split_name].shuffle(seed=42).select(range(num_samples))\n",
        "    return subset\n",
        "\n",
        "# Create subsets for training and validation\n",
        "train_subset = create_subset(\"train\")\n",
        "validation_subset = create_subset(\"validation\")\n",
        "\n",
        "# Create a new DatasetDict with the subsets\n",
        "# Use DatasetDict constructor instead of dataset.from_dict\n",
        "dataset = DatasetDict({\n",
        "    \"train\": train_subset,\n",
        "    \"validation\": validation_subset\n",
        "})\n",
        "\n",
        "# 3. Initialize tokenizer and model\n",
        "#model_name = \"modified_transformer_with_moe_adapter\"\n",
        "model_name = \"distilbert-base-uncased\"  # or any other model like \"bert-base-uncased\"\n",
        "tokenizer = AutoTokenizer.from_pretrained(model_name)\n",
        "model = AutoModelForQuestionAnswering.from_pretrained(model_name)\n",
        "\n",
        "# 4. Preprocess data for question answering\n",
        "def preprocess(example):\n",
        "    questions = [q.strip() for q in example[\"question\"]]\n",
        "    contexts = [c.strip() for c in example[\"context\"]]\n",
        "    answers = example[\"answers\"]\n",
        "\n",
        "    # Tokenize inputs\n",
        "    tokenized_examples = tokenizer(\n",
        "        questions,\n",
        "        contexts,\n",
        "        truncation=True,\n",
        "        padding=\"max_length\",\n",
        "        max_length=384,\n",
        "        stride=128,\n",
        "        return_overflowing_tokens=True,\n",
        "        return_offsets_mapping=True\n",
        "    )\n",
        "\n",
        "    # Map start and end positions\n",
        "    offset_mapping = tokenized_examples.pop(\"offset_mapping\")\n",
        "    sample_mapping = tokenized_examples.pop(\"overflow_to_sample_mapping\")\n",
        "\n",
        "    tokenized_examples[\"start_positions\"] = []\n",
        "    tokenized_examples[\"end_positions\"] = []\n",
        "\n",
        "    for i, offsets in enumerate(offset_mapping):\n",
        "        input_ids = tokenized_examples[\"input_ids\"][i]\n",
        "        cls_index = input_ids.index(tokenizer.cls_token_id)\n",
        "\n",
        "        # Retrieve corresponding sample and answer\n",
        "        sample_index = sample_mapping[i]\n",
        "        answer = answers[sample_index]\n",
        "        start_char = answer[\"answer_start\"][0]\n",
        "        end_char = start_char + len(answer[\"text\"][0])\n",
        "\n",
        "        # Find the start and end token positions\n",
        "        token_start_index, token_end_index = 0, len(input_ids) - 1\n",
        "        while token_start_index < len(offsets) and offsets[token_start_index][0] <= start_char:\n",
        "            token_start_index += 1\n",
        "        token_start_index -= 1\n",
        "        while token_end_index >= 0 and offsets[token_end_index][1] >= end_char:\n",
        "            token_end_index -= 1\n",
        "        token_end_index += 1\n",
        "\n",
        "        # Add bounds check for token_start_index and token_end_index\n",
        "        token_start_index = max(0, min(token_start_index, len(offsets) - 1))\n",
        "        token_end_index = max(0, min(token_end_index, len(offsets) - 1))\n",
        "\n",
        "        # Assign positions or assign CLS if no answer\n",
        "        if offsets[token_start_index][0] <= start_char and offsets[token_end_index][1] >= end_char:\n",
        "            tokenized_examples[\"start_positions\"].append(token_start_index)\n",
        "            tokenized_examples[\"end_positions\"].append(token_end_index)\n",
        "        else:\n",
        "            tokenized_examples[\"start_positions\"].append(cls_index)\n",
        "            tokenized_examples[\"end_positions\"].append(cls_index)\n",
        "\n",
        "    return tokenized_examples\n",
        "\n",
        "# Apply preprocessing to the dataset\n",
        "tokenized_datasets = dataset.map(preprocess, batched=True, remove_columns=dataset[\"train\"].column_names)\n",
        "\n",
        "# 5. Set training arguments\n",
        "training_args = TrainingArguments(\n",
        "    output_dir=\"./results\",\n",
        "    evaluation_strategy=\"epoch\",\n",
        "    learning_rate=2e-5,\n",
        "    per_device_train_batch_size=8,\n",
        "    per_device_eval_batch_size=8,\n",
        "    num_train_epochs=3,\n",
        "    weight_decay=0.01,\n",
        "    save_steps=10_000,\n",
        "    save_total_limit=2,\n",
        ")\n",
        "\n",
        "# 6. Initialize Trainer\n",
        "trainer = Trainer(\n",
        "    model=model,\n",
        "    args=training_args,\n",
        "    train_dataset=tokenized_datasets[\"train\"],\n",
        "    eval_dataset=tokenized_datasets[\"validation\"],\n",
        ")\n",
        "\n",
        "# 7. Start training\n",
        "trainer.train()\n"
      ]
    },
    {
      "cell_type": "code",
      "execution_count": 19,
      "metadata": {
        "colab": {
          "base_uri": "https://localhost:8080/",
          "height": 55
        },
        "id": "z5fpVgwJndPd",
        "outputId": "6c95aead-be6b-4c55-ab46-5c1329c78d4c"
      },
      "outputs": [
        {
          "output_type": "display_data",
          "data": {
            "text/plain": [
              "<IPython.core.display.HTML object>"
            ],
            "text/html": [
              "\n",
              "    <div>\n",
              "      \n",
              "      <progress value='135' max='135' style='width:300px; height:20px; vertical-align: middle;'></progress>\n",
              "      [135/135 00:12]\n",
              "    </div>\n",
              "    "
            ]
          },
          "metadata": {}
        },
        {
          "output_type": "stream",
          "name": "stdout",
          "text": [
            "Squad Evaluation results: {'eval_loss': 5.372447776608169e-05, 'eval_runtime': 12.2129, 'eval_samples_per_second': 88.185, 'eval_steps_per_second': 11.054, 'epoch': 3.0}\n"
          ]
        }
      ],
      "source": [
        "# Evaluate on dataset\n",
        "squad_results = trainer.evaluate()\n",
        "\n",
        "print(f\"Squad Evaluation results: {squad_results}\")"
      ]
    },
    {
      "cell_type": "code",
      "source": [
        "from google.colab import drive\n",
        "drive.mount('/content/drive')"
      ],
      "metadata": {
        "id": "2kU7t-0L0DyR",
        "colab": {
          "base_uri": "https://localhost:8080/"
        },
        "outputId": "28362157-9c87-4d30-a3ce-1ded4a27d344"
      },
      "execution_count": 20,
      "outputs": [
        {
          "output_type": "stream",
          "name": "stdout",
          "text": [
            "Drive already mounted at /content/drive; to attempt to forcibly remount, call drive.mount(\"/content/drive\", force_remount=True).\n"
          ]
        }
      ]
    },
    {
      "cell_type": "code",
      "execution_count": 21,
      "metadata": {
        "id": "chVSdA-btC80"
      },
      "outputs": [],
      "source": [
        "from transformers import AutoTokenizer, AutoModelForQuestionAnswering\n",
        "import torch\n",
        "\n",
        "# Define the save path in Google Drive\n",
        "model_save_path = '/content/drive/My Drive/finetuning/squad/squad_finetuned_bert'\n",
        "\n",
        "# Load the saved model and tokenizer\n",
        "tokenizer = AutoTokenizer.from_pretrained(model_save_path)\n",
        "model = AutoModelForQuestionAnswering.from_pretrained(model_save_path)\n"
      ]
    },
    {
      "cell_type": "code",
      "execution_count": 22,
      "metadata": {
        "id": "QHW3UXIXtCkq"
      },
      "outputs": [],
      "source": [
        "def answer_question(question, context):\n",
        "    # Encode the inputs for the model\n",
        "    inputs = tokenizer(question, context, return_tensors=\"pt\", truncation=True, max_length=384)\n",
        "\n",
        "    # Pass the inputs through the model\n",
        "    with torch.no_grad():\n",
        "        outputs = model(**inputs)\n",
        "\n",
        "    # Extract the start and end logits\n",
        "    start_logits = outputs.start_logits\n",
        "    end_logits = outputs.end_logits\n",
        "\n",
        "    # Get the most probable start and end positions\n",
        "    start_idx = torch.argmax(start_logits)\n",
        "    end_idx = torch.argmax(end_logits) + 1  # +1 to include the end token\n",
        "\n",
        "    # Decode the answer from the input IDs\n",
        "    answer_tokens = inputs['input_ids'][0][start_idx:end_idx]\n",
        "    answer = tokenizer.decode(answer_tokens, skip_special_tokens=True)\n",
        "\n",
        "    return answer\n"
      ]
    },
    {
      "cell_type": "code",
      "execution_count": 23,
      "metadata": {
        "id": "BG-KE5i2nc5n",
        "colab": {
          "base_uri": "https://localhost:8080/"
        },
        "outputId": "22d1f8d1-4468-4609-88d5-de956b069da0"
      },
      "outputs": [
        {
          "output_type": "stream",
          "name": "stdout",
          "text": [
            "Answer: what are the symptoms of covid - 19? co\n"
          ]
        }
      ],
      "source": [
        "question = \"What are the symptoms of COVID-19?\"\n",
        "context = \"COVID-19 symptoms include fever, cough, and difficulty breathing among others.\"\n",
        "\n",
        "answer = answer_question(question, context)\n",
        "print(\"Answer:\", answer)\n"
      ]
    },
    {
      "cell_type": "code",
      "execution_count": 24,
      "metadata": {
        "colab": {
          "base_uri": "https://localhost:8080/"
        },
        "id": "FfzdSI_lrvax",
        "outputId": "a34132ac-2fd7-4b64-cd08-069023ce0927"
      },
      "outputs": [
        {
          "output_type": "stream",
          "name": "stdout",
          "text": [
            "Question: What is the capital of France?\n",
            "Context: France is a country in Europe. The capital of France is Paris.\n",
            "Predicted Answer: what is the capital of france? france is a country in europe. the capital of france\n"
          ]
        }
      ],
      "source": [
        "# Example question and context\n",
        "question = \"What is the capital of France?\"\n",
        "context = \"France is a country in Europe. The capital of France is Paris.\"\n",
        "\n",
        "# Tokenize the input\n",
        "inputs = tokenizer(\n",
        "    question,\n",
        "    context,\n",
        "    truncation=True,\n",
        "    padding=\"max_length\",\n",
        "    max_length=384,\n",
        "    return_tensors=\"pt\"  # Return PyTorch tensors\n",
        ")\n",
        "\n",
        "# Make predictions\n",
        "model.eval()  # Set the model to evaluation mode\n",
        "with torch.no_grad():\n",
        "    outputs = model(**inputs)\n",
        "\n",
        "# Extract start and end logits\n",
        "start_logits = outputs.start_logits\n",
        "end_logits = outputs.end_logits\n",
        "\n",
        "# Find the start and end token positions\n",
        "start_index = torch.argmax(start_logits, dim=1).item()\n",
        "end_index = torch.argmax(end_logits, dim=1).item()\n",
        "\n",
        "# Decode the answer\n",
        "answer_tokens = inputs[\"input_ids\"][0][start_index:end_index + 1]\n",
        "predicted_answer = tokenizer.decode(answer_tokens, skip_special_tokens=True)\n",
        "\n",
        "print(f\"Question: {question}\")\n",
        "print(f\"Context: {context}\")\n",
        "print(f\"Predicted Answer: {predicted_answer}\")\n"
      ]
    },
    {
      "cell_type": "markdown",
      "metadata": {
        "id": "GEfgUUKCYLai"
      },
      "source": [
        "Checking model performance"
      ]
    },
    {
      "cell_type": "code",
      "execution_count": 52,
      "metadata": {
        "colab": {
          "base_uri": "https://localhost:8080/"
        },
        "id": "BskFbG_LYCgh",
        "outputId": "ad84db83-02d4-4f65-8720-f75e79ab6a34"
      },
      "outputs": [
        {
          "output_type": "stream",
          "name": "stdout",
          "text": [
            "Question: What is the capital of France?\n",
            "Context: France is a country in Europe. The capital of France is Paris.\n",
            "Predicted Answer: what is the capital of france? france is a country in europe. the capital of france is paris.\n"
          ]
        }
      ],
      "source": [
        "from transformers import AutoTokenizer, AutoModelForQuestionAnswering\n",
        "import torch\n",
        "\n",
        "# Load pre-trained model and tokenizer\n",
        "#model_name = \"bert-large-uncased-whole-word-masking-finetuned-squad\"\n",
        "model_name =\"/content/drive/My Drive/finetuning/squad/squad_finetuned_bert\"\n",
        "tokenizer = AutoTokenizer.from_pretrained(model_name)\n",
        "model = AutoModelForQuestionAnswering.from_pretrained(model_name)\n",
        "\n",
        "# Example question and context\n",
        "question = \"What is the capital of France?\"\n",
        "context = \"France is a country in Europe. The capital of France is Paris.\"\n",
        "\n",
        "# Get the device (GPU if available, otherwise CPU)\n",
        "device = torch.device(\"cuda\" if torch.cuda.is_available() else \"cpu\")\n",
        "# Move the model to the device\n",
        "model.to(device)\n",
        "\n",
        "# Tokenize the input\n",
        "inputs = tokenizer(\n",
        "    question,\n",
        "    context,\n",
        "    truncation=True,\n",
        "    padding=\"max_length\",\n",
        "    max_length=384,\n",
        "    return_tensors=\"pt\"  # Return PyTorch tensors\n",
        ")\n",
        "\n",
        "# Move inputs to the device\n",
        "inputs = inputs.to(device) # Move inputs to the same device as the model\n",
        "\n",
        "# Make predictions\n",
        "model.eval()  # Set the model to evaluation mode\n",
        "with torch.no_grad():\n",
        "    outputs = model(**inputs)\n",
        "\n",
        "# Extract start and end logits\n",
        "start_logits = outputs.start_logits\n",
        "end_logits = outputs.end_logits\n",
        "\n",
        "# Find the start and end token positions\n",
        "start_index = torch.argmax(start_logits, dim=1).item()\n",
        "end_index = torch.argmax(end_logits, dim=1).item()\n",
        "\n",
        "# Decode the answer\n",
        "answer_tokens = inputs[\"input_ids\"][0][start_index:end_index + 4]\n",
        "predicted_answer = tokenizer.decode(answer_tokens, skip_special_tokens=True)\n",
        "\n",
        "print(f\"Question: {question}\")\n",
        "print(f\"Context: {context}\")\n",
        "print(f\"Predicted Answer: {predicted_answer}\")"
      ]
    },
    {
      "cell_type": "markdown",
      "source": [
        "or"
      ],
      "metadata": {
        "id": "r1X93g-Zmq3m"
      }
    },
    {
      "cell_type": "code",
      "source": [
        "from transformers import AutoTokenizer, AutoModelForQuestionAnswering\n",
        "import torch\n",
        "\n",
        "# Load pre-trained model and tokenizer\n",
        "#model_name = \"bert-large-uncased-whole-word-masking-finetuned-squad\"\n",
        "model_name =\"/content/drive/My Drive/finetuning/squad/squad_finetuned_bert\"\n",
        "tokenizer = AutoTokenizer.from_pretrained(model_name)\n",
        "model = AutoModelForQuestionAnswering.from_pretrained(model_name)\n",
        "\n",
        "# Define question and context\n",
        "question = \"What is the capital of France?\"\n",
        "context = \"France is a country in Europe. The capital of France is Paris.\"\n",
        "\n",
        "# Tokenize inputs\n",
        "inputs = tokenizer(\n",
        "    question,\n",
        "    context,\n",
        "    truncation=True,\n",
        "    padding=\"max_length\",\n",
        "    max_length=384,\n",
        "    return_tensors=\"pt\"\n",
        ")\n",
        "\n",
        "# Get predictions\n",
        "model.eval()\n",
        "with torch.no_grad():\n",
        "    outputs = model(**inputs)\n",
        "\n",
        "# Extract start and end logits\n",
        "start_logits = outputs.start_logits\n",
        "end_logits = outputs.end_logits\n",
        "\n",
        "# Get start and end indices\n",
        "start_index = torch.argmax(start_logits, dim=1).item()\n",
        "end_index = torch.argmax(end_logits, dim=1).item()\n",
        "\n",
        "# Decode the predicted answer\n",
        "if start_index <= end_index:  # Ensure valid indices\n",
        "    answer_tokens = inputs[\"input_ids\"][0][start_index:end_index + 3]\n",
        "    predicted_answer = tokenizer.decode(answer_tokens, skip_special_tokens=True)\n",
        "else:\n",
        "    predicted_answer = \"Unable to find a valid answer.\"\n",
        "\n",
        "print(f\"Question: {question}\")\n",
        "print(f\"Context: {context}\")\n",
        "print(f\"Predicted Answer: {predicted_answer}\")\n"
      ],
      "metadata": {
        "id": "bu8AJiromrqZ",
        "colab": {
          "base_uri": "https://localhost:8080/"
        },
        "outputId": "b6cd2540-c877-42e9-b778-ca37e684a3be"
      },
      "execution_count": 53,
      "outputs": [
        {
          "output_type": "stream",
          "name": "stdout",
          "text": [
            "Question: What is the capital of France?\n",
            "Context: France is a country in Europe. The capital of France is Paris.\n",
            "Predicted Answer: what is the capital of france? france is a country in europe. the capital of france is paris\n"
          ]
        }
      ]
    },
    {
      "cell_type": "markdown",
      "metadata": {
        "id": "6x7xoKgwuZZI"
      },
      "source": [
        "#fine tunned model using bert based uncased\n"
      ]
    },
    {
      "cell_type": "code",
      "execution_count": 91,
      "metadata": {
        "colab": {
          "base_uri": "https://localhost:8080/"
        },
        "id": "-7Nb-pUjuZC6",
        "outputId": "ee16ba4f-b185-49d0-84f3-79206c01c6ea"
      },
      "outputs": [
        {
          "output_type": "stream",
          "name": "stderr",
          "text": [
            "Some weights of BertModel were not initialized from the model checkpoint at /content/drive/My Drive/finetuning/squad/squad_finetuned_bert and are newly initialized: ['bert.pooler.dense.bias', 'bert.pooler.dense.weight']\n",
            "You should probably TRAIN this model on a down-stream task to be able to use it for predictions and inference.\n"
          ]
        },
        {
          "output_type": "stream",
          "name": "stdout",
          "text": [
            "Memory allocated before forward pass: 1257202176 bytes\n",
            "Memory allocated after forward pass: 1262018560 bytes\n"
          ]
        }
      ],
      "source": [
        "import torch\n",
        "from transformers import BertModel, BertTokenizer\n",
        "\n",
        "# Initialize BERT model\n",
        "model = BertModel.from_pretrained('/content/drive/My Drive/finetuning/squad/squad_finetuned_bert')\n",
        "tokenizer = BertTokenizer.from_pretrained('/content/drive/My Drive/finetuning/squad/squad_finetuned_bert')\n",
        "\n",
        "# Example input\n",
        "input_text = \"Hello, how are you?\"\n",
        "inputs = tokenizer(input_text, return_tensors=\"pt\")\n",
        "\n",
        "# Move model to GPU (if available)\n",
        "device = torch.device(\"cuda\" if torch.cuda.is_available() else \"cpu\")\n",
        "model.to(device)\n",
        "\n",
        "# Check memory before forward pass\n",
        "print(f\"Memory allocated before forward pass: {torch.cuda.memory_allocated(device)} bytes\")\n",
        "\n",
        "# Forward pass\n",
        "outputs = model(**inputs.to(device))\n",
        "\n",
        "# Check memory after forward pass\n",
        "print(f\"Memory allocated after forward pass: {torch.cuda.memory_allocated(device)} bytes\")\n"
      ]
    },
    {
      "cell_type": "code",
      "execution_count": 92,
      "metadata": {
        "colab": {
          "base_uri": "https://localhost:8080/"
        },
        "id": "jxVioIPwuYwR",
        "outputId": "dabd695e-40e6-4759-f92e-c8294239cc10"
      },
      "outputs": [
        {
          "output_type": "stream",
          "name": "stdout",
          "text": [
            "Memory usage: 2080.70703125 MB\n"
          ]
        }
      ],
      "source": [
        "import psutil\n",
        "import os\n",
        "\n",
        "# Get current process\n",
        "process = psutil.Process(os.getpid())\n",
        "\n",
        "# Get memory usage in MB\n",
        "print(f\"Memory usage: {process.memory_info().rss / 1024 / 1024} MB\")\n"
      ]
    },
    {
      "cell_type": "markdown",
      "metadata": {
        "id": "Hw1dazIbm62e"
      },
      "source": [
        "**Fine Tunned Squad dataset using modified weights transformer**"
      ]
    },
    {
      "cell_type": "code",
      "execution_count": null,
      "metadata": {
        "colab": {
          "base_uri": "https://localhost:8080/",
          "height": 590,
          "referenced_widgets": [
            "b419898fbde04c559dd23232c5fd7519",
            "f753d0b576e64797ab2ed70c9e200a0d",
            "0048f0d87b5c48dabab33d759fc341bc",
            "076cf763bf994be798d560f0a70351b2",
            "078fdcabe9da4c3e93539079d41c3d9a",
            "705c6d8b9e6946fabf1070378dfb1d47",
            "a3c589c8f05c48e2b9bb27e36a665211",
            "66e523f56e5045078b51c90ac0c31263",
            "82f609d180514c98a0ce154e2c5f882d",
            "47df4962c00847f9851487a0a300548f",
            "93c8ec8bd3ae4fe791663dcccb8b18e8",
            "b99cc466525244d984d1c0bb7e9529b2",
            "e8ff55e80a80479b9dbd36f37e006431",
            "a7cab4e7619e49b98786b879639f4499",
            "005c0e5afccd4f71955800a39366b35a",
            "971a7112c7de41a79257f521aaa6a318",
            "22815173b59a4946a9cd6e4ea69babf4",
            "1586ee9dbc4a4cdfb5e5fadb8c7cb992",
            "cb976cdbcd934ed6bc2ed0c8b52dd32b",
            "13966da925434ac39a47da8569785936",
            "3363d8108e444657b15ddede8308aa90",
            "a3bc22629f44412db060f6b29a336e09"
          ]
        },
        "id": "fv0zTuj1kH-G",
        "outputId": "fb3e11f0-b09e-453a-dd83-cea6a7045877"
      },
      "outputs": [
        {
          "output_type": "stream",
          "name": "stderr",
          "text": [
            "Some weights of the model checkpoint at modified_transformer_with_moe_adapter were not used when initializing BertForQuestionAnswering: ['bert.encoder.layer.11.intermediate.moe_adapter.experts_WA.0.bias', 'bert.encoder.layer.11.intermediate.moe_adapter.experts_WA.0.weight', 'bert.encoder.layer.11.intermediate.moe_adapter.experts_WA.1.bias', 'bert.encoder.layer.11.intermediate.moe_adapter.experts_WA.1.weight', 'bert.encoder.layer.11.intermediate.moe_adapter.experts_WA.2.bias', 'bert.encoder.layer.11.intermediate.moe_adapter.experts_WA.2.weight', 'bert.encoder.layer.11.intermediate.moe_adapter.experts_WA.3.bias', 'bert.encoder.layer.11.intermediate.moe_adapter.experts_WA.3.weight', 'bert.encoder.layer.11.intermediate.moe_adapter.experts_WB.0.bias', 'bert.encoder.layer.11.intermediate.moe_adapter.experts_WB.0.weight', 'bert.encoder.layer.11.intermediate.moe_adapter.experts_WB.1.bias', 'bert.encoder.layer.11.intermediate.moe_adapter.experts_WB.1.weight', 'bert.encoder.layer.11.intermediate.moe_adapter.experts_WB.2.bias', 'bert.encoder.layer.11.intermediate.moe_adapter.experts_WB.2.weight', 'bert.encoder.layer.11.intermediate.moe_adapter.experts_WB.3.bias', 'bert.encoder.layer.11.intermediate.moe_adapter.experts_WB.3.weight', 'bert.encoder.layer.11.intermediate.moe_adapter.router_Wg.bias', 'bert.encoder.layer.11.intermediate.moe_adapter.router_Wg.weight']\n",
            "- This IS expected if you are initializing BertForQuestionAnswering from the checkpoint of a model trained on another task or with another architecture (e.g. initializing a BertForSequenceClassification model from a BertForPreTraining model).\n",
            "- This IS NOT expected if you are initializing BertForQuestionAnswering from the checkpoint of a model that you expect to be exactly identical (initializing a BertForSequenceClassification model from a BertForSequenceClassification model).\n"
          ]
        },
        {
          "output_type": "display_data",
          "data": {
            "text/plain": [
              "Map:   0%|          | 0/8759 [00:00<?, ? examples/s]"
            ],
            "application/vnd.jupyter.widget-view+json": {
              "version_major": 2,
              "version_minor": 0,
              "model_id": "b419898fbde04c559dd23232c5fd7519"
            }
          },
          "metadata": {}
        },
        {
          "output_type": "display_data",
          "data": {
            "text/plain": [
              "Map:   0%|          | 0/1057 [00:00<?, ? examples/s]"
            ],
            "application/vnd.jupyter.widget-view+json": {
              "version_major": 2,
              "version_minor": 0,
              "model_id": "b99cc466525244d984d1c0bb7e9529b2"
            }
          },
          "metadata": {}
        },
        {
          "output_type": "stream",
          "name": "stderr",
          "text": [
            "/usr/local/lib/python3.10/dist-packages/transformers/training_args.py:1568: FutureWarning: `evaluation_strategy` is deprecated and will be removed in version 4.46 of 🤗 Transformers. Use `eval_strategy` instead\n",
            "  warnings.warn(\n",
            "\u001b[34m\u001b[1mwandb\u001b[0m: \u001b[33mWARNING\u001b[0m The `run_name` is currently set to the same value as `TrainingArguments.output_dir`. If this was not intended, please specify a different run name by setting the `TrainingArguments.run_name` parameter.\n",
            "\u001b[34m\u001b[1mwandb\u001b[0m: Using wandb-core as the SDK backend.  Please refer to https://wandb.me/wandb-core for more information.\n"
          ]
        },
        {
          "output_type": "display_data",
          "data": {
            "text/plain": [
              "<IPython.core.display.Javascript object>"
            ],
            "application/javascript": [
              "\n",
              "        window._wandbApiKey = new Promise((resolve, reject) => {\n",
              "            function loadScript(url) {\n",
              "            return new Promise(function(resolve, reject) {\n",
              "                let newScript = document.createElement(\"script\");\n",
              "                newScript.onerror = reject;\n",
              "                newScript.onload = resolve;\n",
              "                document.body.appendChild(newScript);\n",
              "                newScript.src = url;\n",
              "            });\n",
              "            }\n",
              "            loadScript(\"https://cdn.jsdelivr.net/npm/postmate/build/postmate.min.js\").then(() => {\n",
              "            const iframe = document.createElement('iframe')\n",
              "            iframe.style.cssText = \"width:0;height:0;border:none\"\n",
              "            document.body.appendChild(iframe)\n",
              "            const handshake = new Postmate({\n",
              "                container: iframe,\n",
              "                url: 'https://wandb.ai/authorize'\n",
              "            });\n",
              "            const timeout = setTimeout(() => reject(\"Couldn't auto authenticate\"), 5000)\n",
              "            handshake.then(function(child) {\n",
              "                child.on('authorize', data => {\n",
              "                    clearTimeout(timeout)\n",
              "                    resolve(data)\n",
              "                });\n",
              "            });\n",
              "            })\n",
              "        });\n",
              "    "
            ]
          },
          "metadata": {}
        },
        {
          "output_type": "stream",
          "name": "stderr",
          "text": [
            "\u001b[34m\u001b[1mwandb\u001b[0m: Logging into wandb.ai. (Learn how to deploy a W&B server locally: https://wandb.me/wandb-server)\n",
            "\u001b[34m\u001b[1mwandb\u001b[0m: You can find your API key in your browser here: https://wandb.ai/authorize\n",
            "wandb: Paste an API key from your profile and hit enter, or press ctrl+c to quit:"
          ]
        },
        {
          "name": "stdout",
          "output_type": "stream",
          "text": [
            " ··········\n"
          ]
        },
        {
          "output_type": "stream",
          "name": "stderr",
          "text": [
            "\u001b[34m\u001b[1mwandb\u001b[0m: Appending key for api.wandb.ai to your netrc file: /root/.netrc\n"
          ]
        },
        {
          "output_type": "display_data",
          "data": {
            "text/plain": [
              "<IPython.core.display.HTML object>"
            ],
            "text/html": [
              "Tracking run with wandb version 0.18.7"
            ]
          },
          "metadata": {}
        },
        {
          "output_type": "display_data",
          "data": {
            "text/plain": [
              "<IPython.core.display.HTML object>"
            ],
            "text/html": [
              "Run data is saved locally in <code>/content/wandb/run-20241125_042756-3krw4zkl</code>"
            ]
          },
          "metadata": {}
        },
        {
          "output_type": "display_data",
          "data": {
            "text/plain": [
              "<IPython.core.display.HTML object>"
            ],
            "text/html": [
              "Syncing run <strong><a href='https://wandb.ai/mrtayade_p24-vjti/huggingface/runs/3krw4zkl' target=\"_blank\">./results</a></strong> to <a href='https://wandb.ai/mrtayade_p24-vjti/huggingface' target=\"_blank\">Weights & Biases</a> (<a href='https://wandb.me/developer-guide' target=\"_blank\">docs</a>)<br/>"
            ]
          },
          "metadata": {}
        },
        {
          "output_type": "display_data",
          "data": {
            "text/plain": [
              "<IPython.core.display.HTML object>"
            ],
            "text/html": [
              " View project at <a href='https://wandb.ai/mrtayade_p24-vjti/huggingface' target=\"_blank\">https://wandb.ai/mrtayade_p24-vjti/huggingface</a>"
            ]
          },
          "metadata": {}
        },
        {
          "output_type": "display_data",
          "data": {
            "text/plain": [
              "<IPython.core.display.HTML object>"
            ],
            "text/html": [
              " View run at <a href='https://wandb.ai/mrtayade_p24-vjti/huggingface/runs/3krw4zkl' target=\"_blank\">https://wandb.ai/mrtayade_p24-vjti/huggingface/runs/3krw4zkl</a>"
            ]
          },
          "metadata": {}
        },
        {
          "output_type": "display_data",
          "data": {
            "text/plain": [
              "<IPython.core.display.HTML object>"
            ],
            "text/html": [
              "\n",
              "    <div>\n",
              "      \n",
              "      <progress value='3318' max='3318' style='width:300px; height:20px; vertical-align: middle;'></progress>\n",
              "      [3318/3318 33:40, Epoch 3/3]\n",
              "    </div>\n",
              "    <table border=\"1\" class=\"dataframe\">\n",
              "  <thead>\n",
              " <tr style=\"text-align: left;\">\n",
              "      <th>Epoch</th>\n",
              "      <th>Training Loss</th>\n",
              "      <th>Validation Loss</th>\n",
              "    </tr>\n",
              "  </thead>\n",
              "  <tbody>\n",
              "    <tr>\n",
              "      <td>1</td>\n",
              "      <td>0.000300</td>\n",
              "      <td>0.000083</td>\n",
              "    </tr>\n",
              "    <tr>\n",
              "      <td>2</td>\n",
              "      <td>0.000100</td>\n",
              "      <td>0.000047</td>\n",
              "    </tr>\n",
              "    <tr>\n",
              "      <td>3</td>\n",
              "      <td>0.000100</td>\n",
              "      <td>0.000038</td>\n",
              "    </tr>\n",
              "  </tbody>\n",
              "</table><p>"
            ]
          },
          "metadata": {}
        },
        {
          "output_type": "execute_result",
          "data": {
            "text/plain": [
              "TrainOutput(global_step=3318, training_loss=0.02926873161124583, metrics={'train_runtime': 2065.4424, 'train_samples_per_second': 12.851, 'train_steps_per_second': 1.606, 'total_flos': 5201895833100288.0, 'train_loss': 0.02926873161124583, 'epoch': 3.0})"
            ]
          },
          "metadata": {},
          "execution_count": 15
        }
      ],
      "source": [
        "# 1. Install dependencies\n",
        "# !pip install transformers datasets\n",
        "\n",
        "import torch\n",
        "from transformers import AutoTokenizer, AutoModelForQuestionAnswering, TrainingArguments, Trainer\n",
        "from datasets import load_dataset\n",
        "\n",
        "#2.  Load the SQuAD dataset\n",
        "dataset1 = load_dataset(\"squad\")\n",
        "\n",
        "# Define the desired subset size (10%)\n",
        "subset_size = 0.1\n",
        "\n",
        "# Function to create a subset of a given split\n",
        "def create_subset(split_name):\n",
        "    num_samples = int(len(dataset1[split_name]) * subset_size)\n",
        "    subset = dataset1[split_name].shuffle(seed=42).select(range(num_samples))\n",
        "    return subset\n",
        "\n",
        "# Create subsets for training and validation\n",
        "train_subset = create_subset(\"train\")\n",
        "validation_subset = create_subset(\"validation\")\n",
        "\n",
        "# Create a new DatasetDict with the subsets\n",
        "# Use DatasetDict constructor instead of dataset.from_dict\n",
        "dataset = DatasetDict({\n",
        "    \"train\": train_subset,\n",
        "    \"validation\": validation_subset\n",
        "})\n",
        "\n",
        "# 3. Initialize tokenizer and model\n",
        "model_name = \"modified_transformer_with_moe_adapter\"\n",
        "#model_name = \"distilbert-base-uncased\"  # or any other model like \"bert-base-uncased\"\n",
        "tokenizer = AutoTokenizer.from_pretrained(model_name)\n",
        "model = AutoModelForQuestionAnswering.from_pretrained(model_name)\n",
        "\n",
        "# 4. Preprocess data for question answering\n",
        "def preprocess(example):\n",
        "    questions = [q.strip() for q in example[\"question\"]]\n",
        "    contexts = [c.strip() for c in example[\"context\"]]\n",
        "    answers = example[\"answers\"]\n",
        "\n",
        "    # Tokenize inputs\n",
        "    tokenized_examples = tokenizer(\n",
        "        questions,\n",
        "        contexts,\n",
        "        truncation=True,\n",
        "        padding=\"max_length\",\n",
        "        max_length=384,\n",
        "        stride=128,\n",
        "        return_overflowing_tokens=True,\n",
        "        return_offsets_mapping=True\n",
        "    )\n",
        "\n",
        "    # Map start and end positions\n",
        "    offset_mapping = tokenized_examples.pop(\"offset_mapping\")\n",
        "    sample_mapping = tokenized_examples.pop(\"overflow_to_sample_mapping\")\n",
        "\n",
        "    tokenized_examples[\"start_positions\"] = []\n",
        "    tokenized_examples[\"end_positions\"] = []\n",
        "\n",
        "    for i, offsets in enumerate(offset_mapping):\n",
        "        input_ids = tokenized_examples[\"input_ids\"][i]\n",
        "        cls_index = input_ids.index(tokenizer.cls_token_id)\n",
        "\n",
        "        # Retrieve corresponding sample and answer\n",
        "        sample_index = sample_mapping[i]\n",
        "        answer = answers[sample_index]\n",
        "        start_char = answer[\"answer_start\"][0]\n",
        "        end_char = start_char + len(answer[\"text\"][0])\n",
        "\n",
        "        # Find the start and end token positions\n",
        "        token_start_index, token_end_index = 0, len(input_ids) - 1\n",
        "        while token_start_index < len(offsets) and offsets[token_start_index][0] <= start_char:\n",
        "            token_start_index += 1\n",
        "        token_start_index -= 1\n",
        "        while token_end_index >= 0 and offsets[token_end_index][1] >= end_char:\n",
        "            token_end_index -= 1\n",
        "        token_end_index += 1\n",
        "\n",
        "        # Add bounds check for token_start_index and token_end_index\n",
        "        token_start_index = max(0, min(token_start_index, len(offsets) - 1))\n",
        "        token_end_index = max(0, min(token_end_index, len(offsets) - 1))\n",
        "\n",
        "        # Assign positions or assign CLS if no answer\n",
        "        if offsets[token_start_index][0] <= start_char and offsets[token_end_index][1] >= end_char:\n",
        "            tokenized_examples[\"start_positions\"].append(token_start_index)\n",
        "            tokenized_examples[\"end_positions\"].append(token_end_index)\n",
        "        else:\n",
        "            tokenized_examples[\"start_positions\"].append(cls_index)\n",
        "            tokenized_examples[\"end_positions\"].append(cls_index)\n",
        "\n",
        "    return tokenized_examples\n",
        "\n",
        "# Apply preprocessing to the dataset\n",
        "tokenized_datasets = dataset.map(preprocess, batched=True, remove_columns=dataset[\"train\"].column_names)\n",
        "\n",
        "# 5. Set training arguments\n",
        "training_args = TrainingArguments(\n",
        "    output_dir=\"./results\",\n",
        "    evaluation_strategy=\"epoch\",\n",
        "    learning_rate=2e-5,\n",
        "    per_device_train_batch_size=8,\n",
        "    per_device_eval_batch_size=8,\n",
        "    num_train_epochs=3,\n",
        "    weight_decay=0.01,\n",
        "    save_steps=10_000,\n",
        "    save_total_limit=2,\n",
        ")\n",
        "\n",
        "# 6. Initialize Trainer\n",
        "trainer = Trainer(\n",
        "    model=model,\n",
        "    args=training_args,\n",
        "    train_dataset=tokenized_datasets[\"train\"],\n",
        "    eval_dataset=tokenized_datasets[\"validation\"],\n",
        ")\n",
        "\n",
        "# 7. Start training\n",
        "trainer.train()\n",
        "\n"
      ]
    },
    {
      "cell_type": "markdown",
      "metadata": {
        "id": "aZLflfCcVp1s"
      },
      "source": []
    },
    {
      "cell_type": "code",
      "execution_count": null,
      "metadata": {
        "id": "y7xE6J-qomXl"
      },
      "outputs": [],
      "source": [
        "#wandb key :6d725493110a315b8e9782d2e8f21458277d93d5"
      ]
    },
    {
      "cell_type": "code",
      "execution_count": null,
      "metadata": {
        "colab": {
          "background_save": true,
          "base_uri": "https://localhost:8080/"
        },
        "id": "SREsbWFMpIT8",
        "outputId": "c90e9cb4-9d30-4862-a759-5523263de8f4"
      },
      "outputs": [
        {
          "data": {
            "text/plain": [
              "('squad_weights_finetunned_bert/tokenizer_config.json',\n",
              " 'squad_weights_finetunned_bert/special_tokens_map.json',\n",
              " 'squad_weights_finetunned_bert/vocab.txt',\n",
              " 'squad_weights_finetunned_bert/added_tokens.json',\n",
              " 'squad_weights_finetunned_bert/tokenizer.json')"
            ]
          },
          "execution_count": 12,
          "metadata": {},
          "output_type": "execute_result"
        }
      ],
      "source": [
        "# Save model and tokenizer locally\n",
        "model.save_pretrained(\"squad_weights_finetunned_bert\")\n",
        "tokenizer.save_pretrained(\"squad_weights_finetunned_bert\")\n"
      ]
    },
    {
      "cell_type": "code",
      "execution_count": null,
      "metadata": {
        "id": "gmi3DGI4ImAi"
      },
      "outputs": [],
      "source": [
        "from google.colab import drive\n",
        "drive.mount('/content/drive')  # Mount Google Drive to '/content/drive'\n",
        "torch.save(model, '/content/drive/My Drive/finetuning/squad_weights_finetunned_bert.pt')  # Update the path\n"
      ]
    },
    {
      "cell_type": "code",
      "execution_count": null,
      "metadata": {
        "id": "RTTtNpTwoUDV",
        "colab": {
          "base_uri": "https://localhost:8080/"
        },
        "outputId": "9f89bda3-3b07-42c4-b12b-0590ea1c89ad"
      },
      "outputs": [
        {
          "output_type": "stream",
          "name": "stdout",
          "text": [
            "Mounted at /content/drive\n",
            "Model and tokenizer saved to /content/drive/My Drive/finetuning/squad/squad_weights_bert\n"
          ]
        }
      ],
      "source": [
        "from google.colab import drive\n",
        "drive.mount('/content/drive')\n",
        "\n",
        "# Define save path in Google Drive\n",
        "#model_save_path = '/content/drive/My Drive/finetuning/squad_weights_finetunned_bert'\n",
        "model_save_path = '/content/drive/My Drive/finetuning/squad/squad_weights_bert'\n",
        "\n",
        "# Save the fine-tuned model and tokenizer to Google Drive\n",
        "model.save_pretrained(model_save_path)\n",
        "tokenizer.save_pretrained(model_save_path)\n",
        "\n",
        "print(f\"Model and tokenizer saved to {model_save_path}\")"
      ]
    },
    {
      "cell_type": "code",
      "execution_count": null,
      "metadata": {
        "colab": {
          "base_uri": "https://localhost:8080/",
          "height": 75
        },
        "id": "dAUCPfNZpdFE",
        "outputId": "9947cdf8-f2f2-4304-c913-706439ab770e"
      },
      "outputs": [
        {
          "output_type": "display_data",
          "data": {
            "text/plain": [
              "<IPython.core.display.HTML object>"
            ],
            "text/html": [
              "\n",
              "    <div>\n",
              "      \n",
              "      <progress value='135' max='135' style='width:300px; height:20px; vertical-align: middle;'></progress>\n",
              "      [135/135 00:22]\n",
              "    </div>\n",
              "    "
            ]
          },
          "metadata": {}
        },
        {
          "output_type": "stream",
          "name": "stdout",
          "text": [
            "Squad Evaluation results: {'eval_loss': 3.8051610317779705e-05, 'eval_runtime': 22.3331, 'eval_samples_per_second': 48.224, 'eval_steps_per_second': 6.045, 'epoch': 3.0}\n"
          ]
        }
      ],
      "source": [
        "# Evaluate on dataset\n",
        "squad_results = trainer.evaluate()\n",
        "\n",
        "print(f\"Squad Evaluation results: {squad_results}\")"
      ]
    },
    {
      "cell_type": "code",
      "execution_count": 56,
      "metadata": {
        "id": "Y_aliNg2pccw",
        "colab": {
          "base_uri": "https://localhost:8080/"
        },
        "outputId": "cbafa5b2-370c-4ff8-ab1f-267c775d8f52"
      },
      "outputs": [
        {
          "output_type": "stream",
          "name": "stdout",
          "text": [
            "Drive already mounted at /content/drive; to attempt to forcibly remount, call drive.mount(\"/content/drive\", force_remount=True).\n"
          ]
        }
      ],
      "source": [
        "from transformers import AutoTokenizer, AutoModelForQuestionAnswering\n",
        "import torch\n",
        "\n",
        "from google.colab import drive\n",
        "drive.mount('/content/drive')\n",
        "# Define the save path in Google Drive\n",
        "#model_save_path = '/content/drive/My Drive/finetuning/squad_weights_finetunned_bert'\n",
        "model_save_path = '/content/drive/My Drive/finetuning/squad/squad_weights_bert'\n",
        "\n",
        "# Load the saved model and tokenizer\n",
        "tokenizer = AutoTokenizer.from_pretrained(model_save_path)\n",
        "model = AutoModelForQuestionAnswering.from_pretrained(model_save_path)"
      ]
    },
    {
      "cell_type": "code",
      "execution_count": 57,
      "metadata": {
        "id": "ejI78yvMt2gF"
      },
      "outputs": [],
      "source": [
        "def answer_question(question, context):\n",
        "    # Encode the inputs for the model\n",
        "    inputs = tokenizer(question, context, return_tensors=\"pt\", truncation=True, max_length=384)\n",
        "\n",
        "    # Pass the inputs through the model\n",
        "    with torch.no_grad():\n",
        "        outputs = model(**inputs)\n",
        "\n",
        "    # Extract the start and end logits\n",
        "    start_logits = outputs.start_logits\n",
        "    end_logits = outputs.end_logits\n",
        "\n",
        "    # Get the most probable start and end positions\n",
        "    start_idx = torch.argmax(start_logits)\n",
        "    end_idx = torch.argmax(end_logits) + 1  # +1 to include the end token\n",
        "\n",
        "    # Decode the answer from the input IDs\n",
        "    answer_tokens = inputs['input_ids'][0][start_idx:end_idx]\n",
        "    answer = tokenizer.decode(answer_tokens, skip_special_tokens=True)\n",
        "\n",
        "    return answer\n"
      ]
    },
    {
      "cell_type": "code",
      "execution_count": 58,
      "metadata": {
        "id": "vExV_uFFt2cz",
        "colab": {
          "base_uri": "https://localhost:8080/"
        },
        "outputId": "22293189-fcd1-482a-c4e3-a7f85d418733"
      },
      "outputs": [
        {
          "output_type": "stream",
          "name": "stdout",
          "text": [
            "Answer: \n"
          ]
        }
      ],
      "source": [
        "question = \"What are the symptoms of COVID-19?\"\n",
        "context = \"COVID-19 symptoms include fever, cough, and difficulty breathing among others.\"\n",
        "\n",
        "answer = answer_question(question, context)\n",
        "print(\"Answer:\", answer)\n"
      ]
    },
    {
      "cell_type": "markdown",
      "metadata": {
        "id": "BlXmNA5gDSFj"
      },
      "source": [
        "Checking Memory Usage During Model Initialization"
      ]
    },
    {
      "cell_type": "code",
      "execution_count": 93,
      "metadata": {
        "id": "SRmAwWCxDKn2",
        "colab": {
          "base_uri": "https://localhost:8080/"
        },
        "outputId": "b9d86bab-dde3-47ef-a3a1-6b3123faf6d7"
      },
      "outputs": [
        {
          "output_type": "stream",
          "name": "stderr",
          "text": [
            "Some weights of BertModel were not initialized from the model checkpoint at /content/drive/My Drive/finetuning/squad/squad_weights_bert and are newly initialized: ['bert.pooler.dense.bias', 'bert.pooler.dense.weight']\n",
            "You should probably TRAIN this model on a down-stream task to be able to use it for predictions and inference.\n"
          ]
        },
        {
          "output_type": "stream",
          "name": "stdout",
          "text": [
            "Memory allocated before forward pass: 1701083648 bytes\n",
            "Memory allocated after forward pass: 1705900032 bytes\n"
          ]
        }
      ],
      "source": [
        "import torch\n",
        "from transformers import BertModel, BertTokenizer\n",
        "\n",
        "# Initialize BERT model\n",
        "model = BertModel.from_pretrained('/content/drive/My Drive/finetuning/squad/squad_weights_bert')\n",
        "tokenizer = BertTokenizer.from_pretrained('/content/drive/My Drive/finetuning/squad/squad_weights_bert')\n",
        "\n",
        "# Example input\n",
        "input_text = \"Hello, how are you?\"\n",
        "inputs = tokenizer(input_text, return_tensors=\"pt\")\n",
        "\n",
        "# Move model to GPU (if available)\n",
        "device = torch.device(\"cuda\" if torch.cuda.is_available() else \"cpu\")\n",
        "model.to(device)\n",
        "\n",
        "# Check memory before forward pass\n",
        "print(f\"Memory allocated before forward pass: {torch.cuda.memory_allocated(device)} bytes\")\n",
        "\n",
        "# Forward pass\n",
        "outputs = model(**inputs.to(device))\n",
        "\n",
        "# Check memory after forward pass\n",
        "print(f\"Memory allocated after forward pass: {torch.cuda.memory_allocated(device)} bytes\")\n"
      ]
    },
    {
      "cell_type": "markdown",
      "metadata": {
        "id": "nmwNZ3nqDZoR"
      },
      "source": [
        "Use psutil (For CPU Memory) This can give the memory usage on the system level. You can monitor the memory usage of your process while loading or fine-tuning a model."
      ]
    },
    {
      "cell_type": "code",
      "execution_count": 94,
      "metadata": {
        "id": "VB2Z1_evDKkU",
        "colab": {
          "base_uri": "https://localhost:8080/"
        },
        "outputId": "8f2ccd05-d3e1-4316-e7f8-46c0870b4e00"
      },
      "outputs": [
        {
          "output_type": "stream",
          "name": "stdout",
          "text": [
            "Memory usage: 2080.78125 MB\n"
          ]
        }
      ],
      "source": [
        "import psutil\n",
        "import os\n",
        "\n",
        "# Get current process\n",
        "process = psutil.Process(os.getpid())\n",
        "\n",
        "# Get memory usage in MB\n",
        "print(f\"Memory usage: {process.memory_info().rss / 1024 / 1024} MB\")"
      ]
    },
    {
      "cell_type": "markdown",
      "source": [
        "Checking model performance"
      ],
      "metadata": {
        "id": "kWxvg6d1lTBx"
      }
    },
    {
      "cell_type": "code",
      "execution_count": 68,
      "metadata": {
        "id": "WziMq5sCDKgR",
        "colab": {
          "base_uri": "https://localhost:8080/"
        },
        "outputId": "458d1fbf-9ab3-4023-c284-895650b37466"
      },
      "outputs": [
        {
          "output_type": "stream",
          "name": "stdout",
          "text": [
            "Question: What is the capital of France?\n",
            "Context: France is a country in Europe. The capital of France is Paris.\n",
            "Predicted Answer: \n"
          ]
        }
      ],
      "source": [
        "from transformers import AutoTokenizer, AutoModelForQuestionAnswering\n",
        "import torch\n",
        "\n",
        "# Load pre-trained model and tokenizer\n",
        "\n",
        "model_name =\"/content/drive/My Drive/finetuning/squad/squad_weights_bert\" # Removed the trailing single quote\n",
        "tokenizer = AutoTokenizer.from_pretrained(model_name)\n",
        "model = AutoModelForQuestionAnswering.from_pretrained(model_name)\n",
        "\n",
        "# Get the device\n",
        "device = torch.device(\"cuda\" if torch.cuda.is_available() else \"cpu\")\n",
        "\n",
        "# Move the model to the device\n",
        "model.to(device)\n",
        "\n",
        "question = \"What is the capital of France?\"\n",
        "context = \"France is a country in Europe. The capital of France is Paris.\"\n",
        "\n",
        "# Tokenize the input\n",
        "inputs = tokenizer(\n",
        "    question,\n",
        "    context,\n",
        "    truncation=True,\n",
        "    padding=\"max_length\",\n",
        "    max_length=384,\n",
        "    return_tensors=\"pt\"  # Return PyTorch tensors\n",
        ")\n",
        "\n",
        "# Move the input tensors to the same device as the model\n",
        "inputs = inputs.to(device) # This line moves the input tensors to the correct device\n",
        "\n",
        "# Make predictions\n",
        "model.eval()  # Set the model to evaluation mode\n",
        "with torch.no_grad():\n",
        "    outputs = model(**inputs)\n",
        "\n",
        "# Extract start and end logits\n",
        "start_logits = outputs.start_logits\n",
        "end_logits = outputs.end_logits\n",
        "\n",
        "# Find the start and end token positions\n",
        "start_index = torch.argmax(start_logits, dim=1).item()\n",
        "end_index = torch.argmax(end_logits, dim=1).item()\n",
        "\n",
        "# Decode the answer\n",
        "answer_tokens = inputs[\"input_ids\"][0][start_index:end_index + 1]\n",
        "predicted_answer = tokenizer.decode(answer_tokens, skip_special_tokens=True)\n",
        "\n",
        "print(f\"Question: {question}\")\n",
        "print(f\"Context: {context}\")\n",
        "print(f\"Predicted Answer: {predicted_answer}\")\n"
      ]
    },
    {
      "cell_type": "markdown",
      "source": [
        "or"
      ],
      "metadata": {
        "id": "jFKhtePnl5If"
      }
    },
    {
      "cell_type": "code",
      "execution_count": 65,
      "metadata": {
        "id": "Iwca3buRDKaQ",
        "colab": {
          "base_uri": "https://localhost:8080/"
        },
        "outputId": "b246dc3b-bf17-43a5-b409-97b9778a60df"
      },
      "outputs": [
        {
          "output_type": "stream",
          "name": "stdout",
          "text": [
            "Question: What is the capital of France?\n",
            "Context: France is a country in Europe. The capital of France is Paris.\n",
            "Predicted Answer: what is the capital of\n"
          ]
        }
      ],
      "source": [
        "from transformers import AutoTokenizer, AutoModelForQuestionAnswering\n",
        "import torch\n",
        "\n",
        "# Load pre-trained model and tokenizer\n",
        "\n",
        "model_name =\"/content/drive/My Drive/finetuning/squad/squad_weights_bert\" # Removed the trailing single quote\n",
        "tokenizer = AutoTokenizer.from_pretrained(model_name)\n",
        "model = AutoModelForQuestionAnswering.from_pretrained(model_name)\n",
        "\n",
        "# Define question and context\n",
        "question = \"What is the capital of France?\"\n",
        "context = \"France is a country in Europe. The capital of France is Paris.\"\n",
        "\n",
        "# Tokenize inputs\n",
        "inputs = tokenizer(\n",
        "    question,\n",
        "    context,\n",
        "    truncation=True,\n",
        "    padding=\"max_length\",\n",
        "    max_length=384,\n",
        "    return_tensors=\"pt\"\n",
        ")\n",
        "\n",
        "# Get predictions\n",
        "model.eval()\n",
        "with torch.no_grad():\n",
        "    outputs = model(**inputs)\n",
        "\n",
        "# Extract start and end logits\n",
        "start_logits = outputs.start_logits\n",
        "end_logits = outputs.end_logits\n",
        "\n",
        "# Get start and end indices\n",
        "start_index = torch.argmax(start_logits, dim=1).item()\n",
        "end_index = torch.argmax(end_logits, dim=1).item()\n",
        "\n",
        "# Decode the predicted answer\n",
        "if start_index <= end_index:  # Ensure valid indices\n",
        "    answer_tokens = inputs[\"input_ids\"][0][start_index:end_index + 6]\n",
        "    predicted_answer = tokenizer.decode(answer_tokens, skip_special_tokens=True)\n",
        "else:\n",
        "    predicted_answer = \"Unable to find a valid answer.\"\n",
        "\n",
        "print(f\"Question: {question}\")\n",
        "print(f\"Context: {context}\")\n",
        "print(f\"Predicted Answer: {predicted_answer}\")\n"
      ]
    },
    {
      "cell_type": "code",
      "source": [
        "!pip install datasets transformers"
      ],
      "metadata": {
        "colab": {
          "base_uri": "https://localhost:8080/"
        },
        "id": "TXrKDyCtu1HV",
        "outputId": "0a1f4f91-d08f-4a13-9615-5452439984f2"
      },
      "execution_count": null,
      "outputs": [
        {
          "output_type": "stream",
          "name": "stdout",
          "text": [
            "Requirement already satisfied: datasets in /usr/local/lib/python3.10/dist-packages (3.1.0)\n",
            "Requirement already satisfied: transformers in /usr/local/lib/python3.10/dist-packages (4.46.2)\n",
            "Requirement already satisfied: filelock in /usr/local/lib/python3.10/dist-packages (from datasets) (3.16.1)\n",
            "Requirement already satisfied: numpy>=1.17 in /usr/local/lib/python3.10/dist-packages (from datasets) (1.26.4)\n",
            "Requirement already satisfied: pyarrow>=15.0.0 in /usr/local/lib/python3.10/dist-packages (from datasets) (17.0.0)\n",
            "Requirement already satisfied: dill<0.3.9,>=0.3.0 in /usr/local/lib/python3.10/dist-packages (from datasets) (0.3.8)\n",
            "Requirement already satisfied: pandas in /usr/local/lib/python3.10/dist-packages (from datasets) (2.2.2)\n",
            "Requirement already satisfied: requests>=2.32.2 in /usr/local/lib/python3.10/dist-packages (from datasets) (2.32.3)\n",
            "Requirement already satisfied: tqdm>=4.66.3 in /usr/local/lib/python3.10/dist-packages (from datasets) (4.66.6)\n",
            "Requirement already satisfied: xxhash in /usr/local/lib/python3.10/dist-packages (from datasets) (3.5.0)\n",
            "Requirement already satisfied: multiprocess<0.70.17 in /usr/local/lib/python3.10/dist-packages (from datasets) (0.70.16)\n",
            "Requirement already satisfied: fsspec<=2024.9.0,>=2023.1.0 in /usr/local/lib/python3.10/dist-packages (from fsspec[http]<=2024.9.0,>=2023.1.0->datasets) (2024.9.0)\n",
            "Requirement already satisfied: aiohttp in /usr/local/lib/python3.10/dist-packages (from datasets) (3.11.2)\n",
            "Requirement already satisfied: huggingface-hub>=0.23.0 in /usr/local/lib/python3.10/dist-packages (from datasets) (0.26.2)\n",
            "Requirement already satisfied: packaging in /usr/local/lib/python3.10/dist-packages (from datasets) (24.2)\n",
            "Requirement already satisfied: pyyaml>=5.1 in /usr/local/lib/python3.10/dist-packages (from datasets) (6.0.2)\n",
            "Requirement already satisfied: regex!=2019.12.17 in /usr/local/lib/python3.10/dist-packages (from transformers) (2024.9.11)\n",
            "Requirement already satisfied: safetensors>=0.4.1 in /usr/local/lib/python3.10/dist-packages (from transformers) (0.4.5)\n",
            "Requirement already satisfied: tokenizers<0.21,>=0.20 in /usr/local/lib/python3.10/dist-packages (from transformers) (0.20.3)\n",
            "Requirement already satisfied: aiohappyeyeballs>=2.3.0 in /usr/local/lib/python3.10/dist-packages (from aiohttp->datasets) (2.4.3)\n",
            "Requirement already satisfied: aiosignal>=1.1.2 in /usr/local/lib/python3.10/dist-packages (from aiohttp->datasets) (1.3.1)\n",
            "Requirement already satisfied: attrs>=17.3.0 in /usr/local/lib/python3.10/dist-packages (from aiohttp->datasets) (24.2.0)\n",
            "Requirement already satisfied: frozenlist>=1.1.1 in /usr/local/lib/python3.10/dist-packages (from aiohttp->datasets) (1.5.0)\n",
            "Requirement already satisfied: multidict<7.0,>=4.5 in /usr/local/lib/python3.10/dist-packages (from aiohttp->datasets) (6.1.0)\n",
            "Requirement already satisfied: propcache>=0.2.0 in /usr/local/lib/python3.10/dist-packages (from aiohttp->datasets) (0.2.0)\n",
            "Requirement already satisfied: yarl<2.0,>=1.17.0 in /usr/local/lib/python3.10/dist-packages (from aiohttp->datasets) (1.17.2)\n",
            "Requirement already satisfied: async-timeout<6.0,>=4.0 in /usr/local/lib/python3.10/dist-packages (from aiohttp->datasets) (4.0.3)\n",
            "Requirement already satisfied: typing-extensions>=3.7.4.3 in /usr/local/lib/python3.10/dist-packages (from huggingface-hub>=0.23.0->datasets) (4.12.2)\n",
            "Requirement already satisfied: charset-normalizer<4,>=2 in /usr/local/lib/python3.10/dist-packages (from requests>=2.32.2->datasets) (3.4.0)\n",
            "Requirement already satisfied: idna<4,>=2.5 in /usr/local/lib/python3.10/dist-packages (from requests>=2.32.2->datasets) (3.10)\n",
            "Requirement already satisfied: urllib3<3,>=1.21.1 in /usr/local/lib/python3.10/dist-packages (from requests>=2.32.2->datasets) (2.2.3)\n",
            "Requirement already satisfied: certifi>=2017.4.17 in /usr/local/lib/python3.10/dist-packages (from requests>=2.32.2->datasets) (2024.8.30)\n",
            "Requirement already satisfied: python-dateutil>=2.8.2 in /usr/local/lib/python3.10/dist-packages (from pandas->datasets) (2.8.2)\n",
            "Requirement already satisfied: pytz>=2020.1 in /usr/local/lib/python3.10/dist-packages (from pandas->datasets) (2024.2)\n",
            "Requirement already satisfied: tzdata>=2022.7 in /usr/local/lib/python3.10/dist-packages (from pandas->datasets) (2024.2)\n",
            "Requirement already satisfied: six>=1.5 in /usr/local/lib/python3.10/dist-packages (from python-dateutil>=2.8.2->pandas->datasets) (1.16.0)\n"
          ]
        }
      ]
    },
    {
      "cell_type": "code",
      "source": [
        "from transformers import AutoTokenizer, AutoModelForQuestionAnswering\n",
        "import torch\n",
        "\n",
        "# Load pre-trained model and tokenizer\n",
        "model_name =\"/content/drive/My Drive/finetuning/squad/squad_weights_bert\"\n",
        "#model_name =\"bert-large-uncased\"\n",
        "tokenizer = AutoTokenizer.from_pretrained(model_name)\n",
        "model = AutoModelForQuestionAnswering.from_pretrained(model_name)\n",
        "\n",
        "# Define question and context\n",
        "question = \"What is the capital of France?\"\n",
        "context = \"France is a country in Europe. The capital of France is Paris.\"\n",
        "\n",
        "# Tokenize inputs\n",
        "inputs = tokenizer(\n",
        "    question,\n",
        "    context,\n",
        "    truncation=True,\n",
        "    padding=\"max_length\",\n",
        "    max_length=384,\n",
        "    return_tensors=\"pt\"\n",
        ")\n",
        "\n",
        "# Get predictions\n",
        "model.eval()\n",
        "with torch.no_grad():\n",
        "    outputs = model(**inputs)\n",
        "\n",
        "# Extract start and end logits\n",
        "start_logits = outputs.start_logits\n",
        "end_logits = outputs.end_logits\n",
        "\n",
        "# Get start and end indices\n",
        "start_index = torch.argmax(start_logits, dim=1).item()\n",
        "end_index = torch.argmax(end_logits, dim=1).item()\n",
        "\n",
        "# --- Debugging ---\n",
        "print(f\"Start index: {start_index}\")\n",
        "print(f\"End index: {end_index}\")\n",
        "print(f\"Start logits: {start_logits}\")\n",
        "print(f\"End logits: {end_logits}\")\n",
        "# --- End Debugging ---\n",
        "\n",
        "# Decode the predicted answer\n",
        "# Adjust logic to handle cases where end_index is before start_index\n",
        "if start_index <= end_index:\n",
        "    answer_tokens = inputs[\"input_ids\"][0][start_index : end_index + 1]\n",
        "    predicted_answer = tokenizer.decode(answer_tokens, skip_special_tokens=True)\n",
        "else:\n",
        "    # If end_index is before start_index, consider the highest start_logit as the answer\n",
        "    start_index = torch.argmax(start_logits).item()\n",
        "    predicted_answer = tokenizer.decode(inputs[\"input_ids\"][0][start_index], skip_special_tokens=True)\n",
        "    print(\"Warning: End index before start index. Using highest start logit as answer.\")\n",
        "\n",
        "print(f\"Question: {question}\")\n",
        "print(f\"Context: {context}\")\n",
        "print(f\"Predicted Answer: {predicted_answer}\")"
      ],
      "metadata": {
        "colab": {
          "base_uri": "https://localhost:8080/"
        },
        "id": "c4xaQGuauIg5",
        "outputId": "81c1a5ce-43a7-42cd-8610-3fa1474fb716"
      },
      "execution_count": null,
      "outputs": [
        {
          "output_type": "stream",
          "name": "stdout",
          "text": [
            "Start index: 0\n",
            "End index: 0\n",
            "Start logits: tensor([[ 8.0861, -7.1891, -7.7306, -7.8118, -7.8425, -7.8792, -7.4537, -6.0438,\n",
            "         -6.1798, -7.8643, -7.8966, -7.9340, -7.9262, -7.9059, -7.9165, -7.8833,\n",
            "         -7.9115, -7.9525, -7.9296, -7.9443, -7.8704, -7.9511, -7.8848, -6.1849,\n",
            "         -7.9678, -7.9705, -7.9677, -7.9687, -7.9728, -7.9731, -7.9704, -7.9666,\n",
            "         -7.9619, -7.9679, -7.9648, -7.9645, -7.9613, -7.9501, -7.9638, -7.9684,\n",
            "         -7.9663, -7.9649, -7.9617, -7.9646, -7.9660, -7.9594, -7.9568, -7.9560,\n",
            "         -7.9552, -7.9600, -7.9590, -7.9559, -7.9611, -7.9669, -7.9709, -7.9723,\n",
            "         -7.9655, -7.9642, -7.9703, -7.9690, -7.9683, -7.9537, -7.9422, -7.9618,\n",
            "         -7.9458, -7.9631, -7.9574, -7.9483, -7.9692, -7.9693, -7.9650, -7.9666,\n",
            "         -7.9627, -7.9618, -7.9597, -7.9518, -7.9505, -7.9570, -7.9591, -7.9627,\n",
            "         -7.9640, -7.9620, -7.9690, -7.9728, -7.9700, -7.9685, -7.9627, -7.9695,\n",
            "         -7.9734, -7.9653, -7.9624, -7.9584, -7.9560, -7.9658, -7.9653, -7.9603,\n",
            "         -7.9648, -7.9698, -7.9713, -7.9691, -7.9650, -7.9624, -7.9627, -7.9589,\n",
            "         -7.9567, -7.9548, -7.9540, -7.9590, -7.9657, -7.9643, -7.9654, -7.9662,\n",
            "         -7.9678, -7.9727, -7.9715, -7.9652, -7.9660, -7.9586, -7.9690, -7.9675,\n",
            "         -7.9425, -7.9557, -7.9552, -7.9650, -7.9687, -7.9671, -7.9655, -7.9693,\n",
            "         -7.9692, -7.9668, -7.9636, -7.9612, -7.9634, -7.9692, -7.9623, -7.9663,\n",
            "         -7.9684, -7.9719, -7.9757, -7.9763, -7.9707, -7.9723, -7.9801, -7.9783,\n",
            "         -7.9748, -7.9800, -7.9737, -7.9709, -7.9757, -7.9719, -7.9702, -7.9705,\n",
            "         -7.9594, -7.9550, -7.9683, -7.9715, -7.9612, -7.9643, -7.9663, -7.9684,\n",
            "         -7.9659, -7.9628, -7.9627, -7.9622, -7.9581, -7.9592, -7.9575, -7.9522,\n",
            "         -7.9543, -7.9636, -7.9612, -7.9639, -7.9662, -7.9681, -7.9737, -7.9691,\n",
            "         -7.9697, -7.9686, -7.9735, -7.9706, -7.9678, -7.9704, -7.9729, -7.9746,\n",
            "         -7.9697, -7.9665, -7.9665, -7.9651, -7.9718, -7.9715, -7.9672, -7.9664,\n",
            "         -7.9660, -7.9706, -7.9692, -7.9693, -7.9645, -7.9646, -7.9596, -7.9573,\n",
            "         -7.9619, -7.9588, -7.9585, -7.9670, -7.9658, -7.9664, -7.9653, -7.9658,\n",
            "         -7.9700, -7.9714, -7.9658, -7.9665, -7.9663, -7.9590, -7.9693, -7.9623,\n",
            "         -7.9622, -7.9535, -7.9589, -7.9664, -7.9584, -7.9587, -7.9687, -7.9679,\n",
            "         -7.9687, -7.9600, -7.9621, -7.9683, -7.9613, -7.9623, -7.9587, -7.9543,\n",
            "         -7.9598, -7.9623, -7.9524, -7.9548, -7.9571, -7.9539, -7.9584, -7.9613,\n",
            "         -7.9596, -7.9609, -7.9592, -7.9602, -7.9621, -7.9568, -7.9579, -7.9589,\n",
            "         -7.9595, -7.9582, -7.9678, -7.9669, -7.9652, -7.9662, -7.9606, -7.9653,\n",
            "         -7.9716, -7.9670, -7.9639, -7.9622, -7.9661, -7.9634, -7.9611, -7.9646,\n",
            "         -7.9556, -7.9566, -7.9596, -7.9621, -7.9589, -7.9634, -7.9654, -7.9638,\n",
            "         -7.9663, -7.9667, -7.9625, -7.9591, -7.9579, -7.9598, -7.9620, -7.9581,\n",
            "         -7.9566, -7.9556, -7.9634, -7.9681, -7.9652, -7.9627, -7.9630, -7.9652,\n",
            "         -7.9691, -7.9667, -7.9650, -7.9609, -7.9644, -7.9651, -7.9673, -7.9696,\n",
            "         -7.9596, -7.9593, -7.9538, -7.9575, -7.9645, -7.9627, -7.9594, -7.9570,\n",
            "         -7.9536, -7.9627, -7.9674, -7.9613, -7.9677, -7.9663, -7.9682, -7.9645,\n",
            "         -7.9615, -7.9628, -7.9611, -7.9614, -7.9629, -7.9634, -7.9575, -7.9656,\n",
            "         -7.9685, -7.9694, -7.9674, -7.9675, -7.9656, -7.9727, -7.9772, -7.9721,\n",
            "         -7.9734, -7.9688, -7.9679, -7.9695, -7.9668, -7.9604, -7.9567, -7.9634,\n",
            "         -7.9644, -7.9656, -7.9637, -7.9590, -7.9645, -7.9714, -7.9691, -7.9677,\n",
            "         -7.9626, -7.9664, -7.9720, -7.9737, -7.9666, -7.9615, -7.9651, -7.9483,\n",
            "         -7.9651, -7.9632, -7.9596, -7.9589, -7.9567, -7.9619, -7.9593, -7.9547,\n",
            "         -7.9526, -7.9565, -7.9571, -7.9512, -7.9510, -7.9555, -7.9572, -7.9625,\n",
            "         -7.9605, -7.9603, -7.9620, -7.9607, -7.9654, -7.9685, -7.9584, -7.9656,\n",
            "         -7.9599, -7.9671, -7.9676, -7.9579, -7.9610, -7.9594, -7.9566, -7.9612]])\n",
            "End logits: tensor([[ 7.9812, -7.3016, -7.8028, -7.8960, -7.8268, -7.9582, -7.4351, -6.0254,\n",
            "         -6.2586, -7.7520, -7.9147, -7.9073, -7.9431, -7.9555, -7.9073, -7.9606,\n",
            "         -7.9739, -7.9624, -7.9917, -7.9300, -7.9457, -7.9486, -7.9185, -6.2601,\n",
            "         -7.9834, -7.9812, -7.9782, -7.9768, -7.9731, -7.9761, -7.9772, -7.9789,\n",
            "         -7.9782, -7.9745, -7.9681, -7.9751, -7.9716, -7.9569, -7.9756, -7.9693,\n",
            "         -7.9742, -7.9733, -7.9805, -7.9847, -7.9844, -7.9893, -7.9886, -7.9876,\n",
            "         -7.9877, -7.9859, -7.9876, -7.9860, -7.9815, -7.9745, -7.9712, -7.9714,\n",
            "         -7.9700, -7.9715, -7.9664, -7.9714, -7.9741, -7.9543, -7.9339, -7.9592,\n",
            "         -7.9341, -7.9642, -7.9570, -7.9494, -7.9655, -7.9668, -7.9759, -7.9828,\n",
            "         -7.9879, -7.9885, -7.9864, -7.9884, -7.9860, -7.9868, -7.9887, -7.9854,\n",
            "         -7.9827, -7.9763, -7.9721, -7.9711, -7.9733, -7.9718, -7.9679, -7.9710,\n",
            "         -7.9703, -7.9706, -7.9717, -7.9570, -7.9552, -7.9680, -7.9644, -7.9648,\n",
            "         -7.9725, -7.9783, -7.9790, -7.9806, -7.9893, -7.9909, -7.9903, -7.9912,\n",
            "         -7.9880, -7.9886, -7.9853, -7.9842, -7.9815, -7.9794, -7.9755, -7.9665,\n",
            "         -7.9713, -7.9682, -7.9687, -7.9716, -7.9682, -7.9489, -7.9659, -7.9590,\n",
            "         -7.9313, -7.9541, -7.9447, -7.9573, -7.9580, -7.9642, -7.9712, -7.9733,\n",
            "         -7.9815, -7.9813, -7.9895, -7.9886, -7.9890, -7.9855, -7.9887, -7.9845,\n",
            "         -7.9797, -7.9785, -7.9750, -7.9731, -7.9696, -7.9714, -7.9663, -7.9685,\n",
            "         -7.9684, -7.9680, -7.9734, -7.9739, -7.9732, -7.9730, -7.9730, -7.9732,\n",
            "         -7.9534, -7.9526, -7.9694, -7.9664, -7.9701, -7.9786, -7.9883, -7.9861,\n",
            "         -7.9788, -7.9928, -7.9921, -7.9949, -7.9977, -7.9892, -7.9943, -7.9906,\n",
            "         -7.9900, -7.9939, -7.9957, -7.9904, -7.9894, -7.9906, -7.9853, -7.9873,\n",
            "         -7.9849, -7.9846, -7.9788, -7.9823, -7.9836, -7.9798, -7.9785, -7.9789,\n",
            "         -7.9809, -7.9791, -7.9797, -7.9844, -7.9802, -7.9802, -7.9841, -7.9849,\n",
            "         -7.9852, -7.9862, -7.9867, -7.9863, -7.9946, -7.9897, -7.9926, -7.9907,\n",
            "         -7.9884, -7.9885, -7.9843, -7.9823, -7.9827, -7.9817, -7.9760, -7.9670,\n",
            "         -7.9723, -7.9661, -7.9715, -7.9700, -7.9682, -7.9683, -7.9685, -7.9561,\n",
            "         -7.9716, -7.9486, -7.9629, -7.9579, -7.9473, -7.9539, -7.9586, -7.9573,\n",
            "         -7.9682, -7.9693, -7.9734, -7.9744, -7.9755, -7.9833, -7.9836, -7.9767,\n",
            "         -7.9785, -7.9775, -7.9784, -7.9765, -7.9783, -7.9877, -7.9825, -7.9878,\n",
            "         -7.9887, -7.9897, -7.9901, -7.9895, -7.9910, -7.9929, -7.9888, -7.9871,\n",
            "         -7.9816, -7.9810, -7.9755, -7.9701, -7.9781, -7.9689, -7.9649, -7.9672,\n",
            "         -7.9688, -7.9769, -7.9718, -7.9709, -7.9740, -7.9537, -7.9690, -7.9673,\n",
            "         -7.9502, -7.9574, -7.9573, -7.9545, -7.9592, -7.9660, -7.9703, -7.9705,\n",
            "         -7.9821, -7.9775, -7.9877, -7.9858, -7.9861, -7.9852, -7.9814, -7.9858,\n",
            "         -7.9794, -7.9732, -7.9748, -7.9681, -7.9745, -7.9681, -7.9682, -7.9641,\n",
            "         -7.9714, -7.9697, -7.9653, -7.9705, -7.9706, -7.9706, -7.9743, -7.9733,\n",
            "         -7.9687, -7.9703, -7.9475, -7.9506, -7.9609, -7.9605, -7.9694, -7.9667,\n",
            "         -7.9656, -7.9730, -7.9721, -7.9724, -7.9743, -7.9816, -7.9825, -7.9884,\n",
            "         -7.9920, -7.9903, -7.9897, -7.9864, -7.9846, -7.9811, -7.9755, -7.9722,\n",
            "         -7.9633, -7.9684, -7.9635, -7.9648, -7.9637, -7.9665, -7.9678, -7.9733,\n",
            "         -7.9739, -7.9824, -7.9863, -7.9843, -7.9849, -7.9867, -7.9850, -7.9852,\n",
            "         -7.9867, -7.9850, -7.9860, -7.9805, -7.9776, -7.9780, -7.9775, -7.9806,\n",
            "         -7.9773, -7.9761, -7.9721, -7.9730, -7.9765, -7.9755, -7.9706, -7.9475,\n",
            "         -7.9713, -7.9635, -7.9678, -7.9725, -7.9785, -7.9797, -7.9843, -7.9895,\n",
            "         -7.9861, -7.9912, -7.9931, -7.9944, -7.9932, -7.9934, -7.9921, -7.9914,\n",
            "         -7.9936, -7.9876, -7.9860, -7.9846, -7.9806, -7.9813, -7.9852, -7.9782,\n",
            "         -7.9687, -7.9645, -7.9609, -7.9531, -7.9525, -7.9449, -7.9341, -7.9504]])\n",
            "Question: What is the capital of France?\n",
            "Context: France is a country in Europe. The capital of France is Paris.\n",
            "Predicted Answer: \n"
          ]
        }
      ]
    },
    {
      "cell_type": "code",
      "execution_count": null,
      "metadata": {
        "id": "OjViBoZct2Oo"
      },
      "outputs": [],
      "source": []
    },
    {
      "cell_type": "code",
      "execution_count": null,
      "metadata": {
        "id": "tX6gXMpOxhiI"
      },
      "outputs": [],
      "source": []
    },
    {
      "cell_type": "code",
      "execution_count": null,
      "metadata": {
        "id": "gdrVMJNAxhfW"
      },
      "outputs": [],
      "source": []
    },
    {
      "cell_type": "code",
      "execution_count": null,
      "metadata": {
        "id": "VS8Q59QixhcH"
      },
      "outputs": [],
      "source": []
    },
    {
      "cell_type": "code",
      "execution_count": null,
      "metadata": {
        "id": "fxNTi5zIxhZR"
      },
      "outputs": [],
      "source": []
    },
    {
      "cell_type": "code",
      "execution_count": null,
      "metadata": {
        "id": "R6lN3nNNxhWW"
      },
      "outputs": [],
      "source": []
    },
    {
      "cell_type": "code",
      "execution_count": null,
      "metadata": {
        "id": "HEGW43QWxhTe"
      },
      "outputs": [],
      "source": []
    },
    {
      "cell_type": "code",
      "execution_count": null,
      "metadata": {
        "id": "6Vpy9oszq1K1"
      },
      "outputs": [],
      "source": []
    },
    {
      "cell_type": "code",
      "execution_count": 69,
      "metadata": {
        "id": "egDxrxRNq1HV"
      },
      "outputs": [],
      "source": []
    },
    {
      "cell_type": "code",
      "execution_count": null,
      "metadata": {
        "id": "7-CpsnFY3-f2"
      },
      "outputs": [],
      "source": []
    },
    {
      "cell_type": "code",
      "execution_count": null,
      "metadata": {
        "id": "hbaJvTFG3-c9"
      },
      "outputs": [],
      "source": []
    },
    {
      "cell_type": "code",
      "execution_count": null,
      "metadata": {
        "id": "oyOiMd1-3-aB"
      },
      "outputs": [],
      "source": []
    },
    {
      "cell_type": "code",
      "execution_count": null,
      "metadata": {
        "id": "KFMGFSoC3-Wv"
      },
      "outputs": [],
      "source": []
    },
    {
      "cell_type": "code",
      "execution_count": null,
      "metadata": {
        "id": "iuzUpRCci5jV"
      },
      "outputs": [],
      "source": []
    },
    {
      "cell_type": "code",
      "execution_count": null,
      "metadata": {
        "id": "SIi8HWE0i5f5"
      },
      "outputs": [],
      "source": []
    },
    {
      "cell_type": "code",
      "execution_count": null,
      "metadata": {
        "id": "1g8y8BitQJSY"
      },
      "outputs": [],
      "source": []
    }
  ],
  "metadata": {
    "accelerator": "GPU",
    "colab": {
      "gpuType": "T4",
      "provenance": [],
      "include_colab_link": true
    },
    "kernelspec": {
      "display_name": "Python 3",
      "name": "python3"
    },
    "language_info": {
      "name": "python"
    },
    "widgets": {
      "application/vnd.jupyter.widget-state+json": {
        "b419898fbde04c559dd23232c5fd7519": {
          "model_module": "@jupyter-widgets/controls",
          "model_name": "HBoxModel",
          "model_module_version": "1.5.0",
          "state": {
            "_dom_classes": [],
            "_model_module": "@jupyter-widgets/controls",
            "_model_module_version": "1.5.0",
            "_model_name": "HBoxModel",
            "_view_count": null,
            "_view_module": "@jupyter-widgets/controls",
            "_view_module_version": "1.5.0",
            "_view_name": "HBoxView",
            "box_style": "",
            "children": [
              "IPY_MODEL_f753d0b576e64797ab2ed70c9e200a0d",
              "IPY_MODEL_0048f0d87b5c48dabab33d759fc341bc",
              "IPY_MODEL_076cf763bf994be798d560f0a70351b2"
            ],
            "layout": "IPY_MODEL_078fdcabe9da4c3e93539079d41c3d9a"
          }
        },
        "f753d0b576e64797ab2ed70c9e200a0d": {
          "model_module": "@jupyter-widgets/controls",
          "model_name": "HTMLModel",
          "model_module_version": "1.5.0",
          "state": {
            "_dom_classes": [],
            "_model_module": "@jupyter-widgets/controls",
            "_model_module_version": "1.5.0",
            "_model_name": "HTMLModel",
            "_view_count": null,
            "_view_module": "@jupyter-widgets/controls",
            "_view_module_version": "1.5.0",
            "_view_name": "HTMLView",
            "description": "",
            "description_tooltip": null,
            "layout": "IPY_MODEL_705c6d8b9e6946fabf1070378dfb1d47",
            "placeholder": "​",
            "style": "IPY_MODEL_a3c589c8f05c48e2b9bb27e36a665211",
            "value": "Map: 100%"
          }
        },
        "0048f0d87b5c48dabab33d759fc341bc": {
          "model_module": "@jupyter-widgets/controls",
          "model_name": "FloatProgressModel",
          "model_module_version": "1.5.0",
          "state": {
            "_dom_classes": [],
            "_model_module": "@jupyter-widgets/controls",
            "_model_module_version": "1.5.0",
            "_model_name": "FloatProgressModel",
            "_view_count": null,
            "_view_module": "@jupyter-widgets/controls",
            "_view_module_version": "1.5.0",
            "_view_name": "ProgressView",
            "bar_style": "success",
            "description": "",
            "description_tooltip": null,
            "layout": "IPY_MODEL_66e523f56e5045078b51c90ac0c31263",
            "max": 8759,
            "min": 0,
            "orientation": "horizontal",
            "style": "IPY_MODEL_82f609d180514c98a0ce154e2c5f882d",
            "value": 8759
          }
        },
        "076cf763bf994be798d560f0a70351b2": {
          "model_module": "@jupyter-widgets/controls",
          "model_name": "HTMLModel",
          "model_module_version": "1.5.0",
          "state": {
            "_dom_classes": [],
            "_model_module": "@jupyter-widgets/controls",
            "_model_module_version": "1.5.0",
            "_model_name": "HTMLModel",
            "_view_count": null,
            "_view_module": "@jupyter-widgets/controls",
            "_view_module_version": "1.5.0",
            "_view_name": "HTMLView",
            "description": "",
            "description_tooltip": null,
            "layout": "IPY_MODEL_47df4962c00847f9851487a0a300548f",
            "placeholder": "​",
            "style": "IPY_MODEL_93c8ec8bd3ae4fe791663dcccb8b18e8",
            "value": " 8759/8759 [00:07&lt;00:00, 1230.95 examples/s]"
          }
        },
        "078fdcabe9da4c3e93539079d41c3d9a": {
          "model_module": "@jupyter-widgets/base",
          "model_name": "LayoutModel",
          "model_module_version": "1.2.0",
          "state": {
            "_model_module": "@jupyter-widgets/base",
            "_model_module_version": "1.2.0",
            "_model_name": "LayoutModel",
            "_view_count": null,
            "_view_module": "@jupyter-widgets/base",
            "_view_module_version": "1.2.0",
            "_view_name": "LayoutView",
            "align_content": null,
            "align_items": null,
            "align_self": null,
            "border": null,
            "bottom": null,
            "display": null,
            "flex": null,
            "flex_flow": null,
            "grid_area": null,
            "grid_auto_columns": null,
            "grid_auto_flow": null,
            "grid_auto_rows": null,
            "grid_column": null,
            "grid_gap": null,
            "grid_row": null,
            "grid_template_areas": null,
            "grid_template_columns": null,
            "grid_template_rows": null,
            "height": null,
            "justify_content": null,
            "justify_items": null,
            "left": null,
            "margin": null,
            "max_height": null,
            "max_width": null,
            "min_height": null,
            "min_width": null,
            "object_fit": null,
            "object_position": null,
            "order": null,
            "overflow": null,
            "overflow_x": null,
            "overflow_y": null,
            "padding": null,
            "right": null,
            "top": null,
            "visibility": null,
            "width": null
          }
        },
        "705c6d8b9e6946fabf1070378dfb1d47": {
          "model_module": "@jupyter-widgets/base",
          "model_name": "LayoutModel",
          "model_module_version": "1.2.0",
          "state": {
            "_model_module": "@jupyter-widgets/base",
            "_model_module_version": "1.2.0",
            "_model_name": "LayoutModel",
            "_view_count": null,
            "_view_module": "@jupyter-widgets/base",
            "_view_module_version": "1.2.0",
            "_view_name": "LayoutView",
            "align_content": null,
            "align_items": null,
            "align_self": null,
            "border": null,
            "bottom": null,
            "display": null,
            "flex": null,
            "flex_flow": null,
            "grid_area": null,
            "grid_auto_columns": null,
            "grid_auto_flow": null,
            "grid_auto_rows": null,
            "grid_column": null,
            "grid_gap": null,
            "grid_row": null,
            "grid_template_areas": null,
            "grid_template_columns": null,
            "grid_template_rows": null,
            "height": null,
            "justify_content": null,
            "justify_items": null,
            "left": null,
            "margin": null,
            "max_height": null,
            "max_width": null,
            "min_height": null,
            "min_width": null,
            "object_fit": null,
            "object_position": null,
            "order": null,
            "overflow": null,
            "overflow_x": null,
            "overflow_y": null,
            "padding": null,
            "right": null,
            "top": null,
            "visibility": null,
            "width": null
          }
        },
        "a3c589c8f05c48e2b9bb27e36a665211": {
          "model_module": "@jupyter-widgets/controls",
          "model_name": "DescriptionStyleModel",
          "model_module_version": "1.5.0",
          "state": {
            "_model_module": "@jupyter-widgets/controls",
            "_model_module_version": "1.5.0",
            "_model_name": "DescriptionStyleModel",
            "_view_count": null,
            "_view_module": "@jupyter-widgets/base",
            "_view_module_version": "1.2.0",
            "_view_name": "StyleView",
            "description_width": ""
          }
        },
        "66e523f56e5045078b51c90ac0c31263": {
          "model_module": "@jupyter-widgets/base",
          "model_name": "LayoutModel",
          "model_module_version": "1.2.0",
          "state": {
            "_model_module": "@jupyter-widgets/base",
            "_model_module_version": "1.2.0",
            "_model_name": "LayoutModel",
            "_view_count": null,
            "_view_module": "@jupyter-widgets/base",
            "_view_module_version": "1.2.0",
            "_view_name": "LayoutView",
            "align_content": null,
            "align_items": null,
            "align_self": null,
            "border": null,
            "bottom": null,
            "display": null,
            "flex": null,
            "flex_flow": null,
            "grid_area": null,
            "grid_auto_columns": null,
            "grid_auto_flow": null,
            "grid_auto_rows": null,
            "grid_column": null,
            "grid_gap": null,
            "grid_row": null,
            "grid_template_areas": null,
            "grid_template_columns": null,
            "grid_template_rows": null,
            "height": null,
            "justify_content": null,
            "justify_items": null,
            "left": null,
            "margin": null,
            "max_height": null,
            "max_width": null,
            "min_height": null,
            "min_width": null,
            "object_fit": null,
            "object_position": null,
            "order": null,
            "overflow": null,
            "overflow_x": null,
            "overflow_y": null,
            "padding": null,
            "right": null,
            "top": null,
            "visibility": null,
            "width": null
          }
        },
        "82f609d180514c98a0ce154e2c5f882d": {
          "model_module": "@jupyter-widgets/controls",
          "model_name": "ProgressStyleModel",
          "model_module_version": "1.5.0",
          "state": {
            "_model_module": "@jupyter-widgets/controls",
            "_model_module_version": "1.5.0",
            "_model_name": "ProgressStyleModel",
            "_view_count": null,
            "_view_module": "@jupyter-widgets/base",
            "_view_module_version": "1.2.0",
            "_view_name": "StyleView",
            "bar_color": null,
            "description_width": ""
          }
        },
        "47df4962c00847f9851487a0a300548f": {
          "model_module": "@jupyter-widgets/base",
          "model_name": "LayoutModel",
          "model_module_version": "1.2.0",
          "state": {
            "_model_module": "@jupyter-widgets/base",
            "_model_module_version": "1.2.0",
            "_model_name": "LayoutModel",
            "_view_count": null,
            "_view_module": "@jupyter-widgets/base",
            "_view_module_version": "1.2.0",
            "_view_name": "LayoutView",
            "align_content": null,
            "align_items": null,
            "align_self": null,
            "border": null,
            "bottom": null,
            "display": null,
            "flex": null,
            "flex_flow": null,
            "grid_area": null,
            "grid_auto_columns": null,
            "grid_auto_flow": null,
            "grid_auto_rows": null,
            "grid_column": null,
            "grid_gap": null,
            "grid_row": null,
            "grid_template_areas": null,
            "grid_template_columns": null,
            "grid_template_rows": null,
            "height": null,
            "justify_content": null,
            "justify_items": null,
            "left": null,
            "margin": null,
            "max_height": null,
            "max_width": null,
            "min_height": null,
            "min_width": null,
            "object_fit": null,
            "object_position": null,
            "order": null,
            "overflow": null,
            "overflow_x": null,
            "overflow_y": null,
            "padding": null,
            "right": null,
            "top": null,
            "visibility": null,
            "width": null
          }
        },
        "93c8ec8bd3ae4fe791663dcccb8b18e8": {
          "model_module": "@jupyter-widgets/controls",
          "model_name": "DescriptionStyleModel",
          "model_module_version": "1.5.0",
          "state": {
            "_model_module": "@jupyter-widgets/controls",
            "_model_module_version": "1.5.0",
            "_model_name": "DescriptionStyleModel",
            "_view_count": null,
            "_view_module": "@jupyter-widgets/base",
            "_view_module_version": "1.2.0",
            "_view_name": "StyleView",
            "description_width": ""
          }
        },
        "b99cc466525244d984d1c0bb7e9529b2": {
          "model_module": "@jupyter-widgets/controls",
          "model_name": "HBoxModel",
          "model_module_version": "1.5.0",
          "state": {
            "_dom_classes": [],
            "_model_module": "@jupyter-widgets/controls",
            "_model_module_version": "1.5.0",
            "_model_name": "HBoxModel",
            "_view_count": null,
            "_view_module": "@jupyter-widgets/controls",
            "_view_module_version": "1.5.0",
            "_view_name": "HBoxView",
            "box_style": "",
            "children": [
              "IPY_MODEL_e8ff55e80a80479b9dbd36f37e006431",
              "IPY_MODEL_a7cab4e7619e49b98786b879639f4499",
              "IPY_MODEL_005c0e5afccd4f71955800a39366b35a"
            ],
            "layout": "IPY_MODEL_971a7112c7de41a79257f521aaa6a318"
          }
        },
        "e8ff55e80a80479b9dbd36f37e006431": {
          "model_module": "@jupyter-widgets/controls",
          "model_name": "HTMLModel",
          "model_module_version": "1.5.0",
          "state": {
            "_dom_classes": [],
            "_model_module": "@jupyter-widgets/controls",
            "_model_module_version": "1.5.0",
            "_model_name": "HTMLModel",
            "_view_count": null,
            "_view_module": "@jupyter-widgets/controls",
            "_view_module_version": "1.5.0",
            "_view_name": "HTMLView",
            "description": "",
            "description_tooltip": null,
            "layout": "IPY_MODEL_22815173b59a4946a9cd6e4ea69babf4",
            "placeholder": "​",
            "style": "IPY_MODEL_1586ee9dbc4a4cdfb5e5fadb8c7cb992",
            "value": "Map: 100%"
          }
        },
        "a7cab4e7619e49b98786b879639f4499": {
          "model_module": "@jupyter-widgets/controls",
          "model_name": "FloatProgressModel",
          "model_module_version": "1.5.0",
          "state": {
            "_dom_classes": [],
            "_model_module": "@jupyter-widgets/controls",
            "_model_module_version": "1.5.0",
            "_model_name": "FloatProgressModel",
            "_view_count": null,
            "_view_module": "@jupyter-widgets/controls",
            "_view_module_version": "1.5.0",
            "_view_name": "ProgressView",
            "bar_style": "success",
            "description": "",
            "description_tooltip": null,
            "layout": "IPY_MODEL_cb976cdbcd934ed6bc2ed0c8b52dd32b",
            "max": 1057,
            "min": 0,
            "orientation": "horizontal",
            "style": "IPY_MODEL_13966da925434ac39a47da8569785936",
            "value": 1057
          }
        },
        "005c0e5afccd4f71955800a39366b35a": {
          "model_module": "@jupyter-widgets/controls",
          "model_name": "HTMLModel",
          "model_module_version": "1.5.0",
          "state": {
            "_dom_classes": [],
            "_model_module": "@jupyter-widgets/controls",
            "_model_module_version": "1.5.0",
            "_model_name": "HTMLModel",
            "_view_count": null,
            "_view_module": "@jupyter-widgets/controls",
            "_view_module_version": "1.5.0",
            "_view_name": "HTMLView",
            "description": "",
            "description_tooltip": null,
            "layout": "IPY_MODEL_3363d8108e444657b15ddede8308aa90",
            "placeholder": "​",
            "style": "IPY_MODEL_a3bc22629f44412db060f6b29a336e09",
            "value": " 1057/1057 [00:00&lt;00:00, 1283.75 examples/s]"
          }
        },
        "971a7112c7de41a79257f521aaa6a318": {
          "model_module": "@jupyter-widgets/base",
          "model_name": "LayoutModel",
          "model_module_version": "1.2.0",
          "state": {
            "_model_module": "@jupyter-widgets/base",
            "_model_module_version": "1.2.0",
            "_model_name": "LayoutModel",
            "_view_count": null,
            "_view_module": "@jupyter-widgets/base",
            "_view_module_version": "1.2.0",
            "_view_name": "LayoutView",
            "align_content": null,
            "align_items": null,
            "align_self": null,
            "border": null,
            "bottom": null,
            "display": null,
            "flex": null,
            "flex_flow": null,
            "grid_area": null,
            "grid_auto_columns": null,
            "grid_auto_flow": null,
            "grid_auto_rows": null,
            "grid_column": null,
            "grid_gap": null,
            "grid_row": null,
            "grid_template_areas": null,
            "grid_template_columns": null,
            "grid_template_rows": null,
            "height": null,
            "justify_content": null,
            "justify_items": null,
            "left": null,
            "margin": null,
            "max_height": null,
            "max_width": null,
            "min_height": null,
            "min_width": null,
            "object_fit": null,
            "object_position": null,
            "order": null,
            "overflow": null,
            "overflow_x": null,
            "overflow_y": null,
            "padding": null,
            "right": null,
            "top": null,
            "visibility": null,
            "width": null
          }
        },
        "22815173b59a4946a9cd6e4ea69babf4": {
          "model_module": "@jupyter-widgets/base",
          "model_name": "LayoutModel",
          "model_module_version": "1.2.0",
          "state": {
            "_model_module": "@jupyter-widgets/base",
            "_model_module_version": "1.2.0",
            "_model_name": "LayoutModel",
            "_view_count": null,
            "_view_module": "@jupyter-widgets/base",
            "_view_module_version": "1.2.0",
            "_view_name": "LayoutView",
            "align_content": null,
            "align_items": null,
            "align_self": null,
            "border": null,
            "bottom": null,
            "display": null,
            "flex": null,
            "flex_flow": null,
            "grid_area": null,
            "grid_auto_columns": null,
            "grid_auto_flow": null,
            "grid_auto_rows": null,
            "grid_column": null,
            "grid_gap": null,
            "grid_row": null,
            "grid_template_areas": null,
            "grid_template_columns": null,
            "grid_template_rows": null,
            "height": null,
            "justify_content": null,
            "justify_items": null,
            "left": null,
            "margin": null,
            "max_height": null,
            "max_width": null,
            "min_height": null,
            "min_width": null,
            "object_fit": null,
            "object_position": null,
            "order": null,
            "overflow": null,
            "overflow_x": null,
            "overflow_y": null,
            "padding": null,
            "right": null,
            "top": null,
            "visibility": null,
            "width": null
          }
        },
        "1586ee9dbc4a4cdfb5e5fadb8c7cb992": {
          "model_module": "@jupyter-widgets/controls",
          "model_name": "DescriptionStyleModel",
          "model_module_version": "1.5.0",
          "state": {
            "_model_module": "@jupyter-widgets/controls",
            "_model_module_version": "1.5.0",
            "_model_name": "DescriptionStyleModel",
            "_view_count": null,
            "_view_module": "@jupyter-widgets/base",
            "_view_module_version": "1.2.0",
            "_view_name": "StyleView",
            "description_width": ""
          }
        },
        "cb976cdbcd934ed6bc2ed0c8b52dd32b": {
          "model_module": "@jupyter-widgets/base",
          "model_name": "LayoutModel",
          "model_module_version": "1.2.0",
          "state": {
            "_model_module": "@jupyter-widgets/base",
            "_model_module_version": "1.2.0",
            "_model_name": "LayoutModel",
            "_view_count": null,
            "_view_module": "@jupyter-widgets/base",
            "_view_module_version": "1.2.0",
            "_view_name": "LayoutView",
            "align_content": null,
            "align_items": null,
            "align_self": null,
            "border": null,
            "bottom": null,
            "display": null,
            "flex": null,
            "flex_flow": null,
            "grid_area": null,
            "grid_auto_columns": null,
            "grid_auto_flow": null,
            "grid_auto_rows": null,
            "grid_column": null,
            "grid_gap": null,
            "grid_row": null,
            "grid_template_areas": null,
            "grid_template_columns": null,
            "grid_template_rows": null,
            "height": null,
            "justify_content": null,
            "justify_items": null,
            "left": null,
            "margin": null,
            "max_height": null,
            "max_width": null,
            "min_height": null,
            "min_width": null,
            "object_fit": null,
            "object_position": null,
            "order": null,
            "overflow": null,
            "overflow_x": null,
            "overflow_y": null,
            "padding": null,
            "right": null,
            "top": null,
            "visibility": null,
            "width": null
          }
        },
        "13966da925434ac39a47da8569785936": {
          "model_module": "@jupyter-widgets/controls",
          "model_name": "ProgressStyleModel",
          "model_module_version": "1.5.0",
          "state": {
            "_model_module": "@jupyter-widgets/controls",
            "_model_module_version": "1.5.0",
            "_model_name": "ProgressStyleModel",
            "_view_count": null,
            "_view_module": "@jupyter-widgets/base",
            "_view_module_version": "1.2.0",
            "_view_name": "StyleView",
            "bar_color": null,
            "description_width": ""
          }
        },
        "3363d8108e444657b15ddede8308aa90": {
          "model_module": "@jupyter-widgets/base",
          "model_name": "LayoutModel",
          "model_module_version": "1.2.0",
          "state": {
            "_model_module": "@jupyter-widgets/base",
            "_model_module_version": "1.2.0",
            "_model_name": "LayoutModel",
            "_view_count": null,
            "_view_module": "@jupyter-widgets/base",
            "_view_module_version": "1.2.0",
            "_view_name": "LayoutView",
            "align_content": null,
            "align_items": null,
            "align_self": null,
            "border": null,
            "bottom": null,
            "display": null,
            "flex": null,
            "flex_flow": null,
            "grid_area": null,
            "grid_auto_columns": null,
            "grid_auto_flow": null,
            "grid_auto_rows": null,
            "grid_column": null,
            "grid_gap": null,
            "grid_row": null,
            "grid_template_areas": null,
            "grid_template_columns": null,
            "grid_template_rows": null,
            "height": null,
            "justify_content": null,
            "justify_items": null,
            "left": null,
            "margin": null,
            "max_height": null,
            "max_width": null,
            "min_height": null,
            "min_width": null,
            "object_fit": null,
            "object_position": null,
            "order": null,
            "overflow": null,
            "overflow_x": null,
            "overflow_y": null,
            "padding": null,
            "right": null,
            "top": null,
            "visibility": null,
            "width": null
          }
        },
        "a3bc22629f44412db060f6b29a336e09": {
          "model_module": "@jupyter-widgets/controls",
          "model_name": "DescriptionStyleModel",
          "model_module_version": "1.5.0",
          "state": {
            "_model_module": "@jupyter-widgets/controls",
            "_model_module_version": "1.5.0",
            "_model_name": "DescriptionStyleModel",
            "_view_count": null,
            "_view_module": "@jupyter-widgets/base",
            "_view_module_version": "1.2.0",
            "_view_name": "StyleView",
            "description_width": ""
          }
        },
        "13e20e39b16c401aae2df718883f7383": {
          "model_module": "@jupyter-widgets/controls",
          "model_name": "HBoxModel",
          "model_module_version": "1.5.0",
          "state": {
            "_dom_classes": [],
            "_model_module": "@jupyter-widgets/controls",
            "_model_module_version": "1.5.0",
            "_model_name": "HBoxModel",
            "_view_count": null,
            "_view_module": "@jupyter-widgets/controls",
            "_view_module_version": "1.5.0",
            "_view_name": "HBoxView",
            "box_style": "",
            "children": [
              "IPY_MODEL_9a49ecb5c148471a86f42579c787ef25",
              "IPY_MODEL_4ef65a6a788f4cba921dcc0123c23c29",
              "IPY_MODEL_c648b568c7514cf38be717b8d65b8355"
            ],
            "layout": "IPY_MODEL_96643624db984f6a94b2a1d401649297"
          }
        },
        "9a49ecb5c148471a86f42579c787ef25": {
          "model_module": "@jupyter-widgets/controls",
          "model_name": "HTMLModel",
          "model_module_version": "1.5.0",
          "state": {
            "_dom_classes": [],
            "_model_module": "@jupyter-widgets/controls",
            "_model_module_version": "1.5.0",
            "_model_name": "HTMLModel",
            "_view_count": null,
            "_view_module": "@jupyter-widgets/controls",
            "_view_module_version": "1.5.0",
            "_view_name": "HTMLView",
            "description": "",
            "description_tooltip": null,
            "layout": "IPY_MODEL_4db7ea2b0f7d4584819fd36ac6293135",
            "placeholder": "​",
            "style": "IPY_MODEL_2ea50e3ce24f42b780d8db8dfc5c1d2b",
            "value": "Map: 100%"
          }
        },
        "4ef65a6a788f4cba921dcc0123c23c29": {
          "model_module": "@jupyter-widgets/controls",
          "model_name": "FloatProgressModel",
          "model_module_version": "1.5.0",
          "state": {
            "_dom_classes": [],
            "_model_module": "@jupyter-widgets/controls",
            "_model_module_version": "1.5.0",
            "_model_name": "FloatProgressModel",
            "_view_count": null,
            "_view_module": "@jupyter-widgets/controls",
            "_view_module_version": "1.5.0",
            "_view_name": "ProgressView",
            "bar_style": "success",
            "description": "",
            "description_tooltip": null,
            "layout": "IPY_MODEL_7066f21edc73479fb7718402c8c36654",
            "max": 1057,
            "min": 0,
            "orientation": "horizontal",
            "style": "IPY_MODEL_86836989fe674660919796af41a487fc",
            "value": 1057
          }
        },
        "c648b568c7514cf38be717b8d65b8355": {
          "model_module": "@jupyter-widgets/controls",
          "model_name": "HTMLModel",
          "model_module_version": "1.5.0",
          "state": {
            "_dom_classes": [],
            "_model_module": "@jupyter-widgets/controls",
            "_model_module_version": "1.5.0",
            "_model_name": "HTMLModel",
            "_view_count": null,
            "_view_module": "@jupyter-widgets/controls",
            "_view_module_version": "1.5.0",
            "_view_name": "HTMLView",
            "description": "",
            "description_tooltip": null,
            "layout": "IPY_MODEL_a8a544f1ffb14b088ed47e46eeb40e96",
            "placeholder": "​",
            "style": "IPY_MODEL_06e033146c604138b72770ec1bcf6ea1",
            "value": " 1057/1057 [00:05&lt;00:00, 188.88 examples/s]"
          }
        },
        "96643624db984f6a94b2a1d401649297": {
          "model_module": "@jupyter-widgets/base",
          "model_name": "LayoutModel",
          "model_module_version": "1.2.0",
          "state": {
            "_model_module": "@jupyter-widgets/base",
            "_model_module_version": "1.2.0",
            "_model_name": "LayoutModel",
            "_view_count": null,
            "_view_module": "@jupyter-widgets/base",
            "_view_module_version": "1.2.0",
            "_view_name": "LayoutView",
            "align_content": null,
            "align_items": null,
            "align_self": null,
            "border": null,
            "bottom": null,
            "display": null,
            "flex": null,
            "flex_flow": null,
            "grid_area": null,
            "grid_auto_columns": null,
            "grid_auto_flow": null,
            "grid_auto_rows": null,
            "grid_column": null,
            "grid_gap": null,
            "grid_row": null,
            "grid_template_areas": null,
            "grid_template_columns": null,
            "grid_template_rows": null,
            "height": null,
            "justify_content": null,
            "justify_items": null,
            "left": null,
            "margin": null,
            "max_height": null,
            "max_width": null,
            "min_height": null,
            "min_width": null,
            "object_fit": null,
            "object_position": null,
            "order": null,
            "overflow": null,
            "overflow_x": null,
            "overflow_y": null,
            "padding": null,
            "right": null,
            "top": null,
            "visibility": null,
            "width": null
          }
        },
        "4db7ea2b0f7d4584819fd36ac6293135": {
          "model_module": "@jupyter-widgets/base",
          "model_name": "LayoutModel",
          "model_module_version": "1.2.0",
          "state": {
            "_model_module": "@jupyter-widgets/base",
            "_model_module_version": "1.2.0",
            "_model_name": "LayoutModel",
            "_view_count": null,
            "_view_module": "@jupyter-widgets/base",
            "_view_module_version": "1.2.0",
            "_view_name": "LayoutView",
            "align_content": null,
            "align_items": null,
            "align_self": null,
            "border": null,
            "bottom": null,
            "display": null,
            "flex": null,
            "flex_flow": null,
            "grid_area": null,
            "grid_auto_columns": null,
            "grid_auto_flow": null,
            "grid_auto_rows": null,
            "grid_column": null,
            "grid_gap": null,
            "grid_row": null,
            "grid_template_areas": null,
            "grid_template_columns": null,
            "grid_template_rows": null,
            "height": null,
            "justify_content": null,
            "justify_items": null,
            "left": null,
            "margin": null,
            "max_height": null,
            "max_width": null,
            "min_height": null,
            "min_width": null,
            "object_fit": null,
            "object_position": null,
            "order": null,
            "overflow": null,
            "overflow_x": null,
            "overflow_y": null,
            "padding": null,
            "right": null,
            "top": null,
            "visibility": null,
            "width": null
          }
        },
        "2ea50e3ce24f42b780d8db8dfc5c1d2b": {
          "model_module": "@jupyter-widgets/controls",
          "model_name": "DescriptionStyleModel",
          "model_module_version": "1.5.0",
          "state": {
            "_model_module": "@jupyter-widgets/controls",
            "_model_module_version": "1.5.0",
            "_model_name": "DescriptionStyleModel",
            "_view_count": null,
            "_view_module": "@jupyter-widgets/base",
            "_view_module_version": "1.2.0",
            "_view_name": "StyleView",
            "description_width": ""
          }
        },
        "7066f21edc73479fb7718402c8c36654": {
          "model_module": "@jupyter-widgets/base",
          "model_name": "LayoutModel",
          "model_module_version": "1.2.0",
          "state": {
            "_model_module": "@jupyter-widgets/base",
            "_model_module_version": "1.2.0",
            "_model_name": "LayoutModel",
            "_view_count": null,
            "_view_module": "@jupyter-widgets/base",
            "_view_module_version": "1.2.0",
            "_view_name": "LayoutView",
            "align_content": null,
            "align_items": null,
            "align_self": null,
            "border": null,
            "bottom": null,
            "display": null,
            "flex": null,
            "flex_flow": null,
            "grid_area": null,
            "grid_auto_columns": null,
            "grid_auto_flow": null,
            "grid_auto_rows": null,
            "grid_column": null,
            "grid_gap": null,
            "grid_row": null,
            "grid_template_areas": null,
            "grid_template_columns": null,
            "grid_template_rows": null,
            "height": null,
            "justify_content": null,
            "justify_items": null,
            "left": null,
            "margin": null,
            "max_height": null,
            "max_width": null,
            "min_height": null,
            "min_width": null,
            "object_fit": null,
            "object_position": null,
            "order": null,
            "overflow": null,
            "overflow_x": null,
            "overflow_y": null,
            "padding": null,
            "right": null,
            "top": null,
            "visibility": null,
            "width": null
          }
        },
        "86836989fe674660919796af41a487fc": {
          "model_module": "@jupyter-widgets/controls",
          "model_name": "ProgressStyleModel",
          "model_module_version": "1.5.0",
          "state": {
            "_model_module": "@jupyter-widgets/controls",
            "_model_module_version": "1.5.0",
            "_model_name": "ProgressStyleModel",
            "_view_count": null,
            "_view_module": "@jupyter-widgets/base",
            "_view_module_version": "1.2.0",
            "_view_name": "StyleView",
            "bar_color": null,
            "description_width": ""
          }
        },
        "a8a544f1ffb14b088ed47e46eeb40e96": {
          "model_module": "@jupyter-widgets/base",
          "model_name": "LayoutModel",
          "model_module_version": "1.2.0",
          "state": {
            "_model_module": "@jupyter-widgets/base",
            "_model_module_version": "1.2.0",
            "_model_name": "LayoutModel",
            "_view_count": null,
            "_view_module": "@jupyter-widgets/base",
            "_view_module_version": "1.2.0",
            "_view_name": "LayoutView",
            "align_content": null,
            "align_items": null,
            "align_self": null,
            "border": null,
            "bottom": null,
            "display": null,
            "flex": null,
            "flex_flow": null,
            "grid_area": null,
            "grid_auto_columns": null,
            "grid_auto_flow": null,
            "grid_auto_rows": null,
            "grid_column": null,
            "grid_gap": null,
            "grid_row": null,
            "grid_template_areas": null,
            "grid_template_columns": null,
            "grid_template_rows": null,
            "height": null,
            "justify_content": null,
            "justify_items": null,
            "left": null,
            "margin": null,
            "max_height": null,
            "max_width": null,
            "min_height": null,
            "min_width": null,
            "object_fit": null,
            "object_position": null,
            "order": null,
            "overflow": null,
            "overflow_x": null,
            "overflow_y": null,
            "padding": null,
            "right": null,
            "top": null,
            "visibility": null,
            "width": null
          }
        },
        "06e033146c604138b72770ec1bcf6ea1": {
          "model_module": "@jupyter-widgets/controls",
          "model_name": "DescriptionStyleModel",
          "model_module_version": "1.5.0",
          "state": {
            "_model_module": "@jupyter-widgets/controls",
            "_model_module_version": "1.5.0",
            "_model_name": "DescriptionStyleModel",
            "_view_count": null,
            "_view_module": "@jupyter-widgets/base",
            "_view_module_version": "1.2.0",
            "_view_name": "StyleView",
            "description_width": ""
          }
        },
        "89ec3bdb86e8484fa34ca38497dc79a8": {
          "model_module": "@jupyter-widgets/controls",
          "model_name": "HBoxModel",
          "model_module_version": "1.5.0",
          "state": {
            "_dom_classes": [],
            "_model_module": "@jupyter-widgets/controls",
            "_model_module_version": "1.5.0",
            "_model_name": "HBoxModel",
            "_view_count": null,
            "_view_module": "@jupyter-widgets/controls",
            "_view_module_version": "1.5.0",
            "_view_name": "HBoxView",
            "box_style": "",
            "children": [
              "IPY_MODEL_728be689704e4d4fbcf49d42c43b0785",
              "IPY_MODEL_905cef2cc6e8468784b0d53cb740e9b2",
              "IPY_MODEL_7cb937aa8f574e68af836825acfee442"
            ],
            "layout": "IPY_MODEL_417c2a4ef6624e7280f76c764caccfa0"
          }
        },
        "728be689704e4d4fbcf49d42c43b0785": {
          "model_module": "@jupyter-widgets/controls",
          "model_name": "HTMLModel",
          "model_module_version": "1.5.0",
          "state": {
            "_dom_classes": [],
            "_model_module": "@jupyter-widgets/controls",
            "_model_module_version": "1.5.0",
            "_model_name": "HTMLModel",
            "_view_count": null,
            "_view_module": "@jupyter-widgets/controls",
            "_view_module_version": "1.5.0",
            "_view_name": "HTMLView",
            "description": "",
            "description_tooltip": null,
            "layout": "IPY_MODEL_a231004540a648d1a77c1365f5115cb0",
            "placeholder": "​",
            "style": "IPY_MODEL_431b97ce3ffd4e3a8ea1cf313b7d8738",
            "value": "tokenizer_config.json: 100%"
          }
        },
        "905cef2cc6e8468784b0d53cb740e9b2": {
          "model_module": "@jupyter-widgets/controls",
          "model_name": "FloatProgressModel",
          "model_module_version": "1.5.0",
          "state": {
            "_dom_classes": [],
            "_model_module": "@jupyter-widgets/controls",
            "_model_module_version": "1.5.0",
            "_model_name": "FloatProgressModel",
            "_view_count": null,
            "_view_module": "@jupyter-widgets/controls",
            "_view_module_version": "1.5.0",
            "_view_name": "ProgressView",
            "bar_style": "success",
            "description": "",
            "description_tooltip": null,
            "layout": "IPY_MODEL_c58c1d10f7284aedabb247f87a0d164b",
            "max": 48,
            "min": 0,
            "orientation": "horizontal",
            "style": "IPY_MODEL_41a70803498d44b093e1fe00fb0b4366",
            "value": 48
          }
        },
        "7cb937aa8f574e68af836825acfee442": {
          "model_module": "@jupyter-widgets/controls",
          "model_name": "HTMLModel",
          "model_module_version": "1.5.0",
          "state": {
            "_dom_classes": [],
            "_model_module": "@jupyter-widgets/controls",
            "_model_module_version": "1.5.0",
            "_model_name": "HTMLModel",
            "_view_count": null,
            "_view_module": "@jupyter-widgets/controls",
            "_view_module_version": "1.5.0",
            "_view_name": "HTMLView",
            "description": "",
            "description_tooltip": null,
            "layout": "IPY_MODEL_bb252aab04744ec292fc945a2db6b191",
            "placeholder": "​",
            "style": "IPY_MODEL_fac53b82fba54c97951521dae6a68e2e",
            "value": " 48.0/48.0 [00:00&lt;00:00, 457B/s]"
          }
        },
        "417c2a4ef6624e7280f76c764caccfa0": {
          "model_module": "@jupyter-widgets/base",
          "model_name": "LayoutModel",
          "model_module_version": "1.2.0",
          "state": {
            "_model_module": "@jupyter-widgets/base",
            "_model_module_version": "1.2.0",
            "_model_name": "LayoutModel",
            "_view_count": null,
            "_view_module": "@jupyter-widgets/base",
            "_view_module_version": "1.2.0",
            "_view_name": "LayoutView",
            "align_content": null,
            "align_items": null,
            "align_self": null,
            "border": null,
            "bottom": null,
            "display": null,
            "flex": null,
            "flex_flow": null,
            "grid_area": null,
            "grid_auto_columns": null,
            "grid_auto_flow": null,
            "grid_auto_rows": null,
            "grid_column": null,
            "grid_gap": null,
            "grid_row": null,
            "grid_template_areas": null,
            "grid_template_columns": null,
            "grid_template_rows": null,
            "height": null,
            "justify_content": null,
            "justify_items": null,
            "left": null,
            "margin": null,
            "max_height": null,
            "max_width": null,
            "min_height": null,
            "min_width": null,
            "object_fit": null,
            "object_position": null,
            "order": null,
            "overflow": null,
            "overflow_x": null,
            "overflow_y": null,
            "padding": null,
            "right": null,
            "top": null,
            "visibility": null,
            "width": null
          }
        },
        "a231004540a648d1a77c1365f5115cb0": {
          "model_module": "@jupyter-widgets/base",
          "model_name": "LayoutModel",
          "model_module_version": "1.2.0",
          "state": {
            "_model_module": "@jupyter-widgets/base",
            "_model_module_version": "1.2.0",
            "_model_name": "LayoutModel",
            "_view_count": null,
            "_view_module": "@jupyter-widgets/base",
            "_view_module_version": "1.2.0",
            "_view_name": "LayoutView",
            "align_content": null,
            "align_items": null,
            "align_self": null,
            "border": null,
            "bottom": null,
            "display": null,
            "flex": null,
            "flex_flow": null,
            "grid_area": null,
            "grid_auto_columns": null,
            "grid_auto_flow": null,
            "grid_auto_rows": null,
            "grid_column": null,
            "grid_gap": null,
            "grid_row": null,
            "grid_template_areas": null,
            "grid_template_columns": null,
            "grid_template_rows": null,
            "height": null,
            "justify_content": null,
            "justify_items": null,
            "left": null,
            "margin": null,
            "max_height": null,
            "max_width": null,
            "min_height": null,
            "min_width": null,
            "object_fit": null,
            "object_position": null,
            "order": null,
            "overflow": null,
            "overflow_x": null,
            "overflow_y": null,
            "padding": null,
            "right": null,
            "top": null,
            "visibility": null,
            "width": null
          }
        },
        "431b97ce3ffd4e3a8ea1cf313b7d8738": {
          "model_module": "@jupyter-widgets/controls",
          "model_name": "DescriptionStyleModel",
          "model_module_version": "1.5.0",
          "state": {
            "_model_module": "@jupyter-widgets/controls",
            "_model_module_version": "1.5.0",
            "_model_name": "DescriptionStyleModel",
            "_view_count": null,
            "_view_module": "@jupyter-widgets/base",
            "_view_module_version": "1.2.0",
            "_view_name": "StyleView",
            "description_width": ""
          }
        },
        "c58c1d10f7284aedabb247f87a0d164b": {
          "model_module": "@jupyter-widgets/base",
          "model_name": "LayoutModel",
          "model_module_version": "1.2.0",
          "state": {
            "_model_module": "@jupyter-widgets/base",
            "_model_module_version": "1.2.0",
            "_model_name": "LayoutModel",
            "_view_count": null,
            "_view_module": "@jupyter-widgets/base",
            "_view_module_version": "1.2.0",
            "_view_name": "LayoutView",
            "align_content": null,
            "align_items": null,
            "align_self": null,
            "border": null,
            "bottom": null,
            "display": null,
            "flex": null,
            "flex_flow": null,
            "grid_area": null,
            "grid_auto_columns": null,
            "grid_auto_flow": null,
            "grid_auto_rows": null,
            "grid_column": null,
            "grid_gap": null,
            "grid_row": null,
            "grid_template_areas": null,
            "grid_template_columns": null,
            "grid_template_rows": null,
            "height": null,
            "justify_content": null,
            "justify_items": null,
            "left": null,
            "margin": null,
            "max_height": null,
            "max_width": null,
            "min_height": null,
            "min_width": null,
            "object_fit": null,
            "object_position": null,
            "order": null,
            "overflow": null,
            "overflow_x": null,
            "overflow_y": null,
            "padding": null,
            "right": null,
            "top": null,
            "visibility": null,
            "width": null
          }
        },
        "41a70803498d44b093e1fe00fb0b4366": {
          "model_module": "@jupyter-widgets/controls",
          "model_name": "ProgressStyleModel",
          "model_module_version": "1.5.0",
          "state": {
            "_model_module": "@jupyter-widgets/controls",
            "_model_module_version": "1.5.0",
            "_model_name": "ProgressStyleModel",
            "_view_count": null,
            "_view_module": "@jupyter-widgets/base",
            "_view_module_version": "1.2.0",
            "_view_name": "StyleView",
            "bar_color": null,
            "description_width": ""
          }
        },
        "bb252aab04744ec292fc945a2db6b191": {
          "model_module": "@jupyter-widgets/base",
          "model_name": "LayoutModel",
          "model_module_version": "1.2.0",
          "state": {
            "_model_module": "@jupyter-widgets/base",
            "_model_module_version": "1.2.0",
            "_model_name": "LayoutModel",
            "_view_count": null,
            "_view_module": "@jupyter-widgets/base",
            "_view_module_version": "1.2.0",
            "_view_name": "LayoutView",
            "align_content": null,
            "align_items": null,
            "align_self": null,
            "border": null,
            "bottom": null,
            "display": null,
            "flex": null,
            "flex_flow": null,
            "grid_area": null,
            "grid_auto_columns": null,
            "grid_auto_flow": null,
            "grid_auto_rows": null,
            "grid_column": null,
            "grid_gap": null,
            "grid_row": null,
            "grid_template_areas": null,
            "grid_template_columns": null,
            "grid_template_rows": null,
            "height": null,
            "justify_content": null,
            "justify_items": null,
            "left": null,
            "margin": null,
            "max_height": null,
            "max_width": null,
            "min_height": null,
            "min_width": null,
            "object_fit": null,
            "object_position": null,
            "order": null,
            "overflow": null,
            "overflow_x": null,
            "overflow_y": null,
            "padding": null,
            "right": null,
            "top": null,
            "visibility": null,
            "width": null
          }
        },
        "fac53b82fba54c97951521dae6a68e2e": {
          "model_module": "@jupyter-widgets/controls",
          "model_name": "DescriptionStyleModel",
          "model_module_version": "1.5.0",
          "state": {
            "_model_module": "@jupyter-widgets/controls",
            "_model_module_version": "1.5.0",
            "_model_name": "DescriptionStyleModel",
            "_view_count": null,
            "_view_module": "@jupyter-widgets/base",
            "_view_module_version": "1.2.0",
            "_view_name": "StyleView",
            "description_width": ""
          }
        },
        "e6b51dfd564b42228f119cff7bed3650": {
          "model_module": "@jupyter-widgets/controls",
          "model_name": "HBoxModel",
          "model_module_version": "1.5.0",
          "state": {
            "_dom_classes": [],
            "_model_module": "@jupyter-widgets/controls",
            "_model_module_version": "1.5.0",
            "_model_name": "HBoxModel",
            "_view_count": null,
            "_view_module": "@jupyter-widgets/controls",
            "_view_module_version": "1.5.0",
            "_view_name": "HBoxView",
            "box_style": "",
            "children": [
              "IPY_MODEL_d104eab2c6bd4a389ac690d0e4784fa6",
              "IPY_MODEL_bac0a897e15c4cc69f5a2ff605d58eb1",
              "IPY_MODEL_a98a900a9df64658bc229b3d39516d7e"
            ],
            "layout": "IPY_MODEL_ddba7ed7775b4b86a6130bc98cf7d327"
          }
        },
        "d104eab2c6bd4a389ac690d0e4784fa6": {
          "model_module": "@jupyter-widgets/controls",
          "model_name": "HTMLModel",
          "model_module_version": "1.5.0",
          "state": {
            "_dom_classes": [],
            "_model_module": "@jupyter-widgets/controls",
            "_model_module_version": "1.5.0",
            "_model_name": "HTMLModel",
            "_view_count": null,
            "_view_module": "@jupyter-widgets/controls",
            "_view_module_version": "1.5.0",
            "_view_name": "HTMLView",
            "description": "",
            "description_tooltip": null,
            "layout": "IPY_MODEL_831a5f699b4b499dae019143915ea108",
            "placeholder": "​",
            "style": "IPY_MODEL_d6d921d22f4542899c09e00133770101",
            "value": "config.json: 100%"
          }
        },
        "bac0a897e15c4cc69f5a2ff605d58eb1": {
          "model_module": "@jupyter-widgets/controls",
          "model_name": "FloatProgressModel",
          "model_module_version": "1.5.0",
          "state": {
            "_dom_classes": [],
            "_model_module": "@jupyter-widgets/controls",
            "_model_module_version": "1.5.0",
            "_model_name": "FloatProgressModel",
            "_view_count": null,
            "_view_module": "@jupyter-widgets/controls",
            "_view_module_version": "1.5.0",
            "_view_name": "ProgressView",
            "bar_style": "success",
            "description": "",
            "description_tooltip": null,
            "layout": "IPY_MODEL_bb12f06a3ba8431bb167feeeedc337ac",
            "max": 483,
            "min": 0,
            "orientation": "horizontal",
            "style": "IPY_MODEL_1deba35c4c0646febf9d16928a337006",
            "value": 483
          }
        },
        "a98a900a9df64658bc229b3d39516d7e": {
          "model_module": "@jupyter-widgets/controls",
          "model_name": "HTMLModel",
          "model_module_version": "1.5.0",
          "state": {
            "_dom_classes": [],
            "_model_module": "@jupyter-widgets/controls",
            "_model_module_version": "1.5.0",
            "_model_name": "HTMLModel",
            "_view_count": null,
            "_view_module": "@jupyter-widgets/controls",
            "_view_module_version": "1.5.0",
            "_view_name": "HTMLView",
            "description": "",
            "description_tooltip": null,
            "layout": "IPY_MODEL_5f5c5b343654474d898ee902ff21926c",
            "placeholder": "​",
            "style": "IPY_MODEL_956f3609046d4ee38ddb6892a144a43a",
            "value": " 483/483 [00:00&lt;00:00, 5.33kB/s]"
          }
        },
        "ddba7ed7775b4b86a6130bc98cf7d327": {
          "model_module": "@jupyter-widgets/base",
          "model_name": "LayoutModel",
          "model_module_version": "1.2.0",
          "state": {
            "_model_module": "@jupyter-widgets/base",
            "_model_module_version": "1.2.0",
            "_model_name": "LayoutModel",
            "_view_count": null,
            "_view_module": "@jupyter-widgets/base",
            "_view_module_version": "1.2.0",
            "_view_name": "LayoutView",
            "align_content": null,
            "align_items": null,
            "align_self": null,
            "border": null,
            "bottom": null,
            "display": null,
            "flex": null,
            "flex_flow": null,
            "grid_area": null,
            "grid_auto_columns": null,
            "grid_auto_flow": null,
            "grid_auto_rows": null,
            "grid_column": null,
            "grid_gap": null,
            "grid_row": null,
            "grid_template_areas": null,
            "grid_template_columns": null,
            "grid_template_rows": null,
            "height": null,
            "justify_content": null,
            "justify_items": null,
            "left": null,
            "margin": null,
            "max_height": null,
            "max_width": null,
            "min_height": null,
            "min_width": null,
            "object_fit": null,
            "object_position": null,
            "order": null,
            "overflow": null,
            "overflow_x": null,
            "overflow_y": null,
            "padding": null,
            "right": null,
            "top": null,
            "visibility": null,
            "width": null
          }
        },
        "831a5f699b4b499dae019143915ea108": {
          "model_module": "@jupyter-widgets/base",
          "model_name": "LayoutModel",
          "model_module_version": "1.2.0",
          "state": {
            "_model_module": "@jupyter-widgets/base",
            "_model_module_version": "1.2.0",
            "_model_name": "LayoutModel",
            "_view_count": null,
            "_view_module": "@jupyter-widgets/base",
            "_view_module_version": "1.2.0",
            "_view_name": "LayoutView",
            "align_content": null,
            "align_items": null,
            "align_self": null,
            "border": null,
            "bottom": null,
            "display": null,
            "flex": null,
            "flex_flow": null,
            "grid_area": null,
            "grid_auto_columns": null,
            "grid_auto_flow": null,
            "grid_auto_rows": null,
            "grid_column": null,
            "grid_gap": null,
            "grid_row": null,
            "grid_template_areas": null,
            "grid_template_columns": null,
            "grid_template_rows": null,
            "height": null,
            "justify_content": null,
            "justify_items": null,
            "left": null,
            "margin": null,
            "max_height": null,
            "max_width": null,
            "min_height": null,
            "min_width": null,
            "object_fit": null,
            "object_position": null,
            "order": null,
            "overflow": null,
            "overflow_x": null,
            "overflow_y": null,
            "padding": null,
            "right": null,
            "top": null,
            "visibility": null,
            "width": null
          }
        },
        "d6d921d22f4542899c09e00133770101": {
          "model_module": "@jupyter-widgets/controls",
          "model_name": "DescriptionStyleModel",
          "model_module_version": "1.5.0",
          "state": {
            "_model_module": "@jupyter-widgets/controls",
            "_model_module_version": "1.5.0",
            "_model_name": "DescriptionStyleModel",
            "_view_count": null,
            "_view_module": "@jupyter-widgets/base",
            "_view_module_version": "1.2.0",
            "_view_name": "StyleView",
            "description_width": ""
          }
        },
        "bb12f06a3ba8431bb167feeeedc337ac": {
          "model_module": "@jupyter-widgets/base",
          "model_name": "LayoutModel",
          "model_module_version": "1.2.0",
          "state": {
            "_model_module": "@jupyter-widgets/base",
            "_model_module_version": "1.2.0",
            "_model_name": "LayoutModel",
            "_view_count": null,
            "_view_module": "@jupyter-widgets/base",
            "_view_module_version": "1.2.0",
            "_view_name": "LayoutView",
            "align_content": null,
            "align_items": null,
            "align_self": null,
            "border": null,
            "bottom": null,
            "display": null,
            "flex": null,
            "flex_flow": null,
            "grid_area": null,
            "grid_auto_columns": null,
            "grid_auto_flow": null,
            "grid_auto_rows": null,
            "grid_column": null,
            "grid_gap": null,
            "grid_row": null,
            "grid_template_areas": null,
            "grid_template_columns": null,
            "grid_template_rows": null,
            "height": null,
            "justify_content": null,
            "justify_items": null,
            "left": null,
            "margin": null,
            "max_height": null,
            "max_width": null,
            "min_height": null,
            "min_width": null,
            "object_fit": null,
            "object_position": null,
            "order": null,
            "overflow": null,
            "overflow_x": null,
            "overflow_y": null,
            "padding": null,
            "right": null,
            "top": null,
            "visibility": null,
            "width": null
          }
        },
        "1deba35c4c0646febf9d16928a337006": {
          "model_module": "@jupyter-widgets/controls",
          "model_name": "ProgressStyleModel",
          "model_module_version": "1.5.0",
          "state": {
            "_model_module": "@jupyter-widgets/controls",
            "_model_module_version": "1.5.0",
            "_model_name": "ProgressStyleModel",
            "_view_count": null,
            "_view_module": "@jupyter-widgets/base",
            "_view_module_version": "1.2.0",
            "_view_name": "StyleView",
            "bar_color": null,
            "description_width": ""
          }
        },
        "5f5c5b343654474d898ee902ff21926c": {
          "model_module": "@jupyter-widgets/base",
          "model_name": "LayoutModel",
          "model_module_version": "1.2.0",
          "state": {
            "_model_module": "@jupyter-widgets/base",
            "_model_module_version": "1.2.0",
            "_model_name": "LayoutModel",
            "_view_count": null,
            "_view_module": "@jupyter-widgets/base",
            "_view_module_version": "1.2.0",
            "_view_name": "LayoutView",
            "align_content": null,
            "align_items": null,
            "align_self": null,
            "border": null,
            "bottom": null,
            "display": null,
            "flex": null,
            "flex_flow": null,
            "grid_area": null,
            "grid_auto_columns": null,
            "grid_auto_flow": null,
            "grid_auto_rows": null,
            "grid_column": null,
            "grid_gap": null,
            "grid_row": null,
            "grid_template_areas": null,
            "grid_template_columns": null,
            "grid_template_rows": null,
            "height": null,
            "justify_content": null,
            "justify_items": null,
            "left": null,
            "margin": null,
            "max_height": null,
            "max_width": null,
            "min_height": null,
            "min_width": null,
            "object_fit": null,
            "object_position": null,
            "order": null,
            "overflow": null,
            "overflow_x": null,
            "overflow_y": null,
            "padding": null,
            "right": null,
            "top": null,
            "visibility": null,
            "width": null
          }
        },
        "956f3609046d4ee38ddb6892a144a43a": {
          "model_module": "@jupyter-widgets/controls",
          "model_name": "DescriptionStyleModel",
          "model_module_version": "1.5.0",
          "state": {
            "_model_module": "@jupyter-widgets/controls",
            "_model_module_version": "1.5.0",
            "_model_name": "DescriptionStyleModel",
            "_view_count": null,
            "_view_module": "@jupyter-widgets/base",
            "_view_module_version": "1.2.0",
            "_view_name": "StyleView",
            "description_width": ""
          }
        },
        "ef4889f2990f460382a703f18d23da56": {
          "model_module": "@jupyter-widgets/controls",
          "model_name": "HBoxModel",
          "model_module_version": "1.5.0",
          "state": {
            "_dom_classes": [],
            "_model_module": "@jupyter-widgets/controls",
            "_model_module_version": "1.5.0",
            "_model_name": "HBoxModel",
            "_view_count": null,
            "_view_module": "@jupyter-widgets/controls",
            "_view_module_version": "1.5.0",
            "_view_name": "HBoxView",
            "box_style": "",
            "children": [
              "IPY_MODEL_a8396255fdc447dc83cb25d9de449e81",
              "IPY_MODEL_6bac1d909f0740f4895c8a15e921ff0c",
              "IPY_MODEL_14bbefdf722b449d919934bb66fe4bfb"
            ],
            "layout": "IPY_MODEL_4a027cf59da74d259c9184dfe3ec64a6"
          }
        },
        "a8396255fdc447dc83cb25d9de449e81": {
          "model_module": "@jupyter-widgets/controls",
          "model_name": "HTMLModel",
          "model_module_version": "1.5.0",
          "state": {
            "_dom_classes": [],
            "_model_module": "@jupyter-widgets/controls",
            "_model_module_version": "1.5.0",
            "_model_name": "HTMLModel",
            "_view_count": null,
            "_view_module": "@jupyter-widgets/controls",
            "_view_module_version": "1.5.0",
            "_view_name": "HTMLView",
            "description": "",
            "description_tooltip": null,
            "layout": "IPY_MODEL_f52e78f2ffae4b7e99cb0c99c65c2303",
            "placeholder": "​",
            "style": "IPY_MODEL_6326682d36eb4c8cbb4efdfb63796950",
            "value": "vocab.txt: 100%"
          }
        },
        "6bac1d909f0740f4895c8a15e921ff0c": {
          "model_module": "@jupyter-widgets/controls",
          "model_name": "FloatProgressModel",
          "model_module_version": "1.5.0",
          "state": {
            "_dom_classes": [],
            "_model_module": "@jupyter-widgets/controls",
            "_model_module_version": "1.5.0",
            "_model_name": "FloatProgressModel",
            "_view_count": null,
            "_view_module": "@jupyter-widgets/controls",
            "_view_module_version": "1.5.0",
            "_view_name": "ProgressView",
            "bar_style": "success",
            "description": "",
            "description_tooltip": null,
            "layout": "IPY_MODEL_bbaaa868f19447deb7f3b2d1c72d5211",
            "max": 231508,
            "min": 0,
            "orientation": "horizontal",
            "style": "IPY_MODEL_637d4b6fa91a470ea3bc758a35bef605",
            "value": 231508
          }
        },
        "14bbefdf722b449d919934bb66fe4bfb": {
          "model_module": "@jupyter-widgets/controls",
          "model_name": "HTMLModel",
          "model_module_version": "1.5.0",
          "state": {
            "_dom_classes": [],
            "_model_module": "@jupyter-widgets/controls",
            "_model_module_version": "1.5.0",
            "_model_name": "HTMLModel",
            "_view_count": null,
            "_view_module": "@jupyter-widgets/controls",
            "_view_module_version": "1.5.0",
            "_view_name": "HTMLView",
            "description": "",
            "description_tooltip": null,
            "layout": "IPY_MODEL_b6604e91f67647e6acb1976935864923",
            "placeholder": "​",
            "style": "IPY_MODEL_5bc35e252ef24be7a86c0b3f89a8150c",
            "value": " 232k/232k [00:00&lt;00:00, 548kB/s]"
          }
        },
        "4a027cf59da74d259c9184dfe3ec64a6": {
          "model_module": "@jupyter-widgets/base",
          "model_name": "LayoutModel",
          "model_module_version": "1.2.0",
          "state": {
            "_model_module": "@jupyter-widgets/base",
            "_model_module_version": "1.2.0",
            "_model_name": "LayoutModel",
            "_view_count": null,
            "_view_module": "@jupyter-widgets/base",
            "_view_module_version": "1.2.0",
            "_view_name": "LayoutView",
            "align_content": null,
            "align_items": null,
            "align_self": null,
            "border": null,
            "bottom": null,
            "display": null,
            "flex": null,
            "flex_flow": null,
            "grid_area": null,
            "grid_auto_columns": null,
            "grid_auto_flow": null,
            "grid_auto_rows": null,
            "grid_column": null,
            "grid_gap": null,
            "grid_row": null,
            "grid_template_areas": null,
            "grid_template_columns": null,
            "grid_template_rows": null,
            "height": null,
            "justify_content": null,
            "justify_items": null,
            "left": null,
            "margin": null,
            "max_height": null,
            "max_width": null,
            "min_height": null,
            "min_width": null,
            "object_fit": null,
            "object_position": null,
            "order": null,
            "overflow": null,
            "overflow_x": null,
            "overflow_y": null,
            "padding": null,
            "right": null,
            "top": null,
            "visibility": null,
            "width": null
          }
        },
        "f52e78f2ffae4b7e99cb0c99c65c2303": {
          "model_module": "@jupyter-widgets/base",
          "model_name": "LayoutModel",
          "model_module_version": "1.2.0",
          "state": {
            "_model_module": "@jupyter-widgets/base",
            "_model_module_version": "1.2.0",
            "_model_name": "LayoutModel",
            "_view_count": null,
            "_view_module": "@jupyter-widgets/base",
            "_view_module_version": "1.2.0",
            "_view_name": "LayoutView",
            "align_content": null,
            "align_items": null,
            "align_self": null,
            "border": null,
            "bottom": null,
            "display": null,
            "flex": null,
            "flex_flow": null,
            "grid_area": null,
            "grid_auto_columns": null,
            "grid_auto_flow": null,
            "grid_auto_rows": null,
            "grid_column": null,
            "grid_gap": null,
            "grid_row": null,
            "grid_template_areas": null,
            "grid_template_columns": null,
            "grid_template_rows": null,
            "height": null,
            "justify_content": null,
            "justify_items": null,
            "left": null,
            "margin": null,
            "max_height": null,
            "max_width": null,
            "min_height": null,
            "min_width": null,
            "object_fit": null,
            "object_position": null,
            "order": null,
            "overflow": null,
            "overflow_x": null,
            "overflow_y": null,
            "padding": null,
            "right": null,
            "top": null,
            "visibility": null,
            "width": null
          }
        },
        "6326682d36eb4c8cbb4efdfb63796950": {
          "model_module": "@jupyter-widgets/controls",
          "model_name": "DescriptionStyleModel",
          "model_module_version": "1.5.0",
          "state": {
            "_model_module": "@jupyter-widgets/controls",
            "_model_module_version": "1.5.0",
            "_model_name": "DescriptionStyleModel",
            "_view_count": null,
            "_view_module": "@jupyter-widgets/base",
            "_view_module_version": "1.2.0",
            "_view_name": "StyleView",
            "description_width": ""
          }
        },
        "bbaaa868f19447deb7f3b2d1c72d5211": {
          "model_module": "@jupyter-widgets/base",
          "model_name": "LayoutModel",
          "model_module_version": "1.2.0",
          "state": {
            "_model_module": "@jupyter-widgets/base",
            "_model_module_version": "1.2.0",
            "_model_name": "LayoutModel",
            "_view_count": null,
            "_view_module": "@jupyter-widgets/base",
            "_view_module_version": "1.2.0",
            "_view_name": "LayoutView",
            "align_content": null,
            "align_items": null,
            "align_self": null,
            "border": null,
            "bottom": null,
            "display": null,
            "flex": null,
            "flex_flow": null,
            "grid_area": null,
            "grid_auto_columns": null,
            "grid_auto_flow": null,
            "grid_auto_rows": null,
            "grid_column": null,
            "grid_gap": null,
            "grid_row": null,
            "grid_template_areas": null,
            "grid_template_columns": null,
            "grid_template_rows": null,
            "height": null,
            "justify_content": null,
            "justify_items": null,
            "left": null,
            "margin": null,
            "max_height": null,
            "max_width": null,
            "min_height": null,
            "min_width": null,
            "object_fit": null,
            "object_position": null,
            "order": null,
            "overflow": null,
            "overflow_x": null,
            "overflow_y": null,
            "padding": null,
            "right": null,
            "top": null,
            "visibility": null,
            "width": null
          }
        },
        "637d4b6fa91a470ea3bc758a35bef605": {
          "model_module": "@jupyter-widgets/controls",
          "model_name": "ProgressStyleModel",
          "model_module_version": "1.5.0",
          "state": {
            "_model_module": "@jupyter-widgets/controls",
            "_model_module_version": "1.5.0",
            "_model_name": "ProgressStyleModel",
            "_view_count": null,
            "_view_module": "@jupyter-widgets/base",
            "_view_module_version": "1.2.0",
            "_view_name": "StyleView",
            "bar_color": null,
            "description_width": ""
          }
        },
        "b6604e91f67647e6acb1976935864923": {
          "model_module": "@jupyter-widgets/base",
          "model_name": "LayoutModel",
          "model_module_version": "1.2.0",
          "state": {
            "_model_module": "@jupyter-widgets/base",
            "_model_module_version": "1.2.0",
            "_model_name": "LayoutModel",
            "_view_count": null,
            "_view_module": "@jupyter-widgets/base",
            "_view_module_version": "1.2.0",
            "_view_name": "LayoutView",
            "align_content": null,
            "align_items": null,
            "align_self": null,
            "border": null,
            "bottom": null,
            "display": null,
            "flex": null,
            "flex_flow": null,
            "grid_area": null,
            "grid_auto_columns": null,
            "grid_auto_flow": null,
            "grid_auto_rows": null,
            "grid_column": null,
            "grid_gap": null,
            "grid_row": null,
            "grid_template_areas": null,
            "grid_template_columns": null,
            "grid_template_rows": null,
            "height": null,
            "justify_content": null,
            "justify_items": null,
            "left": null,
            "margin": null,
            "max_height": null,
            "max_width": null,
            "min_height": null,
            "min_width": null,
            "object_fit": null,
            "object_position": null,
            "order": null,
            "overflow": null,
            "overflow_x": null,
            "overflow_y": null,
            "padding": null,
            "right": null,
            "top": null,
            "visibility": null,
            "width": null
          }
        },
        "5bc35e252ef24be7a86c0b3f89a8150c": {
          "model_module": "@jupyter-widgets/controls",
          "model_name": "DescriptionStyleModel",
          "model_module_version": "1.5.0",
          "state": {
            "_model_module": "@jupyter-widgets/controls",
            "_model_module_version": "1.5.0",
            "_model_name": "DescriptionStyleModel",
            "_view_count": null,
            "_view_module": "@jupyter-widgets/base",
            "_view_module_version": "1.2.0",
            "_view_name": "StyleView",
            "description_width": ""
          }
        },
        "3aba08788ca142c1a9cb5da7b9dc93f4": {
          "model_module": "@jupyter-widgets/controls",
          "model_name": "HBoxModel",
          "model_module_version": "1.5.0",
          "state": {
            "_dom_classes": [],
            "_model_module": "@jupyter-widgets/controls",
            "_model_module_version": "1.5.0",
            "_model_name": "HBoxModel",
            "_view_count": null,
            "_view_module": "@jupyter-widgets/controls",
            "_view_module_version": "1.5.0",
            "_view_name": "HBoxView",
            "box_style": "",
            "children": [
              "IPY_MODEL_bd372c15883f455aa319385f87f1895f",
              "IPY_MODEL_9d2694c846c14c46babfee5cf61dbb8a",
              "IPY_MODEL_2904413bc38842428ff3dd7330fb81a0"
            ],
            "layout": "IPY_MODEL_5558fa86fd484b72915e3065bc4767a0"
          }
        },
        "bd372c15883f455aa319385f87f1895f": {
          "model_module": "@jupyter-widgets/controls",
          "model_name": "HTMLModel",
          "model_module_version": "1.5.0",
          "state": {
            "_dom_classes": [],
            "_model_module": "@jupyter-widgets/controls",
            "_model_module_version": "1.5.0",
            "_model_name": "HTMLModel",
            "_view_count": null,
            "_view_module": "@jupyter-widgets/controls",
            "_view_module_version": "1.5.0",
            "_view_name": "HTMLView",
            "description": "",
            "description_tooltip": null,
            "layout": "IPY_MODEL_b830a2618e8c4c26881d010df2fbb44a",
            "placeholder": "​",
            "style": "IPY_MODEL_71614f8450e44373bf8800e6ed25e00b",
            "value": "tokenizer.json: 100%"
          }
        },
        "9d2694c846c14c46babfee5cf61dbb8a": {
          "model_module": "@jupyter-widgets/controls",
          "model_name": "FloatProgressModel",
          "model_module_version": "1.5.0",
          "state": {
            "_dom_classes": [],
            "_model_module": "@jupyter-widgets/controls",
            "_model_module_version": "1.5.0",
            "_model_name": "FloatProgressModel",
            "_view_count": null,
            "_view_module": "@jupyter-widgets/controls",
            "_view_module_version": "1.5.0",
            "_view_name": "ProgressView",
            "bar_style": "success",
            "description": "",
            "description_tooltip": null,
            "layout": "IPY_MODEL_d87dfe78ff794eecb31b78be4dd43a30",
            "max": 466062,
            "min": 0,
            "orientation": "horizontal",
            "style": "IPY_MODEL_8e427ea9dfa945d3b024aaf8b6f386c8",
            "value": 466062
          }
        },
        "2904413bc38842428ff3dd7330fb81a0": {
          "model_module": "@jupyter-widgets/controls",
          "model_name": "HTMLModel",
          "model_module_version": "1.5.0",
          "state": {
            "_dom_classes": [],
            "_model_module": "@jupyter-widgets/controls",
            "_model_module_version": "1.5.0",
            "_model_name": "HTMLModel",
            "_view_count": null,
            "_view_module": "@jupyter-widgets/controls",
            "_view_module_version": "1.5.0",
            "_view_name": "HTMLView",
            "description": "",
            "description_tooltip": null,
            "layout": "IPY_MODEL_e9f92198143d4a18a6568fad7950a390",
            "placeholder": "​",
            "style": "IPY_MODEL_4ac9804ca2c94a2990832c5456047a78",
            "value": " 466k/466k [00:00&lt;00:00, 4.14MB/s]"
          }
        },
        "5558fa86fd484b72915e3065bc4767a0": {
          "model_module": "@jupyter-widgets/base",
          "model_name": "LayoutModel",
          "model_module_version": "1.2.0",
          "state": {
            "_model_module": "@jupyter-widgets/base",
            "_model_module_version": "1.2.0",
            "_model_name": "LayoutModel",
            "_view_count": null,
            "_view_module": "@jupyter-widgets/base",
            "_view_module_version": "1.2.0",
            "_view_name": "LayoutView",
            "align_content": null,
            "align_items": null,
            "align_self": null,
            "border": null,
            "bottom": null,
            "display": null,
            "flex": null,
            "flex_flow": null,
            "grid_area": null,
            "grid_auto_columns": null,
            "grid_auto_flow": null,
            "grid_auto_rows": null,
            "grid_column": null,
            "grid_gap": null,
            "grid_row": null,
            "grid_template_areas": null,
            "grid_template_columns": null,
            "grid_template_rows": null,
            "height": null,
            "justify_content": null,
            "justify_items": null,
            "left": null,
            "margin": null,
            "max_height": null,
            "max_width": null,
            "min_height": null,
            "min_width": null,
            "object_fit": null,
            "object_position": null,
            "order": null,
            "overflow": null,
            "overflow_x": null,
            "overflow_y": null,
            "padding": null,
            "right": null,
            "top": null,
            "visibility": null,
            "width": null
          }
        },
        "b830a2618e8c4c26881d010df2fbb44a": {
          "model_module": "@jupyter-widgets/base",
          "model_name": "LayoutModel",
          "model_module_version": "1.2.0",
          "state": {
            "_model_module": "@jupyter-widgets/base",
            "_model_module_version": "1.2.0",
            "_model_name": "LayoutModel",
            "_view_count": null,
            "_view_module": "@jupyter-widgets/base",
            "_view_module_version": "1.2.0",
            "_view_name": "LayoutView",
            "align_content": null,
            "align_items": null,
            "align_self": null,
            "border": null,
            "bottom": null,
            "display": null,
            "flex": null,
            "flex_flow": null,
            "grid_area": null,
            "grid_auto_columns": null,
            "grid_auto_flow": null,
            "grid_auto_rows": null,
            "grid_column": null,
            "grid_gap": null,
            "grid_row": null,
            "grid_template_areas": null,
            "grid_template_columns": null,
            "grid_template_rows": null,
            "height": null,
            "justify_content": null,
            "justify_items": null,
            "left": null,
            "margin": null,
            "max_height": null,
            "max_width": null,
            "min_height": null,
            "min_width": null,
            "object_fit": null,
            "object_position": null,
            "order": null,
            "overflow": null,
            "overflow_x": null,
            "overflow_y": null,
            "padding": null,
            "right": null,
            "top": null,
            "visibility": null,
            "width": null
          }
        },
        "71614f8450e44373bf8800e6ed25e00b": {
          "model_module": "@jupyter-widgets/controls",
          "model_name": "DescriptionStyleModel",
          "model_module_version": "1.5.0",
          "state": {
            "_model_module": "@jupyter-widgets/controls",
            "_model_module_version": "1.5.0",
            "_model_name": "DescriptionStyleModel",
            "_view_count": null,
            "_view_module": "@jupyter-widgets/base",
            "_view_module_version": "1.2.0",
            "_view_name": "StyleView",
            "description_width": ""
          }
        },
        "d87dfe78ff794eecb31b78be4dd43a30": {
          "model_module": "@jupyter-widgets/base",
          "model_name": "LayoutModel",
          "model_module_version": "1.2.0",
          "state": {
            "_model_module": "@jupyter-widgets/base",
            "_model_module_version": "1.2.0",
            "_model_name": "LayoutModel",
            "_view_count": null,
            "_view_module": "@jupyter-widgets/base",
            "_view_module_version": "1.2.0",
            "_view_name": "LayoutView",
            "align_content": null,
            "align_items": null,
            "align_self": null,
            "border": null,
            "bottom": null,
            "display": null,
            "flex": null,
            "flex_flow": null,
            "grid_area": null,
            "grid_auto_columns": null,
            "grid_auto_flow": null,
            "grid_auto_rows": null,
            "grid_column": null,
            "grid_gap": null,
            "grid_row": null,
            "grid_template_areas": null,
            "grid_template_columns": null,
            "grid_template_rows": null,
            "height": null,
            "justify_content": null,
            "justify_items": null,
            "left": null,
            "margin": null,
            "max_height": null,
            "max_width": null,
            "min_height": null,
            "min_width": null,
            "object_fit": null,
            "object_position": null,
            "order": null,
            "overflow": null,
            "overflow_x": null,
            "overflow_y": null,
            "padding": null,
            "right": null,
            "top": null,
            "visibility": null,
            "width": null
          }
        },
        "8e427ea9dfa945d3b024aaf8b6f386c8": {
          "model_module": "@jupyter-widgets/controls",
          "model_name": "ProgressStyleModel",
          "model_module_version": "1.5.0",
          "state": {
            "_model_module": "@jupyter-widgets/controls",
            "_model_module_version": "1.5.0",
            "_model_name": "ProgressStyleModel",
            "_view_count": null,
            "_view_module": "@jupyter-widgets/base",
            "_view_module_version": "1.2.0",
            "_view_name": "StyleView",
            "bar_color": null,
            "description_width": ""
          }
        },
        "e9f92198143d4a18a6568fad7950a390": {
          "model_module": "@jupyter-widgets/base",
          "model_name": "LayoutModel",
          "model_module_version": "1.2.0",
          "state": {
            "_model_module": "@jupyter-widgets/base",
            "_model_module_version": "1.2.0",
            "_model_name": "LayoutModel",
            "_view_count": null,
            "_view_module": "@jupyter-widgets/base",
            "_view_module_version": "1.2.0",
            "_view_name": "LayoutView",
            "align_content": null,
            "align_items": null,
            "align_self": null,
            "border": null,
            "bottom": null,
            "display": null,
            "flex": null,
            "flex_flow": null,
            "grid_area": null,
            "grid_auto_columns": null,
            "grid_auto_flow": null,
            "grid_auto_rows": null,
            "grid_column": null,
            "grid_gap": null,
            "grid_row": null,
            "grid_template_areas": null,
            "grid_template_columns": null,
            "grid_template_rows": null,
            "height": null,
            "justify_content": null,
            "justify_items": null,
            "left": null,
            "margin": null,
            "max_height": null,
            "max_width": null,
            "min_height": null,
            "min_width": null,
            "object_fit": null,
            "object_position": null,
            "order": null,
            "overflow": null,
            "overflow_x": null,
            "overflow_y": null,
            "padding": null,
            "right": null,
            "top": null,
            "visibility": null,
            "width": null
          }
        },
        "4ac9804ca2c94a2990832c5456047a78": {
          "model_module": "@jupyter-widgets/controls",
          "model_name": "DescriptionStyleModel",
          "model_module_version": "1.5.0",
          "state": {
            "_model_module": "@jupyter-widgets/controls",
            "_model_module_version": "1.5.0",
            "_model_name": "DescriptionStyleModel",
            "_view_count": null,
            "_view_module": "@jupyter-widgets/base",
            "_view_module_version": "1.2.0",
            "_view_name": "StyleView",
            "description_width": ""
          }
        },
        "da8bbf1f650a49b7a4aa182ea40cff2b": {
          "model_module": "@jupyter-widgets/controls",
          "model_name": "HBoxModel",
          "model_module_version": "1.5.0",
          "state": {
            "_dom_classes": [],
            "_model_module": "@jupyter-widgets/controls",
            "_model_module_version": "1.5.0",
            "_model_name": "HBoxModel",
            "_view_count": null,
            "_view_module": "@jupyter-widgets/controls",
            "_view_module_version": "1.5.0",
            "_view_name": "HBoxView",
            "box_style": "",
            "children": [
              "IPY_MODEL_42f77ed664f043a891d765b2fcf34140",
              "IPY_MODEL_f5130c5a256044ef8654d0454eba7293",
              "IPY_MODEL_6ae5641691e24827ada9e9a3f7ee3525"
            ],
            "layout": "IPY_MODEL_29b4b844cceb45c1861e5baa2abc7957"
          }
        },
        "42f77ed664f043a891d765b2fcf34140": {
          "model_module": "@jupyter-widgets/controls",
          "model_name": "HTMLModel",
          "model_module_version": "1.5.0",
          "state": {
            "_dom_classes": [],
            "_model_module": "@jupyter-widgets/controls",
            "_model_module_version": "1.5.0",
            "_model_name": "HTMLModel",
            "_view_count": null,
            "_view_module": "@jupyter-widgets/controls",
            "_view_module_version": "1.5.0",
            "_view_name": "HTMLView",
            "description": "",
            "description_tooltip": null,
            "layout": "IPY_MODEL_2be5151306e34818be5970649bc2730b",
            "placeholder": "​",
            "style": "IPY_MODEL_2720c4dd59e4433989576a3a6bff66a3",
            "value": "model.safetensors: 100%"
          }
        },
        "f5130c5a256044ef8654d0454eba7293": {
          "model_module": "@jupyter-widgets/controls",
          "model_name": "FloatProgressModel",
          "model_module_version": "1.5.0",
          "state": {
            "_dom_classes": [],
            "_model_module": "@jupyter-widgets/controls",
            "_model_module_version": "1.5.0",
            "_model_name": "FloatProgressModel",
            "_view_count": null,
            "_view_module": "@jupyter-widgets/controls",
            "_view_module_version": "1.5.0",
            "_view_name": "ProgressView",
            "bar_style": "success",
            "description": "",
            "description_tooltip": null,
            "layout": "IPY_MODEL_1fb1f7599ec1464c839dd8753a1eb122",
            "max": 267954768,
            "min": 0,
            "orientation": "horizontal",
            "style": "IPY_MODEL_2b9e383a81404307b0e8f46432966273",
            "value": 267954768
          }
        },
        "6ae5641691e24827ada9e9a3f7ee3525": {
          "model_module": "@jupyter-widgets/controls",
          "model_name": "HTMLModel",
          "model_module_version": "1.5.0",
          "state": {
            "_dom_classes": [],
            "_model_module": "@jupyter-widgets/controls",
            "_model_module_version": "1.5.0",
            "_model_name": "HTMLModel",
            "_view_count": null,
            "_view_module": "@jupyter-widgets/controls",
            "_view_module_version": "1.5.0",
            "_view_name": "HTMLView",
            "description": "",
            "description_tooltip": null,
            "layout": "IPY_MODEL_e2ec79c01a7d48b1bb1de102d916d49a",
            "placeholder": "​",
            "style": "IPY_MODEL_024e288bc0ae464ea74315444bbe9188",
            "value": " 268M/268M [00:04&lt;00:00, 62.5MB/s]"
          }
        },
        "29b4b844cceb45c1861e5baa2abc7957": {
          "model_module": "@jupyter-widgets/base",
          "model_name": "LayoutModel",
          "model_module_version": "1.2.0",
          "state": {
            "_model_module": "@jupyter-widgets/base",
            "_model_module_version": "1.2.0",
            "_model_name": "LayoutModel",
            "_view_count": null,
            "_view_module": "@jupyter-widgets/base",
            "_view_module_version": "1.2.0",
            "_view_name": "LayoutView",
            "align_content": null,
            "align_items": null,
            "align_self": null,
            "border": null,
            "bottom": null,
            "display": null,
            "flex": null,
            "flex_flow": null,
            "grid_area": null,
            "grid_auto_columns": null,
            "grid_auto_flow": null,
            "grid_auto_rows": null,
            "grid_column": null,
            "grid_gap": null,
            "grid_row": null,
            "grid_template_areas": null,
            "grid_template_columns": null,
            "grid_template_rows": null,
            "height": null,
            "justify_content": null,
            "justify_items": null,
            "left": null,
            "margin": null,
            "max_height": null,
            "max_width": null,
            "min_height": null,
            "min_width": null,
            "object_fit": null,
            "object_position": null,
            "order": null,
            "overflow": null,
            "overflow_x": null,
            "overflow_y": null,
            "padding": null,
            "right": null,
            "top": null,
            "visibility": null,
            "width": null
          }
        },
        "2be5151306e34818be5970649bc2730b": {
          "model_module": "@jupyter-widgets/base",
          "model_name": "LayoutModel",
          "model_module_version": "1.2.0",
          "state": {
            "_model_module": "@jupyter-widgets/base",
            "_model_module_version": "1.2.0",
            "_model_name": "LayoutModel",
            "_view_count": null,
            "_view_module": "@jupyter-widgets/base",
            "_view_module_version": "1.2.0",
            "_view_name": "LayoutView",
            "align_content": null,
            "align_items": null,
            "align_self": null,
            "border": null,
            "bottom": null,
            "display": null,
            "flex": null,
            "flex_flow": null,
            "grid_area": null,
            "grid_auto_columns": null,
            "grid_auto_flow": null,
            "grid_auto_rows": null,
            "grid_column": null,
            "grid_gap": null,
            "grid_row": null,
            "grid_template_areas": null,
            "grid_template_columns": null,
            "grid_template_rows": null,
            "height": null,
            "justify_content": null,
            "justify_items": null,
            "left": null,
            "margin": null,
            "max_height": null,
            "max_width": null,
            "min_height": null,
            "min_width": null,
            "object_fit": null,
            "object_position": null,
            "order": null,
            "overflow": null,
            "overflow_x": null,
            "overflow_y": null,
            "padding": null,
            "right": null,
            "top": null,
            "visibility": null,
            "width": null
          }
        },
        "2720c4dd59e4433989576a3a6bff66a3": {
          "model_module": "@jupyter-widgets/controls",
          "model_name": "DescriptionStyleModel",
          "model_module_version": "1.5.0",
          "state": {
            "_model_module": "@jupyter-widgets/controls",
            "_model_module_version": "1.5.0",
            "_model_name": "DescriptionStyleModel",
            "_view_count": null,
            "_view_module": "@jupyter-widgets/base",
            "_view_module_version": "1.2.0",
            "_view_name": "StyleView",
            "description_width": ""
          }
        },
        "1fb1f7599ec1464c839dd8753a1eb122": {
          "model_module": "@jupyter-widgets/base",
          "model_name": "LayoutModel",
          "model_module_version": "1.2.0",
          "state": {
            "_model_module": "@jupyter-widgets/base",
            "_model_module_version": "1.2.0",
            "_model_name": "LayoutModel",
            "_view_count": null,
            "_view_module": "@jupyter-widgets/base",
            "_view_module_version": "1.2.0",
            "_view_name": "LayoutView",
            "align_content": null,
            "align_items": null,
            "align_self": null,
            "border": null,
            "bottom": null,
            "display": null,
            "flex": null,
            "flex_flow": null,
            "grid_area": null,
            "grid_auto_columns": null,
            "grid_auto_flow": null,
            "grid_auto_rows": null,
            "grid_column": null,
            "grid_gap": null,
            "grid_row": null,
            "grid_template_areas": null,
            "grid_template_columns": null,
            "grid_template_rows": null,
            "height": null,
            "justify_content": null,
            "justify_items": null,
            "left": null,
            "margin": null,
            "max_height": null,
            "max_width": null,
            "min_height": null,
            "min_width": null,
            "object_fit": null,
            "object_position": null,
            "order": null,
            "overflow": null,
            "overflow_x": null,
            "overflow_y": null,
            "padding": null,
            "right": null,
            "top": null,
            "visibility": null,
            "width": null
          }
        },
        "2b9e383a81404307b0e8f46432966273": {
          "model_module": "@jupyter-widgets/controls",
          "model_name": "ProgressStyleModel",
          "model_module_version": "1.5.0",
          "state": {
            "_model_module": "@jupyter-widgets/controls",
            "_model_module_version": "1.5.0",
            "_model_name": "ProgressStyleModel",
            "_view_count": null,
            "_view_module": "@jupyter-widgets/base",
            "_view_module_version": "1.2.0",
            "_view_name": "StyleView",
            "bar_color": null,
            "description_width": ""
          }
        },
        "e2ec79c01a7d48b1bb1de102d916d49a": {
          "model_module": "@jupyter-widgets/base",
          "model_name": "LayoutModel",
          "model_module_version": "1.2.0",
          "state": {
            "_model_module": "@jupyter-widgets/base",
            "_model_module_version": "1.2.0",
            "_model_name": "LayoutModel",
            "_view_count": null,
            "_view_module": "@jupyter-widgets/base",
            "_view_module_version": "1.2.0",
            "_view_name": "LayoutView",
            "align_content": null,
            "align_items": null,
            "align_self": null,
            "border": null,
            "bottom": null,
            "display": null,
            "flex": null,
            "flex_flow": null,
            "grid_area": null,
            "grid_auto_columns": null,
            "grid_auto_flow": null,
            "grid_auto_rows": null,
            "grid_column": null,
            "grid_gap": null,
            "grid_row": null,
            "grid_template_areas": null,
            "grid_template_columns": null,
            "grid_template_rows": null,
            "height": null,
            "justify_content": null,
            "justify_items": null,
            "left": null,
            "margin": null,
            "max_height": null,
            "max_width": null,
            "min_height": null,
            "min_width": null,
            "object_fit": null,
            "object_position": null,
            "order": null,
            "overflow": null,
            "overflow_x": null,
            "overflow_y": null,
            "padding": null,
            "right": null,
            "top": null,
            "visibility": null,
            "width": null
          }
        },
        "024e288bc0ae464ea74315444bbe9188": {
          "model_module": "@jupyter-widgets/controls",
          "model_name": "DescriptionStyleModel",
          "model_module_version": "1.5.0",
          "state": {
            "_model_module": "@jupyter-widgets/controls",
            "_model_module_version": "1.5.0",
            "_model_name": "DescriptionStyleModel",
            "_view_count": null,
            "_view_module": "@jupyter-widgets/base",
            "_view_module_version": "1.2.0",
            "_view_name": "StyleView",
            "description_width": ""
          }
        },
        "76e7079ffa874166b231b88e9d45dd39": {
          "model_module": "@jupyter-widgets/controls",
          "model_name": "HBoxModel",
          "model_module_version": "1.5.0",
          "state": {
            "_dom_classes": [],
            "_model_module": "@jupyter-widgets/controls",
            "_model_module_version": "1.5.0",
            "_model_name": "HBoxModel",
            "_view_count": null,
            "_view_module": "@jupyter-widgets/controls",
            "_view_module_version": "1.5.0",
            "_view_name": "HBoxView",
            "box_style": "",
            "children": [
              "IPY_MODEL_7318304d34c1487abc9c7642f2a2637a",
              "IPY_MODEL_d56f65892fe5472491f3c086c01872aa",
              "IPY_MODEL_d848b17838c743b199c212282780c1f9"
            ],
            "layout": "IPY_MODEL_f2b130dbb93f47788c6fe32dfdf292a6"
          }
        },
        "7318304d34c1487abc9c7642f2a2637a": {
          "model_module": "@jupyter-widgets/controls",
          "model_name": "HTMLModel",
          "model_module_version": "1.5.0",
          "state": {
            "_dom_classes": [],
            "_model_module": "@jupyter-widgets/controls",
            "_model_module_version": "1.5.0",
            "_model_name": "HTMLModel",
            "_view_count": null,
            "_view_module": "@jupyter-widgets/controls",
            "_view_module_version": "1.5.0",
            "_view_name": "HTMLView",
            "description": "",
            "description_tooltip": null,
            "layout": "IPY_MODEL_4d1f0f8d96a04a5389907d6980cac857",
            "placeholder": "​",
            "style": "IPY_MODEL_700920c5b61c4789ab007985926c2533",
            "value": "Map: 100%"
          }
        },
        "d56f65892fe5472491f3c086c01872aa": {
          "model_module": "@jupyter-widgets/controls",
          "model_name": "FloatProgressModel",
          "model_module_version": "1.5.0",
          "state": {
            "_dom_classes": [],
            "_model_module": "@jupyter-widgets/controls",
            "_model_module_version": "1.5.0",
            "_model_name": "FloatProgressModel",
            "_view_count": null,
            "_view_module": "@jupyter-widgets/controls",
            "_view_module_version": "1.5.0",
            "_view_name": "ProgressView",
            "bar_style": "success",
            "description": "",
            "description_tooltip": null,
            "layout": "IPY_MODEL_fa2cf5a786ae4fdfbc3dfdd95bf416b4",
            "max": 8759,
            "min": 0,
            "orientation": "horizontal",
            "style": "IPY_MODEL_2902385076cd478d997573a5d403ff6d",
            "value": 8759
          }
        },
        "d848b17838c743b199c212282780c1f9": {
          "model_module": "@jupyter-widgets/controls",
          "model_name": "HTMLModel",
          "model_module_version": "1.5.0",
          "state": {
            "_dom_classes": [],
            "_model_module": "@jupyter-widgets/controls",
            "_model_module_version": "1.5.0",
            "_model_name": "HTMLModel",
            "_view_count": null,
            "_view_module": "@jupyter-widgets/controls",
            "_view_module_version": "1.5.0",
            "_view_name": "HTMLView",
            "description": "",
            "description_tooltip": null,
            "layout": "IPY_MODEL_bf99956d9d5b475191a43ab73df9edb2",
            "placeholder": "​",
            "style": "IPY_MODEL_116d0a3c466645a98a5b33a78d1245d2",
            "value": " 8759/8759 [00:40&lt;00:00, 235.43 examples/s]"
          }
        },
        "f2b130dbb93f47788c6fe32dfdf292a6": {
          "model_module": "@jupyter-widgets/base",
          "model_name": "LayoutModel",
          "model_module_version": "1.2.0",
          "state": {
            "_model_module": "@jupyter-widgets/base",
            "_model_module_version": "1.2.0",
            "_model_name": "LayoutModel",
            "_view_count": null,
            "_view_module": "@jupyter-widgets/base",
            "_view_module_version": "1.2.0",
            "_view_name": "LayoutView",
            "align_content": null,
            "align_items": null,
            "align_self": null,
            "border": null,
            "bottom": null,
            "display": null,
            "flex": null,
            "flex_flow": null,
            "grid_area": null,
            "grid_auto_columns": null,
            "grid_auto_flow": null,
            "grid_auto_rows": null,
            "grid_column": null,
            "grid_gap": null,
            "grid_row": null,
            "grid_template_areas": null,
            "grid_template_columns": null,
            "grid_template_rows": null,
            "height": null,
            "justify_content": null,
            "justify_items": null,
            "left": null,
            "margin": null,
            "max_height": null,
            "max_width": null,
            "min_height": null,
            "min_width": null,
            "object_fit": null,
            "object_position": null,
            "order": null,
            "overflow": null,
            "overflow_x": null,
            "overflow_y": null,
            "padding": null,
            "right": null,
            "top": null,
            "visibility": null,
            "width": null
          }
        },
        "4d1f0f8d96a04a5389907d6980cac857": {
          "model_module": "@jupyter-widgets/base",
          "model_name": "LayoutModel",
          "model_module_version": "1.2.0",
          "state": {
            "_model_module": "@jupyter-widgets/base",
            "_model_module_version": "1.2.0",
            "_model_name": "LayoutModel",
            "_view_count": null,
            "_view_module": "@jupyter-widgets/base",
            "_view_module_version": "1.2.0",
            "_view_name": "LayoutView",
            "align_content": null,
            "align_items": null,
            "align_self": null,
            "border": null,
            "bottom": null,
            "display": null,
            "flex": null,
            "flex_flow": null,
            "grid_area": null,
            "grid_auto_columns": null,
            "grid_auto_flow": null,
            "grid_auto_rows": null,
            "grid_column": null,
            "grid_gap": null,
            "grid_row": null,
            "grid_template_areas": null,
            "grid_template_columns": null,
            "grid_template_rows": null,
            "height": null,
            "justify_content": null,
            "justify_items": null,
            "left": null,
            "margin": null,
            "max_height": null,
            "max_width": null,
            "min_height": null,
            "min_width": null,
            "object_fit": null,
            "object_position": null,
            "order": null,
            "overflow": null,
            "overflow_x": null,
            "overflow_y": null,
            "padding": null,
            "right": null,
            "top": null,
            "visibility": null,
            "width": null
          }
        },
        "700920c5b61c4789ab007985926c2533": {
          "model_module": "@jupyter-widgets/controls",
          "model_name": "DescriptionStyleModel",
          "model_module_version": "1.5.0",
          "state": {
            "_model_module": "@jupyter-widgets/controls",
            "_model_module_version": "1.5.0",
            "_model_name": "DescriptionStyleModel",
            "_view_count": null,
            "_view_module": "@jupyter-widgets/base",
            "_view_module_version": "1.2.0",
            "_view_name": "StyleView",
            "description_width": ""
          }
        },
        "fa2cf5a786ae4fdfbc3dfdd95bf416b4": {
          "model_module": "@jupyter-widgets/base",
          "model_name": "LayoutModel",
          "model_module_version": "1.2.0",
          "state": {
            "_model_module": "@jupyter-widgets/base",
            "_model_module_version": "1.2.0",
            "_model_name": "LayoutModel",
            "_view_count": null,
            "_view_module": "@jupyter-widgets/base",
            "_view_module_version": "1.2.0",
            "_view_name": "LayoutView",
            "align_content": null,
            "align_items": null,
            "align_self": null,
            "border": null,
            "bottom": null,
            "display": null,
            "flex": null,
            "flex_flow": null,
            "grid_area": null,
            "grid_auto_columns": null,
            "grid_auto_flow": null,
            "grid_auto_rows": null,
            "grid_column": null,
            "grid_gap": null,
            "grid_row": null,
            "grid_template_areas": null,
            "grid_template_columns": null,
            "grid_template_rows": null,
            "height": null,
            "justify_content": null,
            "justify_items": null,
            "left": null,
            "margin": null,
            "max_height": null,
            "max_width": null,
            "min_height": null,
            "min_width": null,
            "object_fit": null,
            "object_position": null,
            "order": null,
            "overflow": null,
            "overflow_x": null,
            "overflow_y": null,
            "padding": null,
            "right": null,
            "top": null,
            "visibility": null,
            "width": null
          }
        },
        "2902385076cd478d997573a5d403ff6d": {
          "model_module": "@jupyter-widgets/controls",
          "model_name": "ProgressStyleModel",
          "model_module_version": "1.5.0",
          "state": {
            "_model_module": "@jupyter-widgets/controls",
            "_model_module_version": "1.5.0",
            "_model_name": "ProgressStyleModel",
            "_view_count": null,
            "_view_module": "@jupyter-widgets/base",
            "_view_module_version": "1.2.0",
            "_view_name": "StyleView",
            "bar_color": null,
            "description_width": ""
          }
        },
        "bf99956d9d5b475191a43ab73df9edb2": {
          "model_module": "@jupyter-widgets/base",
          "model_name": "LayoutModel",
          "model_module_version": "1.2.0",
          "state": {
            "_model_module": "@jupyter-widgets/base",
            "_model_module_version": "1.2.0",
            "_model_name": "LayoutModel",
            "_view_count": null,
            "_view_module": "@jupyter-widgets/base",
            "_view_module_version": "1.2.0",
            "_view_name": "LayoutView",
            "align_content": null,
            "align_items": null,
            "align_self": null,
            "border": null,
            "bottom": null,
            "display": null,
            "flex": null,
            "flex_flow": null,
            "grid_area": null,
            "grid_auto_columns": null,
            "grid_auto_flow": null,
            "grid_auto_rows": null,
            "grid_column": null,
            "grid_gap": null,
            "grid_row": null,
            "grid_template_areas": null,
            "grid_template_columns": null,
            "grid_template_rows": null,
            "height": null,
            "justify_content": null,
            "justify_items": null,
            "left": null,
            "margin": null,
            "max_height": null,
            "max_width": null,
            "min_height": null,
            "min_width": null,
            "object_fit": null,
            "object_position": null,
            "order": null,
            "overflow": null,
            "overflow_x": null,
            "overflow_y": null,
            "padding": null,
            "right": null,
            "top": null,
            "visibility": null,
            "width": null
          }
        },
        "116d0a3c466645a98a5b33a78d1245d2": {
          "model_module": "@jupyter-widgets/controls",
          "model_name": "DescriptionStyleModel",
          "model_module_version": "1.5.0",
          "state": {
            "_model_module": "@jupyter-widgets/controls",
            "_model_module_version": "1.5.0",
            "_model_name": "DescriptionStyleModel",
            "_view_count": null,
            "_view_module": "@jupyter-widgets/base",
            "_view_module_version": "1.2.0",
            "_view_name": "StyleView",
            "description_width": ""
          }
        },
        "a72703793b784c8a9558cf35c6f34d03": {
          "model_module": "@jupyter-widgets/controls",
          "model_name": "HBoxModel",
          "model_module_version": "1.5.0",
          "state": {
            "_dom_classes": [],
            "_model_module": "@jupyter-widgets/controls",
            "_model_module_version": "1.5.0",
            "_model_name": "HBoxModel",
            "_view_count": null,
            "_view_module": "@jupyter-widgets/controls",
            "_view_module_version": "1.5.0",
            "_view_name": "HBoxView",
            "box_style": "",
            "children": [
              "IPY_MODEL_82e6dbc2f75a40d2b736181883cfaa2f",
              "IPY_MODEL_b3ff041c68654f19a60ebc293f5dc26c",
              "IPY_MODEL_41b11cedcf5c4180a17d3112922f2c24"
            ],
            "layout": "IPY_MODEL_0fa55ab5775b41a894c21184118c515f"
          }
        },
        "82e6dbc2f75a40d2b736181883cfaa2f": {
          "model_module": "@jupyter-widgets/controls",
          "model_name": "HTMLModel",
          "model_module_version": "1.5.0",
          "state": {
            "_dom_classes": [],
            "_model_module": "@jupyter-widgets/controls",
            "_model_module_version": "1.5.0",
            "_model_name": "HTMLModel",
            "_view_count": null,
            "_view_module": "@jupyter-widgets/controls",
            "_view_module_version": "1.5.0",
            "_view_name": "HTMLView",
            "description": "",
            "description_tooltip": null,
            "layout": "IPY_MODEL_73cede9eeba343878e2423415cd0dd97",
            "placeholder": "​",
            "style": "IPY_MODEL_bcf69b11072347cb9b4c7c91e4dc58e0",
            "value": "Map: 100%"
          }
        },
        "b3ff041c68654f19a60ebc293f5dc26c": {
          "model_module": "@jupyter-widgets/controls",
          "model_name": "FloatProgressModel",
          "model_module_version": "1.5.0",
          "state": {
            "_dom_classes": [],
            "_model_module": "@jupyter-widgets/controls",
            "_model_module_version": "1.5.0",
            "_model_name": "FloatProgressModel",
            "_view_count": null,
            "_view_module": "@jupyter-widgets/controls",
            "_view_module_version": "1.5.0",
            "_view_name": "ProgressView",
            "bar_style": "success",
            "description": "",
            "description_tooltip": null,
            "layout": "IPY_MODEL_3218668107c648c4bdb360a7ce062225",
            "max": 1057,
            "min": 0,
            "orientation": "horizontal",
            "style": "IPY_MODEL_36856d550d2e40fbabd1ab33f01f35b5",
            "value": 1057
          }
        },
        "41b11cedcf5c4180a17d3112922f2c24": {
          "model_module": "@jupyter-widgets/controls",
          "model_name": "HTMLModel",
          "model_module_version": "1.5.0",
          "state": {
            "_dom_classes": [],
            "_model_module": "@jupyter-widgets/controls",
            "_model_module_version": "1.5.0",
            "_model_name": "HTMLModel",
            "_view_count": null,
            "_view_module": "@jupyter-widgets/controls",
            "_view_module_version": "1.5.0",
            "_view_name": "HTMLView",
            "description": "",
            "description_tooltip": null,
            "layout": "IPY_MODEL_97460ca1107c40618f265d5e5b42a251",
            "placeholder": "​",
            "style": "IPY_MODEL_ab6ff4e1f2184450be8d6a9b881d5fa1",
            "value": " 1057/1057 [00:03&lt;00:00, 293.57 examples/s]"
          }
        },
        "0fa55ab5775b41a894c21184118c515f": {
          "model_module": "@jupyter-widgets/base",
          "model_name": "LayoutModel",
          "model_module_version": "1.2.0",
          "state": {
            "_model_module": "@jupyter-widgets/base",
            "_model_module_version": "1.2.0",
            "_model_name": "LayoutModel",
            "_view_count": null,
            "_view_module": "@jupyter-widgets/base",
            "_view_module_version": "1.2.0",
            "_view_name": "LayoutView",
            "align_content": null,
            "align_items": null,
            "align_self": null,
            "border": null,
            "bottom": null,
            "display": null,
            "flex": null,
            "flex_flow": null,
            "grid_area": null,
            "grid_auto_columns": null,
            "grid_auto_flow": null,
            "grid_auto_rows": null,
            "grid_column": null,
            "grid_gap": null,
            "grid_row": null,
            "grid_template_areas": null,
            "grid_template_columns": null,
            "grid_template_rows": null,
            "height": null,
            "justify_content": null,
            "justify_items": null,
            "left": null,
            "margin": null,
            "max_height": null,
            "max_width": null,
            "min_height": null,
            "min_width": null,
            "object_fit": null,
            "object_position": null,
            "order": null,
            "overflow": null,
            "overflow_x": null,
            "overflow_y": null,
            "padding": null,
            "right": null,
            "top": null,
            "visibility": null,
            "width": null
          }
        },
        "73cede9eeba343878e2423415cd0dd97": {
          "model_module": "@jupyter-widgets/base",
          "model_name": "LayoutModel",
          "model_module_version": "1.2.0",
          "state": {
            "_model_module": "@jupyter-widgets/base",
            "_model_module_version": "1.2.0",
            "_model_name": "LayoutModel",
            "_view_count": null,
            "_view_module": "@jupyter-widgets/base",
            "_view_module_version": "1.2.0",
            "_view_name": "LayoutView",
            "align_content": null,
            "align_items": null,
            "align_self": null,
            "border": null,
            "bottom": null,
            "display": null,
            "flex": null,
            "flex_flow": null,
            "grid_area": null,
            "grid_auto_columns": null,
            "grid_auto_flow": null,
            "grid_auto_rows": null,
            "grid_column": null,
            "grid_gap": null,
            "grid_row": null,
            "grid_template_areas": null,
            "grid_template_columns": null,
            "grid_template_rows": null,
            "height": null,
            "justify_content": null,
            "justify_items": null,
            "left": null,
            "margin": null,
            "max_height": null,
            "max_width": null,
            "min_height": null,
            "min_width": null,
            "object_fit": null,
            "object_position": null,
            "order": null,
            "overflow": null,
            "overflow_x": null,
            "overflow_y": null,
            "padding": null,
            "right": null,
            "top": null,
            "visibility": null,
            "width": null
          }
        },
        "bcf69b11072347cb9b4c7c91e4dc58e0": {
          "model_module": "@jupyter-widgets/controls",
          "model_name": "DescriptionStyleModel",
          "model_module_version": "1.5.0",
          "state": {
            "_model_module": "@jupyter-widgets/controls",
            "_model_module_version": "1.5.0",
            "_model_name": "DescriptionStyleModel",
            "_view_count": null,
            "_view_module": "@jupyter-widgets/base",
            "_view_module_version": "1.2.0",
            "_view_name": "StyleView",
            "description_width": ""
          }
        },
        "3218668107c648c4bdb360a7ce062225": {
          "model_module": "@jupyter-widgets/base",
          "model_name": "LayoutModel",
          "model_module_version": "1.2.0",
          "state": {
            "_model_module": "@jupyter-widgets/base",
            "_model_module_version": "1.2.0",
            "_model_name": "LayoutModel",
            "_view_count": null,
            "_view_module": "@jupyter-widgets/base",
            "_view_module_version": "1.2.0",
            "_view_name": "LayoutView",
            "align_content": null,
            "align_items": null,
            "align_self": null,
            "border": null,
            "bottom": null,
            "display": null,
            "flex": null,
            "flex_flow": null,
            "grid_area": null,
            "grid_auto_columns": null,
            "grid_auto_flow": null,
            "grid_auto_rows": null,
            "grid_column": null,
            "grid_gap": null,
            "grid_row": null,
            "grid_template_areas": null,
            "grid_template_columns": null,
            "grid_template_rows": null,
            "height": null,
            "justify_content": null,
            "justify_items": null,
            "left": null,
            "margin": null,
            "max_height": null,
            "max_width": null,
            "min_height": null,
            "min_width": null,
            "object_fit": null,
            "object_position": null,
            "order": null,
            "overflow": null,
            "overflow_x": null,
            "overflow_y": null,
            "padding": null,
            "right": null,
            "top": null,
            "visibility": null,
            "width": null
          }
        },
        "36856d550d2e40fbabd1ab33f01f35b5": {
          "model_module": "@jupyter-widgets/controls",
          "model_name": "ProgressStyleModel",
          "model_module_version": "1.5.0",
          "state": {
            "_model_module": "@jupyter-widgets/controls",
            "_model_module_version": "1.5.0",
            "_model_name": "ProgressStyleModel",
            "_view_count": null,
            "_view_module": "@jupyter-widgets/base",
            "_view_module_version": "1.2.0",
            "_view_name": "StyleView",
            "bar_color": null,
            "description_width": ""
          }
        },
        "97460ca1107c40618f265d5e5b42a251": {
          "model_module": "@jupyter-widgets/base",
          "model_name": "LayoutModel",
          "model_module_version": "1.2.0",
          "state": {
            "_model_module": "@jupyter-widgets/base",
            "_model_module_version": "1.2.0",
            "_model_name": "LayoutModel",
            "_view_count": null,
            "_view_module": "@jupyter-widgets/base",
            "_view_module_version": "1.2.0",
            "_view_name": "LayoutView",
            "align_content": null,
            "align_items": null,
            "align_self": null,
            "border": null,
            "bottom": null,
            "display": null,
            "flex": null,
            "flex_flow": null,
            "grid_area": null,
            "grid_auto_columns": null,
            "grid_auto_flow": null,
            "grid_auto_rows": null,
            "grid_column": null,
            "grid_gap": null,
            "grid_row": null,
            "grid_template_areas": null,
            "grid_template_columns": null,
            "grid_template_rows": null,
            "height": null,
            "justify_content": null,
            "justify_items": null,
            "left": null,
            "margin": null,
            "max_height": null,
            "max_width": null,
            "min_height": null,
            "min_width": null,
            "object_fit": null,
            "object_position": null,
            "order": null,
            "overflow": null,
            "overflow_x": null,
            "overflow_y": null,
            "padding": null,
            "right": null,
            "top": null,
            "visibility": null,
            "width": null
          }
        },
        "ab6ff4e1f2184450be8d6a9b881d5fa1": {
          "model_module": "@jupyter-widgets/controls",
          "model_name": "DescriptionStyleModel",
          "model_module_version": "1.5.0",
          "state": {
            "_model_module": "@jupyter-widgets/controls",
            "_model_module_version": "1.5.0",
            "_model_name": "DescriptionStyleModel",
            "_view_count": null,
            "_view_module": "@jupyter-widgets/base",
            "_view_module_version": "1.2.0",
            "_view_name": "StyleView",
            "description_width": ""
          }
        }
      }
    }
  },
  "nbformat": 4,
  "nbformat_minor": 0
}